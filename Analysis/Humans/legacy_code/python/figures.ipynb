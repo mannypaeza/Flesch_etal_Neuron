{
 "metadata": {
  "language_info": {
   "codemirror_mode": {
    "name": "ipython",
    "version": 3
   },
   "file_extension": ".py",
   "mimetype": "text/x-python",
   "name": "python",
   "nbconvert_exporter": "python",
   "pygments_lexer": "ipython3",
   "version": "3.8.5-final"
  },
  "orig_nbformat": 2,
  "kernelspec": {
   "name": "python3",
   "display_name": "Python 3",
   "language": "python"
  }
 },
 "nbformat": 4,
 "nbformat_minor": 2,
 "cells": [
  {
   "cell_type": "code",
   "execution_count": 2,
   "metadata": {},
   "outputs": [],
   "source": [
    "import numpy as np \n",
    "import seaborn as sns \n",
    "import pandas as pd\n",
    "import matplotlib.pyplot as plt \n",
    "from scipy.io import loadmat\n",
    "from plot_utils import *\n",
    "plt.rcParams['svg.fonttype'] = 'none'\n",
    "plt.rcParams['pdf.use14corefonts'] = True\n",
    "%matplotlib qt"
   ]
  },
  {
   "cell_type": "code",
   "execution_count": 1,
   "metadata": {},
   "outputs": [],
   "source": [
    "from sklearn.manifold import MDS"
   ]
  },
  {
   "cell_type": "code",
   "execution_count": null,
   "metadata": {},
   "outputs": [],
   "source": []
  },
  {
   "source": [
    "## 2D visualisation of MDS results"
   ],
   "cell_type": "markdown",
   "metadata": {}
  },
  {
   "cell_type": "code",
   "execution_count": 5,
   "metadata": {},
   "outputs": [],
   "source": [
    "data_dir = 'D:/DPHIL_01_TREES_FMRI/Granada_Complete/exp_3_granada_fmri/results_paper/GLM_3_RSA/GROUP/fmincon_parammodel/'\n",
    "# load data \n",
    "data = loadmat(data_dir + 'allrdms_lrEVC_Par_MCC_DLPFC.mat')['rdms']\n",
    "\n",
    "# roi labels \n",
    "rois = ['leftEVC','rightEVC','rightPAR','MCC','rightDLPFC']\n",
    "\n"
   ]
  },
  {
   "cell_type": "code",
   "execution_count": 7,
   "metadata": {},
   "outputs": [
    {
     "output_type": "stream",
     "name": "stderr",
     "text": [
      "<ipython-input-7-0b27bf8be088>:13: MatplotlibDeprecationWarning: Adding an axes using the same arguments as a previous axes currently reuses the earlier instance.  In a future version, a new instance will always be created and returned.  Meanwhile, this warning can be suppressed, and the future behavior ensured, by passing a unique label to each axes instance.\n  plt.subplot(1,2,1)\n<ipython-input-7-0b27bf8be088>:19: MatplotlibDeprecationWarning: Adding an axes using the same arguments as a previous axes currently reuses the earlier instance.  In a future version, a new instance will always be created and returned.  Meanwhile, this warning can be suppressed, and the future behavior ensured, by passing a unique label to each axes instance.\n  plt.subplot(1,2,2)\n"
     ]
    }
   ],
   "source": [
    "# 1. left evc \n",
    "\n",
    "whichROI = 0\n",
    "rdm = data[:,:,whichROI]\n",
    "embedding = MDS(n_components=3,dissimilarity='precomputed',metric=True)\n",
    "xyz = embedding.fit_transform(rdm)\n",
    "xyz_rot = rotate(xyz,0,axis='z')\n",
    "xyz_rot = rotate(xyz_rot,0,axis='y')\n",
    "xyz_rot = rotate(xyz,0,axis='x')\n",
    "\n",
    "%matplotlib qt\n",
    "plot_2d_mds(xyz_rot,rois[whichROI],tx=0,ty=0,tz=40)\n",
    "plt.subplot(1,2,1)\n",
    "ax = plt.gca()\n",
    "ax.set_xlim([-0.5,0.5])\n",
    "ax.set_ylim([-0.5,0.5]) \n",
    "ax.set_aspect('equal','box')\n",
    "\n",
    "plt.subplot(1,2,2)\n",
    "ax = plt.gca()\n",
    "ax.set_xlim([-0.5,0.5])\n",
    "ax.set_ylim([-0.5,0.5]) \n",
    "ax.set_aspect('equal','box')\n",
    "\n",
    "plt.show()\n",
    "f = plt.gcf() \n",
    "f.set_size_inches((9.8,4.2))"
   ]
  },
  {
   "cell_type": "code",
   "execution_count": 137,
   "metadata": {},
   "outputs": [],
   "source": [
    "# 1. right evc \n",
    "\n",
    "whichROI = 1\n",
    "# rdm = data[:,:,whichROI]\n",
    "# embedding = MDS(n_components=3,dissimilarity='precomputed',metric=True)\n",
    "# xyz = embedding.fit_transform(rdm)\n",
    "xyz_rot = rotate(xyz_rot,0,axis='z')\n",
    "xyz_rot = rotate(xyz_rot,0,axis='y')\n",
    "xyz_rot = rotate(xyz,0,axis='x')\n",
    "\n",
    "%matplotlib qt\n",
    "plot_2d_mds(xyz_rot,rois[whichROI],tx=-25,ty=5,tz=-15)\n",
    "plt.subplot(1,2,1)\n",
    "ax = plt.gca()\n",
    "ax.set_xlim([-0.5,0.5])\n",
    "ax.set_ylim([-0.5,0.5]) \n",
    "ax.set_aspect('equal','box')\n",
    "\n",
    "plt.subplot(1,2,2)\n",
    "ax = plt.gca()\n",
    "ax.set_xlim([-0.5,0.5])\n",
    "ax.set_ylim([-0.5,0.5]) \n",
    "ax.set_aspect('equal','box')\n",
    "\n",
    "plt.show()\n",
    "plt.show()\n",
    "f = plt.gcf() \n",
    "f.set_size_inches((9.8,4.2))"
   ]
  },
  {
   "cell_type": "code",
   "execution_count": 164,
   "metadata": {},
   "outputs": [],
   "source": [
    "# 1. right parietal \n",
    "\n",
    "whichROI = 2\n",
    "# rdm = data[:,:,whichROI]\n",
    "# embedding = MDS(n_components=3,dissimilarity='precomputed',metric=True)\n",
    "# xyz = embedding.fit_transform(rdm)\n",
    "xyz_rot = rotate(xyz_rot,0,axis='z')\n",
    "xyz_rot = rotate(xyz_rot,0,axis='y')\n",
    "xyz_rot = rotate(xyz,0,axis='x')\n",
    "\n",
    "%matplotlib qt\n",
    "plot_2d_mds(xyz_rot,rois[whichROI],tx=15,ty=0,tz=-50)\n",
    "plt.subplot(1,2,1)\n",
    "ax = plt.gca()\n",
    "ax.set_xlim([-0.5,0.5])\n",
    "ax.set_ylim([-0.5,0.5]) \n",
    "ax.set_aspect('equal','box')\n",
    "\n",
    "plt.subplot(1,2,2)\n",
    "ax = plt.gca()\n",
    "ax.set_xlim([-0.5,0.5])\n",
    "ax.set_ylim([-0.5,0.5]) \n",
    "ax.set_aspect('equal','box')\n",
    "\n",
    "plt.show()\n",
    "plt.show()\n",
    "f = plt.gcf() \n",
    "f.set_size_inches((9.8,4.2))"
   ]
  },
  {
   "cell_type": "code",
   "execution_count": 175,
   "metadata": {},
   "outputs": [],
   "source": [
    "# 1. right mcc \n",
    "\n",
    "whichROI = 3\n",
    "# rdm = data[:,:,whichROI]\n",
    "# embedding = MDS(n_components=3,dissimilarity='precomputed',metric=True)\n",
    "# xyz = embedding.fit_transform(rdm)\n",
    "xyz_rot = rotate(xyz_rot,0,axis='z')\n",
    "xyz_rot = rotate(xyz_rot,0,axis='y')\n",
    "xyz_rot = rotate(xyz,0,axis='x')\n",
    "\n",
    "%matplotlib qt\n",
    "plot_2d_mds(xyz_rot,rois[whichROI],tx=0,ty=0,tz=0)\n",
    "plt.subplot(1,2,1)\n",
    "ax = plt.gca()\n",
    "ax.set_xlim([-0.5,0.5])\n",
    "ax.set_ylim([-0.5,0.5]) \n",
    "ax.set_aspect('equal','box')\n",
    "\n",
    "plt.subplot(1,2,2)\n",
    "ax = plt.gca()\n",
    "ax.set_xlim([-0.5,0.5])\n",
    "ax.set_ylim([-0.5,0.5]) \n",
    "ax.set_aspect('equal','box')\n",
    "\n",
    "plt.show()\n",
    "plt.show()\n",
    "f = plt.gcf() \n",
    "f.set_size_inches((9.8,4.2))"
   ]
  },
  {
   "cell_type": "code",
   "execution_count": 183,
   "metadata": {},
   "outputs": [],
   "source": [
    "# 1. right DLPFC \n",
    "\n",
    "whichROI = 4\n",
    "# rdm = data[:,:,whichROI]\n",
    "# embedding = MDS(n_components=3,dissimilarity='precomputed',metric=True)\n",
    "# xyz = embedding.fit_transform(rdm)\n",
    "xyz_rot = rotate(xyz_rot,0,axis='z')\n",
    "xyz_rot = rotate(xyz_rot,0,axis='y')\n",
    "xyz_rot = rotate(xyz,0,axis='x')\n",
    "\n",
    "%matplotlib qt\n",
    "plot_2d_mds(xyz_rot,rois[whichROI],tx=20,ty=10,tz=0)\n",
    "plt.subplot(1,2,1)\n",
    "ax = plt.gca()\n",
    "ax.set_xlim([-0.5,0.5])\n",
    "ax.set_ylim([-0.5,0.5]) \n",
    "ax.set_aspect('equal','box')\n",
    "\n",
    "plt.subplot(1,2,2)\n",
    "ax = plt.gca()\n",
    "ax.set_xlim([-0.5,0.5])\n",
    "ax.set_ylim([-0.5,0.5]) \n",
    "ax.set_aspect('equal','box')\n",
    "\n",
    "plt.show()\n",
    "plt.show()\n",
    "f = plt.gcf() \n",
    "f.set_size_inches((9.8,4.2))"
   ]
  },
  {
   "source": [
    "### kde plots of model fits (bivariate heatmap)"
   ],
   "cell_type": "markdown",
   "metadata": {}
  },
  {
   "cell_type": "code",
   "execution_count": 2,
   "metadata": {},
   "outputs": [],
   "source": [
    "data_dir = 'project/results_paper/GLM_3_RSA/GROUP/compressangle_distribution/'\n",
    "# load data \n",
    "%matplotlib qt\n",
    "data = loadmat(data_dir + 'maxvalues_leftEVC_mod1.mat')['xy']\n",
    "\n",
    "plt.figure(1,figsize=[5.11, 3.32])\n",
    "sns.set_style('ticks')\n",
    "\n",
    "sns.kdeplot(data=data,x=data[:,0],y=data[:,1],fill=True,levels=10,thresh=0,cmap='viridis') # Blues\n",
    "sns.scatterplot(data=data,x=data[:,0],y=data[:,1])\n",
    "plt.errorbar(np.mean(data[:,0]),np.mean(data[:,1]),color='r',xerr=np.std(data[:,0])/np.sqrt(len(data[:,0])),yerr=np.std(data[:,1])/np.sqrt(len(data[:,1])))\n",
    "plt.scatter(np.mean(data[:,0]),np.mean(data[:,1]),color='r')\n",
    "ax = plt.gca()\n",
    "ax.set_xlim([1,182])\n",
    "ax.set_ylim([-1,101])\n",
    "sns.despine(offset=2)\n",
    "plt.xticks(ticks=np.arange(1,182,45),labels=np.arange(-90,91,45))\n",
    "plt.yticks(ticks=np.arange(0,101,25))\n",
    "plt.title('Distribution of best fitting parameters \\n Grid Model, left EVC')\n",
    "plt.xlabel('Rotation (°)')\n",
    "plt.ylabel('Compression, irrel. Dim (%)')\n",
    "plt.tight_layout()"
   ]
  },
  {
   "cell_type": "code",
   "execution_count": 7,
   "metadata": {},
   "outputs": [],
   "source": [
    "data = loadmat(data_dir + 'maxvalues_rightEVC_mod1.mat')['xy']\n",
    "plt.figure(2,figsize=[5.11, 3.32])\n",
    "sns.set_style('ticks')\n",
    "\n",
    "sns.kdeplot(data=data,x=data[:,0],y=data[:,1],fill=True,levels=20,thresh=0,cmap='viridis')\n",
    "sns.scatterplot(data=data,x=data[:,0],y=data[:,1])\n",
    "plt.errorbar(np.mean(data[:,0]),np.mean(data[:,1]),color='r',xerr=np.std(data[:,0])/np.sqrt(len(data[:,0])),yerr=np.std(data[:,1])/np.sqrt(len(data[:,1])))\n",
    "plt.scatter(np.mean(data[:,0]),np.mean(data[:,1]),color='r')\n",
    "ax = plt.gca()\n",
    "ax.set_xlim([1,182])\n",
    "ax.set_ylim([-1,101])\n",
    "sns.despine(offset=2)\n",
    "plt.xticks(ticks=np.arange(1,182,45),labels=np.arange(-90,91,45))\n",
    "plt.yticks(ticks=np.arange(0,101,25))\n",
    "plt.title('Distribution of best fitting parameters \\n Grid Model, right EVC')\n",
    "plt.xlabel('Rotation (°)')\n",
    "plt.ylabel('Compression, irrel. Dim (%)')\n",
    "plt.tight_layout()\n"
   ]
  },
  {
   "cell_type": "code",
   "execution_count": 11,
   "metadata": {},
   "outputs": [],
   "source": [
    "data = loadmat(data_dir + 'maxvalues_rightIFG_mod3.mat')['xy']\n",
    "plt.figure(3,figsize=[5.11, 3.32])\n",
    "sns.set_style('ticks')\n",
    "\n",
    "sns.kdeplot(data=data,x=data[:,0],y=data[:,1],fill=True,levels=10,thresh=0,cmap='viridis')\n",
    "sns.scatterplot(data=data,x=data[:,0],y=data[:,1])\n",
    "plt.errorbar(np.mean(data[:,0]),np.mean(data[:,1]),color='r',xerr=np.std(data[:,0])/np.sqrt(len(data[:,0])),yerr=np.std(data[:,1])/np.sqrt(len(data[:,1])))\n",
    "plt.scatter(np.mean(data[:,0]),np.mean(data[:,1]),color='r')\n",
    "ax = plt.gca()\n",
    "ax.set_xlim([1,182])\n",
    "ax.set_ylim([-1,101])\n",
    "\n",
    "sns.despine(offset=2)\n",
    "plt.xticks(ticks=np.arange(1,182,45),labels=np.arange(-90,91,45))\n",
    "plt.yticks(ticks=np.arange(0,101,25))\n",
    "plt.title('Distribution of best fitting parameters \\n Orthogonal Model, right DLPFC')\n",
    "plt.xlabel('Rotation (°)')\n",
    "plt.ylabel('Compression, irrel. Dim (%)')\n",
    "plt.tight_layout()"
   ]
  },
  {
   "cell_type": "code",
   "execution_count": 89,
   "metadata": {},
   "outputs": [],
   "source": [
    "data = loadmat(data_dir + 'maxvalues_rightPAR_mod3.mat')['xy']\n",
    "plt.figure(4,figsize=[5.11, 3.32])\n",
    "sns.set_style('ticks')\n",
    "\n",
    "sns.kdeplot(data=data,x=data[:,0],y=data[:,1],fill=True,levels=15,thresh=.2,cmap='Blues')\n",
    "sns.scatterplot(data=data,x=data[:,0],y=data[:,1])\n",
    "plt.errorbar(np.mean(data[:,0]),np.mean(data[:,1]),color='r',xerr=np.std(data[:,0])/np.sqrt(len(data[:,0])),yerr=np.std(data[:,1])/np.sqrt(len(data[:,1])))\n",
    "plt.scatter(np.mean(data[:,0]),np.mean(data[:,1]),color='r')\n",
    "ax = plt.gca()\n",
    "ax.set_xlim([1,182])\n",
    "ax.set_ylim([-1,101])\n",
    "sns.despine(offset=2)\n",
    "plt.xticks(ticks=np.arange(1,182,45),labels=np.arange(-90,91,45))\n",
    "plt.yticks(ticks=np.arange(0,101,25))\n",
    "plt.title('Distribution of best fitting parameters \\n Orthogonal Model, right Parietal')\n",
    "plt.xlabel('Rotation (°)')\n",
    "plt.ylabel('Compression, irrel. Dim (%)')\n",
    "plt.tight_layout()"
   ]
  },
  {
   "cell_type": "code",
   "execution_count": 16,
   "metadata": {},
   "outputs": [],
   "source": [
    "data = loadmat(data_dir + 'maxvalues_fullEVC_mod1.mat')['xy']\n",
    "\n",
    "plt.figure(5,figsize=[5.11, 3.32])\n",
    "sns.set_style('ticks')\n",
    "\n",
    "sns.kdeplot(data=data,x=data[:,0],y=data[:,1],fill=True,levels=10,thresh=0,cmap='viridis')\n",
    "sns.scatterplot(data=data,x=data[:,0],y=data[:,1])\n",
    "plt.errorbar(np.mean(data[:,0]),np.mean(data[:,1]),color='r',xerr=np.std(data[:,0])/np.sqrt(len(data[:,0])),yerr=np.std(data[:,1])/np.sqrt(len(data[:,1])))\n",
    "plt.scatter(np.mean(data[:,0]),np.mean(data[:,1]),color='r')\n",
    "ax = plt.gca()\n",
    "ax.set_xlim([1,182])\n",
    "ax.set_ylim([-1,101])\n",
    "sns.despine(offset=2)\n",
    "plt.xticks(ticks=np.arange(1,182,45),labels=np.arange(-90,91,45))\n",
    "plt.yticks(ticks=np.arange(0,101,25))\n",
    "plt.title('Distribution of best fitting parameters \\n Grid Model, bilateral EVC')\n",
    "plt.xlabel('Rotation (°)')\n",
    "plt.ylabel('Compression, irrel. Dim (%)')\n",
    "plt.tight_layout()"
   ]
  },
  {
   "source": [
    "joint plots"
   ],
   "cell_type": "markdown",
   "metadata": {}
  },
  {
   "cell_type": "code",
   "execution_count": 3,
   "metadata": {},
   "outputs": [],
   "source": [
    "data = loadmat(data_dir + 'maxvalues_rightPAR_mod3.mat')['xy']\n",
    "# plt.figure(4,figsize=[5.11, 3.32])\n",
    "\n",
    "\n",
    "g = sns.JointGrid(height=4)\n",
    "sns.set_style('ticks')\n",
    "# joint\n",
    "sns.kdeplot(data=data,x=data[:,0],y=data[:,1],fill=True,levels=20,thresh=0,cmap='viridis',ax=g.ax_joint)\n",
    "sns.scatterplot(data=data,x=data[:,0],y=data[:,1],ax=g.ax_joint)\n",
    "\n",
    "# joint, best fit\n",
    "ax = g.ax_joint\n",
    "ax.errorbar(np.mean(data[:,0]),np.mean(data[:,1]),color='r',xerr=np.std(data[:,0])/np.sqrt(len(data[:,0])),yerr=np.std(data[:,1])/np.sqrt(len(data[:,1])))\n",
    "ax.scatter(np.mean(data[:,0]),np.mean(data[:,1]),color='r')\n",
    "\n",
    "ax.set_xlim([1,182])\n",
    "ax.set_ylim([-1,101])\n",
    "ax.set_xticks(ticks=np.arange(1,182,45))\n",
    "ax.set_xticklabels(labels=np.arange(-90,91,45))\n",
    "ax.set_yticks(ticks=np.arange(0,101,25))\n",
    "ax.set_xlabel('Rotation (°)')\n",
    "ax.set_ylabel('Compression, irrel. Dim (%)')\n",
    "\n",
    "# sns.despine(offset=2)\n",
    "# marginals\n",
    "# sns.kdeplot(y=data[:,1],fill=True,ax=g.ax_marg_y,clip=[-1,101],color='k')\n",
    "# sns.kdeplot(x=data[:,0],fill=True,ax=g.ax_marg_x,clip=[1,182],color='k')\n",
    "sns.histplot(y=data[:,1],ax=g.ax_marg_y,color=(0, 0, .2),kde=False)\n",
    "sns.histplot(x=data[:,0],ax=g.ax_marg_x,color=(0, 0, .2),kde=False)\n",
    "ax = g.ax_marg_x\n",
    "# ax.set_title('Distribution of best fitting parameters \\n right Parietal')\n",
    "plt.tight_layout()\n",
    "f = plt.gcf()\n",
    "f.set_size_inches(4.09, 3.08)\n",
    "\n",
    "\n",
    "# sns.scatterplot(data=data,x=data[:,0],y=data[:,1])\n",
    "# plt.errorbar(np.mean(data[:,0]),np.mean(data[:,1]),color='r',xerr=np.std(data[:,0])/np.sqrt(len(data[:,0])),yerr=np.std(data[:,1])/np.sqrt(len(data[:,1])))\n",
    "# plt.scatter(np.mean(data[:,0]),np.mean(data[:,1]),color='r')"
   ]
  },
  {
   "source": [
    "## New Parametrised Model (6 params)"
   ],
   "cell_type": "markdown",
   "metadata": {}
  },
  {
   "cell_type": "code",
   "execution_count": 2,
   "metadata": {},
   "outputs": [],
   "source": [
    "data_dir = 'project/results_paper/GLM_3_RSA/GROUP/fmincon_parammodel/'"
   ]
  },
  {
   "cell_type": "code",
   "execution_count": 12,
   "metadata": {},
   "outputs": [],
   "source": [
    "def helper_jointplot(data,titlestr):\n",
    "\n",
    "    g = sns.JointGrid(height=4)\n",
    "    sns.set_style('ticks')\n",
    "    # joint\n",
    "    sns.kdeplot(data=data,x=data[:,0],y=data[:,1],fill=True,levels=10,thresh=0,cmap='viridis',ax=g.ax_joint)\n",
    "    sns.scatterplot(data=data,x=data[:,0],y=data[:,1],ax=g.ax_joint)\n",
    "\n",
    "    # joint, best fit\n",
    "    ax = g.ax_joint\n",
    "    ax.errorbar(np.mean(data[:,0]),np.mean(data[:,1]),color='r',xerr=np.std(data[:,0])/np.sqrt(len(data[:,0])),yerr=np.std(data[:,1])/np.sqrt(len(data[:,1])))\n",
    "    ax.scatter(np.mean(data[:,0]),np.mean(data[:,1]),color='r')\n",
    "    ax.plot(np.array([0,1]),np.array([0,1]),'r--')\n",
    "    ax.set_xlim([0,1])\n",
    "    ax.set_ylim([0,1])\n",
    "    # ax.set_xticks(ticks=np.arange(1,182,45))\n",
    "    # ax.set_xticklabels(labels=np.arange(-90,91,45))\n",
    "    # ax.set_yticks(ticks=np.arange(0,101,25))\n",
    "    ax.set_xlabel('Compression, rel. dim.')\n",
    "    ax.set_ylabel('Compression, irrel. dim.')\n",
    "\n",
    "\n",
    "    # marginals\n",
    "    # sns.kdeplot(y=data[:,1],fill=True,ax=g.ax_marg_y,clip=[0,1],color=(0,0,.2))\n",
    "    # sns.kdeplot(x=data[:,0],fill=True,ax=g.ax_marg_x,clip=[0,1],color=(0,0,.2))\n",
    "    sns.histplot(y=data[:,1],ax=g.ax_marg_y,color=(0, 0, .2),kde=False)\n",
    "    sns.histplot(x=data[:,0],ax=g.ax_marg_x,color=(0, 0, .2),kde=False)\n",
    "    ax = g.ax_marg_x\n",
    "    ax.set_title(titlestr)\n",
    "    plt.tight_layout()\n",
    "    f = plt.gcf()\n",
    "    f.set_size_inches(4.09, 3.08)\n",
    "\n",
    "def spiceUp_figure(fIDX,xlabels):\n",
    "    plt.figure(fIDX)\n",
    "    ax = plt.gca()\n",
    "    ax.spines['top'].set_visible(False)\n",
    "    ax.spines['right'].set_visible(False)\n",
    "    # ticks = plt.xticks(ticks=np.arange(len(xlabels)))\n",
    "    plt.xticks(ticks=np.arange(len(xlabels)),labels=xlabels,rotation=90)\n",
    "    plt.xlabel('Cross-Validated ROI')\n",
    "    \n",
    "    "
   ]
  },
  {
   "source": [
    "### All candidate ROIs\n"
   ],
   "cell_type": "markdown",
   "metadata": {}
  },
  {
   "cell_type": "code",
   "execution_count": 13,
   "metadata": {},
   "outputs": [],
   "source": [
    "data_dir = 'D:/DPHIL_01_TREES_FMRI/Granada_Complete/exp_3_granada_fmri/results_paper/GLM_3_RSA/GROUP/fmincon_parammodel/'\n",
    "\n",
    "roi_files = ['results_fmincon_parametrised_rdms_leftEVC_all7mods_mod5_.mat',\n",
    "'results_fmincon_parametrised_rdms_rightEVC_all7mods_mod5_.mat',\n",
    "'results_fmincon_parametrised_rdms_rightPAR_all7mods_mod3_.mat',\n",
    "'results_fmincon_parametrised_rdms_rightMCC_all7mods_mod3_.mat',\n",
    "'results_fmincon_parametrised_rdms_rightDLPFC_all7mods_mod3_.mat']\n",
    "\n",
    "roi_names = ['left EVC ', 'right EVC', 'right Parietal', 'MCC', 'right DLPFC']\n",
    "\n",
    "\n",
    "for ii,nm in enumerate(roi_files):\n",
    "\n",
    "    all_data = loadmat(data_dir + nm)['results']['betas_hat'][0][0]\n",
    "\n",
    "    # plot relative compression\n",
    "    plt.figure(1)\n",
    "    # north & south task task\n",
    "    comp_north = np.log(all_data[:,0]/all_data[:,2])\n",
    "    comp_south = np.log(all_data[:,1]/all_data[:,3])\n",
    "    bn = plt.bar(ii-0.1,np.mean(comp_north),yerr=np.std(comp_north)/(len(comp_north)**.5),width=0.3,linewidth=2,color=(0,0,.8),zorder=1)\n",
    "    bs = plt.bar(ii+0.2,np.mean(comp_south),yerr=np.std(comp_south)/(len(comp_south)**.5),width=0.3,linewidth=2,color=(1,0.7,0),zorder=1)\n",
    "    plt.scatter(np.repeat((ii-0.1),len(comp_north))+np.random.randn(len(comp_north))*0.01,comp_north,color=(0,0,.8),alpha=0.15,zorder=3,s=20,edgecolors='k')\n",
    "    plt.scatter(np.repeat((ii+0.2),len(comp_south))+np.random.randn(len(comp_north))*0.01,comp_south,color=(1,0.7,0),alpha=0.15,zorder=3,s=20,edgecolors='k')\n",
    "    spiceUp_figure(1,roi_names)\n",
    "    plt.ylabel('log(rel/irrel)')\n",
    "    plt.title('Estimated Compression \\n Relevant vs Irrelevant Dimension')\n",
    "    plt.legend([bn,bs],['North Task','South Task'],frameon=False,loc=1)\n",
    "\n",
    "    \n",
    "    # plot estimated angle \n",
    "    plt.figure(2)\n",
    "    phi_est = np.abs(all_data[:,4])\n",
    "    bph = plt.bar(ii,np.mean(phi_est),yerr=np.std(phi_est)/(len(phi_est)**.5),width=0.3,color=(0.7,0.7,.7),zorder=1)\n",
    "    plt.scatter(np.repeat(ii,len(phi_est))+np.random.randn(len(comp_north))*0.01,phi_est,color=(0.7,0.7,.7),alpha=0.3,zorder=3,s=20,edgecolors='k')\n",
    "    spiceUp_figure(2,roi_names)\n",
    "    plt.ylabel('abs(rotation) (°)')\n",
    "    plt.ylim([0,90])\n",
    "    plt.title('Estimated Rotation \\n from Stimulus to Response Space')\n",
    "\n",
    "    # estimated ctx offset \n",
    "    plt.figure(3)\n",
    "    ctx_est = all_data[:,5]\n",
    "    bctx = plt.bar(ii,np.mean(ctx_est),yerr=np.std(ctx_est)/(len(ctx_est)**.5),width=0.3,color=(0.7,0.7,.7))\n",
    "    plt.scatter(np.repeat(ii,len(ctx_est))+np.random.randn(len(comp_north))*0.01,ctx_est,color=(0.7,0.7,.7),alpha=0.3,zorder=3,s=20,edgecolors='k')\n",
    "    spiceUp_figure(3,roi_names)\n",
    "    plt.ylabel('ctx offset (a.u.)')\n",
    "    plt.title('Estimated Context Offset Parameter')\n",
    "    plt.ylim([0,2])\n",
    "\n",
    "\n",
    "plt.figure(1)\n",
    "plt.ylim([-1,1])\n",
    "lims = plt.xlim()\n",
    "plt.plot(lims,[0,0],'k-')\n",
    "f = plt.gcf()\n",
    "f.set_size_inches([3.82, 4.56])\n",
    "f.tight_layout()\n",
    "plt.figure(2)\n",
    "plt.ylim([-5,91])\n",
    "lims = plt.xlim()\n",
    "plt.plot(lims,[0,0],'k-')\n",
    "f = plt.gcf()\n",
    "f.set_size_inches([3.82, 4.56])\n",
    "f.tight_layout()\n",
    "plt.figure(3)\n",
    "f = plt.gcf()\n",
    "f.set_size_inches([3.82, 4.56])\n",
    "f.tight_layout()\n"
   ]
  },
  {
   "cell_type": "code",
   "execution_count": 10,
   "metadata": {},
   "outputs": [],
   "source": [
    "f = plt.gcf()\n",
    "f.set_size_inches([3.82, 4.56])\n",
    "f.tight_layout()"
   ]
  },
  {
   "cell_type": "code",
   "execution_count": 69,
   "metadata": {},
   "outputs": [
    {
     "output_type": "execute_result",
     "data": {
      "text/plain": [
       "(-1, 1)"
      ]
     },
     "metadata": {},
     "execution_count": 69
    }
   ],
   "source": [
    "plt.figure(1)\n",
    "plt.ylim([-1,1])\n"
   ]
  },
  {
   "source": [
    "### DLPFC"
   ],
   "cell_type": "markdown",
   "metadata": {}
  },
  {
   "cell_type": "code",
   "execution_count": 5,
   "metadata": {},
   "outputs": [],
   "source": [
    "all_data = loadmat(data_dir + 'results_fmincon_parametrised_rdms_rightDLPFC_all7mods_mod3_.mat')['results']['betas_hat'][0][0]\n",
    "\n",
    "helper_jointplot(all_data[:,[0,2]],'DLPFC, North Task (Leafiness)')\n",
    "helper_jointplot(all_data[:,[1,3]],'DLPFC, South Task (Branchiness)')\n"
   ]
  },
  {
   "cell_type": "code",
   "execution_count": 25,
   "metadata": {},
   "outputs": [],
   "source": []
  },
  {
   "source": [
    "## Brain Behaviour Correlations"
   ],
   "cell_type": "markdown",
   "metadata": {}
  },
  {
   "cell_type": "code",
   "execution_count": 3,
   "metadata": {},
   "outputs": [],
   "source": [
    "data_dir = 'project/results_paper/python/'"
   ]
  },
  {
   "source": [
    "### Task Factorisation"
   ],
   "cell_type": "markdown",
   "metadata": {}
  },
  {
   "cell_type": "code",
   "execution_count": 4,
   "metadata": {},
   "outputs": [],
   "source": [
    "from scipy.stats import kendalltau"
   ]
  },
  {
   "cell_type": "code",
   "execution_count": 5,
   "metadata": {},
   "outputs": [],
   "source": [
    "# load data \n",
    "behav_scores = loadmat(data_dir + 'behav_task_factorisation_betas.mat')['behav_scores']\n"
   ]
  },
  {
   "cell_type": "code",
   "execution_count": 29,
   "metadata": {},
   "outputs": [
    {
     "output_type": "execute_result",
     "data": {
      "text/plain": [
       "Text(0.25, 0.07, 'p=0.457')"
      ]
     },
     "metadata": {},
     "execution_count": 29
    }
   ],
   "source": [
    "#1. left evc \n",
    "# load data \n",
    "neuro_scores = loadmat(data_dir + 'neuro_task_factorisation_all7mods_leftEVC.mat')['neuro_scores']\n",
    "\n",
    "data_dict = {'x':behav_scores.flatten(),'y':neuro_scores.flatten()}\n",
    "data = pd.DataFrame(data_dict)\n",
    "_ = sns.lmplot(x='x',y='y',data=data,x_ci='ci',ci=95)\n",
    "plt.scatter(data_dict['x'],data_dict['y'],color=(0,.4,.9),alpha=0.65,s=30,edgecolors='k')\n",
    "plt.xlabel('behav. axis alignment')\n",
    "plt.ylabel('neural task factorisation')\n",
    "plt.title('Correlation Brain & Behav \\n left EVC')\n",
    "plt.tight_layout()\n",
    "t,p = kendalltau(behav_scores,neuro_scores)\n",
    "t = np.round(t,2)\n",
    "p = np.round(p,3)\n",
    "plt.ylim([-0.03,0.12])\n",
    "plt.text(0.25,0.08,r'$\\tau$=' + str(t))\n",
    "plt.text(0.25,0.07,'p=' + str(p))\n"
   ]
  },
  {
   "cell_type": "code",
   "execution_count": 30,
   "metadata": {},
   "outputs": [
    {
     "output_type": "execute_result",
     "data": {
      "text/plain": [
       "(-0.03, 0.12)"
      ]
     },
     "metadata": {},
     "execution_count": 30
    }
   ],
   "source": [
    "#1. right evc \n",
    "# load data \n",
    "neuro_scores = loadmat(data_dir + 'neuro_task_factorisation_all7mods_rightEVC.mat')['neuro_scores']\n",
    "\n",
    "data_dict = {'x':behav_scores.flatten(),'y':neuro_scores.flatten()}\n",
    "data = pd.DataFrame(data_dict)\n",
    "_ = sns.lmplot(x='x',y='y',data=data,x_ci='ci',ci=95)\n",
    "plt.scatter(data_dict['x'],data_dict['y'],color=(0,.4,.9),alpha=0.65,s=30,edgecolors='k')\n",
    "plt.xlabel('behav. axis alignment')\n",
    "plt.ylabel('neural task factorisation')\n",
    "plt.title('Correlation Brain & Behav \\n right EVC')\n",
    "plt.tight_layout()\n",
    "t,p = kendalltau(behav_scores,neuro_scores)\n",
    "t = np.round(t,2)\n",
    "p = np.round(p,3)\n",
    "\n",
    "plt.text(0.25,0.08,r'$\\tau$=' + str(t))\n",
    "plt.text(0.25,0.07,'p=' + str(p))\n",
    "plt.ylim([-0.03,0.12])"
   ]
  },
  {
   "cell_type": "code",
   "execution_count": 32,
   "metadata": {},
   "outputs": [
    {
     "output_type": "execute_result",
     "data": {
      "text/plain": [
       "Text(0.32, 0.07, 'p=0.038')"
      ]
     },
     "metadata": {},
     "execution_count": 32
    }
   ],
   "source": [
    "#2. parietal \n",
    "# load data \n",
    "neuro_scores = loadmat(data_dir + 'neuro_task_factorisation_all7mods_rightPAR.mat')['neuro_scores']\n",
    "\n",
    "data_dict = {'x':behav_scores.flatten(),'y':neuro_scores.flatten()}\n",
    "data = pd.DataFrame(data_dict)\n",
    "_ = sns.lmplot(x='x',y='y',data=data,x_ci='ci',ci=95,scatter=False)\n",
    "plt.scatter(data_dict['x'],data_dict['y'],color=(0,.4,.9),alpha=0.65,s=30,edgecolors='k')\n",
    "plt.xlabel('behav. axis alignment')\n",
    "plt.ylabel('neural task factorisation')\n",
    "plt.title('Correlation Brain & Behav \\n right Parietal')\n",
    "plt.tight_layout()\n",
    "t,p = kendalltau(behav_scores,neuro_scores)\n",
    "t = np.round(t,2)\n",
    "p = np.round(p,3)\n",
    "plt.ylim([-0.03,0.12])\n",
    "plt.xlim([np.min(data_dict['x'])*1,np.max(data_dict['x'])*1])\n",
    "plt.text(0.32,0.08,r'$\\tau$=' + str(t))\n",
    "plt.text(0.32,0.07,'p=' + str(p))\n",
    "# sns.despine(offset=2)\n"
   ]
  },
  {
   "cell_type": "code",
   "execution_count": 34,
   "metadata": {},
   "outputs": [
    {
     "output_type": "execute_result",
     "data": {
      "text/plain": [
       "Text(0.32, 0.07, 'p=0.003')"
      ]
     },
     "metadata": {},
     "execution_count": 34
    }
   ],
   "source": [
    "#3. dlpfc \n",
    "# load data \n",
    "neuro_scores = loadmat(data_dir + 'neuro_task_factorisation_all7mods_rightDLPFC.mat')['neuro_scores']\n",
    "\n",
    "data_dict = {'x':behav_scores.flatten(),'y':neuro_scores.flatten()}\n",
    "data = pd.DataFrame(data_dict)\n",
    "fig = sns.lmplot(x='x',y='y',data=data,x_ci='ci',ci=95)\n",
    "plt.scatter(data_dict['x'],data_dict['y'],color=(0,.4,.9),alpha=0.65,s=30,edgecolors='k')\n",
    "plt.xlabel('behav. axis alignment')\n",
    "plt.ylabel('neural task factorisation')\n",
    "plt.title('Correlation Brain & Behav \\n right DLPFC')\n",
    "plt.tight_layout()\n",
    "plt.tight_layout()\n",
    "t,p = kendalltau(behav_scores,neuro_scores)\n",
    "t = np.round(t,2)\n",
    "p = np.round(p,3)\n",
    "plt.xlim([np.min(data_dict['x'])*1,np.max(data_dict['x'])*1])\n",
    "plt.ylim([-0.03,0.12])\n",
    "plt.text(0.32,0.08,r'$\\tau$=' + str(t))\n",
    "plt.text(0.32,0.07,'p=' + str(p))"
   ]
  },
  {
   "cell_type": "code",
   "execution_count": 14,
   "metadata": {},
   "outputs": [
    {
     "output_type": "execute_result",
     "data": {
      "text/plain": [
       "<seaborn.axisgrid.FacetGrid at 0x7f9f70a33f10>"
      ]
     },
     "metadata": {},
     "execution_count": 14
    }
   ],
   "source": []
  },
  {
   "cell_type": "code",
   "execution_count": 33,
   "metadata": {},
   "outputs": [
    {
     "output_type": "execute_result",
     "data": {
      "text/plain": [
       "Text(0.32, 0.07, 'p=0.005')"
      ]
     },
     "metadata": {},
     "execution_count": 33
    }
   ],
   "source": [
    "#3. MCC \n",
    "# load data \n",
    "neuro_scores = loadmat(data_dir + 'neuro_task_factorisation_all7mods_rightMCC.mat')['neuro_scores']\n",
    "\n",
    "data_dict = {'x':behav_scores.flatten(),'y':neuro_scores.flatten()}\n",
    "data = pd.DataFrame(data_dict)\n",
    "_ = sns.lmplot(x='x',y='y',data=data,x_ci='ci',ci=95)\n",
    "plt.scatter(data_dict['x'],data_dict['y'],color=(0,.4,.9),alpha=0.65,s=30,edgecolors='k')\n",
    "plt.xlabel('behav. axis alignment')\n",
    "plt.ylabel('neural task factorisation')\n",
    "plt.title('Correlation Brain & Behav \\n MCC')\n",
    "plt.tight_layout()\n",
    "plt.tight_layout()\n",
    "t,p = kendalltau(behav_scores,neuro_scores)\n",
    "t = np.round(t,2)\n",
    "p = np.round(p,3)\n",
    "plt.xlim([np.min(data_dict['x'])*1,np.max(data_dict['x'])*1])\n",
    "plt.ylim([-0.03,0.12])\n",
    "plt.text(0.32,0.08,r'$\\tau$=' + str(t))\n",
    "plt.text(0.32,0.07,'p=' + str(p))"
   ]
  },
  {
   "source": [
    "### grid prior"
   ],
   "cell_type": "markdown",
   "metadata": {}
  },
  {
   "cell_type": "code",
   "execution_count": 11,
   "metadata": {},
   "outputs": [],
   "source": [
    "# load data \n",
    "gridprior = loadmat(data_dir + 'behav_gridprior.mat')['gridprior']\n",
    "accuracy = loadmat(data_dir + 'behav_accuracy_scan.mat')['acc_scan']\n"
   ]
  },
  {
   "cell_type": "code",
   "execution_count": 42,
   "metadata": {},
   "outputs": [
    {
     "output_type": "execute_result",
     "data": {
      "text/plain": [
       "array([3.82, 4.56])"
      ]
     },
     "metadata": {},
     "execution_count": 42
    }
   ],
   "source": [
    "f = plt.gcf()\n",
    "f.get_size_inches()"
   ]
  },
  {
   "cell_type": "code",
   "execution_count": 13,
   "metadata": {},
   "outputs": [
    {
     "output_type": "execute_result",
     "data": {
      "text/plain": [
       "Text(0.8, -0.07, 'p=0.395')"
      ]
     },
     "metadata": {},
     "execution_count": 13
    }
   ],
   "source": [
    "#1. evc \n",
    "# load data \n",
    "neuro_scores = loadmat(data_dir + 'neuro_task_factorisation_all7mods_leftEVC.mat')['neuro_scores']\n",
    "\n",
    "data_dict = {'x':gridprior.flatten(),'y':neuro_scores.flatten()}\n",
    "data = pd.DataFrame(data_dict)\n",
    "_ = sns.lmplot(x='x',y='y',data=data,x_ci='ci',ci=95)\n",
    "plt.xlabel('grid prior')\n",
    "plt.ylabel('neural task factorisation')\n",
    "plt.title('Correlation between brain and behaviour, EVC')\n",
    "plt.tight_layout()\n",
    "t,p = kendalltau(gridprior,neuro_scores)\n",
    "t = np.round(t,2)\n",
    "p = np.round(p,3)\n",
    "\n",
    "plt.text(0.8,-0.06,r'$\\tau$=' + str(t))\n",
    "plt.text(0.8,-0.07,'p=' + str(p))\n"
   ]
  },
  {
   "cell_type": "code",
   "execution_count": 14,
   "metadata": {},
   "outputs": [
    {
     "output_type": "execute_result",
     "data": {
      "text/plain": [
       "Text(0.8, -0.01, 'p=0.944')"
      ]
     },
     "metadata": {},
     "execution_count": 14
    }
   ],
   "source": [
    "# 2. parietal \n",
    "# load data \n",
    "neuro_scores = loadmat(data_dir + 'neuro_task_factorisation_all7mods_rightPAR.mat')['neuro_scores']\n",
    "\n",
    "data_dict = {'x':gridprior.flatten(),'y':neuro_scores.flatten()}\n",
    "data = pd.DataFrame(data_dict)\n",
    "_ = sns.lmplot(x='x',y='y',data=data,x_ci='ci',ci=95)\n",
    "plt.xlabel('grid prior')\n",
    "plt.ylabel('neural task factorisation')\n",
    "plt.title('Correlation between brain and behaviour, Parietal')\n",
    "plt.tight_layout()\n",
    "t,p = kendalltau(gridprior,neuro_scores)\n",
    "t = np.round(t,2)\n",
    "p = np.round(p,3)\n",
    "\n",
    "plt.text(0.8,0,r'$\\tau$=' + str(t))\n",
    "plt.text(0.8,-0.01,'p=' + str(p))\n"
   ]
  },
  {
   "cell_type": "code",
   "execution_count": 15,
   "metadata": {},
   "outputs": [
    {
     "output_type": "execute_result",
     "data": {
      "text/plain": [
       "Text(0.8, -0.01, 'p=0.777')"
      ]
     },
     "metadata": {},
     "execution_count": 15
    }
   ],
   "source": [
    "# 3. dlpfc\n",
    "# load data \n",
    "neuro_scores = loadmat(data_dir + 'neuro_task_factorisation_all7mods_rightDLPFC.mat')['neuro_scores']\n",
    "\n",
    "data_dict = {'x':gridprior.flatten(),'y':neuro_scores.flatten()}\n",
    "data = pd.DataFrame(data_dict)\n",
    "_ = sns.lmplot(x='x',y='y',data=data,x_ci='ci',ci=95)\n",
    "plt.xlabel('grid prior')\n",
    "plt.ylabel('neural task factorisation')\n",
    "plt.title('Correlation between brain and behaviour, DLPFC')\n",
    "plt.tight_layout()\n",
    "t,p = kendalltau(gridprior,neuro_scores)\n",
    "t = np.round(t,2)\n",
    "p = np.round(p,3)\n",
    "\n",
    "plt.text(0.8,0,r'$\\tau$=' + str(t))\n",
    "plt.text(0.8,-0.01,'p=' + str(p))\n"
   ]
  },
  {
   "cell_type": "code",
   "execution_count": 15,
   "metadata": {},
   "outputs": [
    {
     "output_type": "execute_result",
     "data": {
      "text/plain": [
       "Text(0.8, 0.68, 'p=0.304')"
      ]
     },
     "metadata": {},
     "execution_count": 15
    }
   ],
   "source": [
    "# accuracy\n",
    "\n",
    "data_dict = {'x':gridprior.flatten(),'y':accuracy.flatten()}\n",
    "data = pd.DataFrame(data_dict)\n",
    "_ = sns.lmplot(x='x',y='y',data=data,x_ci='ci',ci=95)\n",
    "plt.xlabel('grid prior')\n",
    "plt.ylabel('accuracy')\n",
    "plt.title('Correlation between grid prior and accuracy')\n",
    "plt.tight_layout()\n",
    "t,p = kendalltau(gridprior,neuro_scores)\n",
    "t = np.round(t,2)\n",
    "p = np.round(p,3)\n",
    "\n",
    "plt.text(0.8,.7,r'$\\tau$=' + str(t))\n",
    "plt.text(0.8,.68,'p=' + str(p))\n"
   ]
  },
  {
   "source": [
    "### accuracy"
   ],
   "cell_type": "markdown",
   "metadata": {}
  },
  {
   "cell_type": "code",
   "execution_count": 16,
   "metadata": {},
   "outputs": [
    {
     "output_type": "execute_result",
     "data": {
      "text/plain": [
       "Text(0.8, -0.07, 'p=0.104')"
      ]
     },
     "metadata": {},
     "execution_count": 16
    }
   ],
   "source": [
    "#1. evc \n",
    "# load data \n",
    "neuro_scores = loadmat(data_dir + 'neuro_task_factorisation_all7mods_rightEVC.mat')['neuro_scores']\n",
    "\n",
    "data_dict = {'x':accuracy.flatten(),'y':neuro_scores.flatten()}\n",
    "data = pd.DataFrame(data_dict)\n",
    "_ = sns.lmplot(x='x',y='y',data=data,x_ci='ci',ci=95)\n",
    "plt.xlabel('accuracy')\n",
    "plt.ylabel('neural task factorisation')\n",
    "plt.title('Correlation between brain and behaviour, EVC')\n",
    "plt.tight_layout()\n",
    "t,p = kendalltau(accuracy,neuro_scores)\n",
    "t = np.round(t,2)\n",
    "p = np.round(p,3)\n",
    "\n",
    "plt.text(0.8,-0.06,r'$\\tau$=' + str(t))\n",
    "plt.text(0.8,-0.07,'p=' + str(p))\n"
   ]
  },
  {
   "cell_type": "code",
   "execution_count": 17,
   "metadata": {},
   "outputs": [
    {
     "output_type": "execute_result",
     "data": {
      "text/plain": [
       "Text(0.8, -0.01, 'p=0.083')"
      ]
     },
     "metadata": {},
     "execution_count": 17
    }
   ],
   "source": [
    "#2. parietal \n",
    "# load data \n",
    "neuro_scores = loadmat(data_dir + 'neuro_task_factorisation_all7mods_rightPAR.mat')['neuro_scores']\n",
    "\n",
    "data_dict = {'x':accuracy.flatten(),'y':neuro_scores.flatten()}\n",
    "data = pd.DataFrame(data_dict)\n",
    "_ = sns.lmplot(x='x',y='y',data=data,x_ci='ci',ci=95)\n",
    "plt.xlabel('accuracy')\n",
    "plt.ylabel('neural task factorisation')\n",
    "plt.title('Correlation between brain and behaviour, parietal')\n",
    "plt.tight_layout()\n",
    "t,p = kendalltau(accuracy,neuro_scores)\n",
    "t = np.round(t,2)\n",
    "p = np.round(p,3)\n",
    "\n",
    "plt.text(0.8,0,r'$\\tau$=' + str(t))\n",
    "plt.text(0.8,-0.01,'p=' + str(p))\n"
   ]
  },
  {
   "cell_type": "code",
   "execution_count": 18,
   "metadata": {},
   "outputs": [
    {
     "output_type": "execute_result",
     "data": {
      "text/plain": [
       "Text(0.8, -0.01, 'p=0.001')"
      ]
     },
     "metadata": {},
     "execution_count": 18
    }
   ],
   "source": [
    "#3. dlpfc\n",
    "# load data \n",
    "neuro_scores = loadmat(data_dir + 'neuro_task_factorisation_all7mods_rightDLPFC.mat')['neuro_scores']\n",
    "\n",
    "data_dict = {'x':accuracy.flatten(),'y':neuro_scores.flatten()}\n",
    "data = pd.DataFrame(data_dict)\n",
    "_ = sns.lmplot(x='x',y='y',data=data,x_ci='ci',ci=95)\n",
    "plt.xlabel('accuracy')\n",
    "plt.ylabel('neural task factorisation')\n",
    "plt.title('Correlation between brain and behaviour, dlpfc')\n",
    "plt.tight_layout()\n",
    "t,p = kendalltau(accuracy,neuro_scores)\n",
    "t = np.round(t,2)\n",
    "p = np.round(p,3)\n",
    "plt.text(0.8,0,r'$\\tau$=' + str(t))\n",
    "plt.text(0.8,-0.01,'p=' + str(p))\n"
   ]
  },
  {
   "cell_type": "code",
   "execution_count": 19,
   "metadata": {},
   "outputs": [
    {
     "output_type": "execute_result",
     "data": {
      "text/plain": [
       "Text(0.8, -0.01, 'p=0.138')"
      ]
     },
     "metadata": {},
     "execution_count": 19
    }
   ],
   "source": [
    "#3. dlpfc\n",
    "# load data \n",
    "neuro_scores = loadmat(data_dir + 'neuro_task_factorisation_all7mods_rightMCC.mat')['neuro_scores']\n",
    "\n",
    "data_dict = {'x':accuracy.flatten(),'y':neuro_scores.flatten()}\n",
    "data = pd.DataFrame(data_dict)\n",
    "_ = sns.lmplot(x='x',y='y',data=data,x_ci='ci',ci=95)\n",
    "plt.xlabel('accuracy')\n",
    "plt.ylabel('neural task factorisation')\n",
    "plt.title('Correlation between brain and behaviour, mcc')\n",
    "plt.tight_layout()\n",
    "t,p = kendalltau(accuracy,neuro_scores)\n",
    "t = np.round(t,2)\n",
    "p = np.round(p,3)\n",
    "plt.text(0.8,0,r'$\\tau$=' + str(t))\n",
    "plt.text(0.8,-0.01,'p=' + str(p))\n"
   ]
  },
  {
   "source": [
    "## parametrised model, switch vs stay "
   ],
   "cell_type": "markdown",
   "metadata": {}
  },
  {
   "cell_type": "code",
   "execution_count": 6,
   "metadata": {},
   "outputs": [],
   "source": [
    "data_dir = 'project/results_paper/GLM_7_RSA_SWITCHSTAY/GROUP/'\n",
    "# load data \n",
    "%matplotlib qt\n",
    "data = loadmat(data_dir + 'maxvalues_leftEVC_mod1_stay.mat')['xy']\n",
    "\n",
    "plt.figure(1,figsize=[5.11, 3.32])\n",
    "sns.set_style('ticks')\n",
    "\n",
    "# sns.kdeplot(data=data,x=data[:,0],y=data[:,1],fill=True,levels=10,thresh=.2,cmap='Blues') # Blues\n",
    "sns.scatterplot(data=data,x=data[:,0],y=data[:,1],color=(156/255, 255/255, 182/255))\n",
    "plt.errorbar(np.mean(data[:,0]),np.mean(data[:,1]),color='g',xerr=np.std(data[:,0])/np.sqrt(len(data[:,0])),yerr=np.std(data[:,1])/np.sqrt(len(data[:,1])))\n",
    "plt.scatter(np.mean(data[:,0]),np.mean(data[:,1]),color='g')\n",
    "\n",
    "data = loadmat(data_dir + 'maxvalues_leftEVC_mod1_switch.mat')['xy']\n",
    "\n",
    "plt.figure(1,figsize=[5.11, 3.32])\n",
    "sns.set_style('ticks')\n",
    "\n",
    "# sns.kdeplot(data=data,x=data[:,0],y=data[:,1],fill=True,levels=10,thresh=.2,cmap='Blues') # Blues\n",
    "sns.scatterplot(data=data,x=data[:,0],y=data[:,1],color=(255/255, 156/255, 156/255))\n",
    "plt.errorbar(np.mean(data[:,0]),np.mean(data[:,1]),color='r',xerr=np.std(data[:,0])/np.sqrt(len(data[:,0])),yerr=np.std(data[:,1])/np.sqrt(len(data[:,1])))\n",
    "plt.scatter(np.mean(data[:,0]),np.mean(data[:,1]),color='r')\n",
    "\n",
    "ax = plt.gca()\n",
    "ax.set_xlim([1,182])\n",
    "ax.set_ylim([-1,101])\n",
    "sns.despine(offset=2)\n",
    "plt.xticks(ticks=np.arange(1,182,45),labels=np.arange(-90,91,45))\n",
    "plt.yticks(ticks=np.arange(0,101,25))\n",
    "plt.title('Distribution of best fitting parameters \\n Grid Model, left EVC')\n",
    "plt.xlabel('Rotation (°)')\n",
    "plt.ylabel('Compression, irrel. Dim (%)')\n",
    "plt.tight_layout()"
   ]
  },
  {
   "cell_type": "code",
   "execution_count": 7,
   "metadata": {},
   "outputs": [],
   "source": [
    "data_dir = 'project/results_paper/GLM_7_RSA_SWITCHSTAY/GROUP/'\n",
    "# load data \n",
    "%matplotlib qt\n",
    "data = loadmat(data_dir + 'maxvalues_rightEVC_mod1_stay.mat')['xy']\n",
    "\n",
    "plt.figure(1,figsize=[5.11, 3.32])\n",
    "sns.set_style('ticks')\n",
    "\n",
    "# sns.kdeplot(data=data,x=data[:,0],y=data[:,1],fill=True,levels=10,thresh=.2,cmap='Blues') # Blues\n",
    "sns.scatterplot(data=data,x=data[:,0],y=data[:,1],color=(156/255, 255/255, 182/255))\n",
    "plt.errorbar(np.mean(data[:,0]),np.mean(data[:,1]),color='g',xerr=np.std(data[:,0])/np.sqrt(len(data[:,0])),yerr=np.std(data[:,1])/np.sqrt(len(data[:,1])))\n",
    "plt.scatter(np.mean(data[:,0]),np.mean(data[:,1]),color='g')\n",
    "\n",
    "data = loadmat(data_dir + 'maxvalues_rightEVC_mod1_switch.mat')['xy']\n",
    "\n",
    "plt.figure(1,figsize=[5.11, 3.32])\n",
    "sns.set_style('ticks')\n",
    "\n",
    "# sns.kdeplot(data=data,x=data[:,0],y=data[:,1],fill=True,levels=10,thresh=.2,cmap='Blues') # Blues\n",
    "sns.scatterplot(data=data,x=data[:,0],y=data[:,1],color=(255/255, 156/255, 156/255))\n",
    "plt.errorbar(np.mean(data[:,0]),np.mean(data[:,1]),color='r',xerr=np.std(data[:,0])/np.sqrt(len(data[:,0])),yerr=np.std(data[:,1])/np.sqrt(len(data[:,1])))\n",
    "plt.scatter(np.mean(data[:,0]),np.mean(data[:,1]),color='r')\n",
    "\n",
    "ax = plt.gca()\n",
    "ax.set_xlim([1,182])\n",
    "ax.set_ylim([-1,101])\n",
    "sns.despine(offset=2)\n",
    "plt.xticks(ticks=np.arange(1,182,45),labels=np.arange(-90,91,45))\n",
    "plt.yticks(ticks=np.arange(0,101,25))\n",
    "plt.title('Distribution of best fitting parameters \\n Grid Model, right EVC')\n",
    "plt.xlabel('Rotation (°)')\n",
    "plt.ylabel('Compression, irrel. Dim (%)')\n",
    "plt.tight_layout()"
   ]
  },
  {
   "cell_type": "code",
   "execution_count": 8,
   "metadata": {},
   "outputs": [],
   "source": [
    "data_dir = 'project/results_paper/GLM_7_RSA_SWITCHSTAY/GROUP/'\n",
    "# load data \n",
    "%matplotlib qt\n",
    "data = loadmat(data_dir + 'maxvalues_rightPAR_mod3_stay.mat')['xy']\n",
    "\n",
    "plt.figure(1,figsize=[5.11, 3.32])\n",
    "sns.set_style('ticks')\n",
    "\n",
    "# sns.kdeplot(data=data,x=data[:,0],y=data[:,1],fill=True,levels=10,thresh=.2,cmap='Blues') # Blues\n",
    "sns.scatterplot(data=data,x=data[:,0],y=data[:,1],color=(156/255, 255/255, 182/255))\n",
    "plt.errorbar(np.mean(data[:,0]),np.mean(data[:,1]),color='g',xerr=np.std(data[:,0])/np.sqrt(len(data[:,0])),yerr=np.std(data[:,1])/np.sqrt(len(data[:,1])))\n",
    "plt.scatter(np.mean(data[:,0]),np.mean(data[:,1]),color='g')\n",
    "\n",
    "data = loadmat(data_dir + 'maxvalues_rightPAR_mod3_switch.mat')['xy']\n",
    "\n",
    "plt.figure(1,figsize=[5.11, 3.32])\n",
    "sns.set_style('ticks')\n",
    "\n",
    "# sns.kdeplot(data=data,x=data[:,0],y=data[:,1],fill=True,levels=10,thresh=.2,cmap='Blues') # Blues\n",
    "sns.scatterplot(data=data,x=data[:,0],y=data[:,1],color=(255/255, 156/255, 156/255))\n",
    "plt.errorbar(np.mean(data[:,0]),np.mean(data[:,1]),color='r',xerr=np.std(data[:,0])/np.sqrt(len(data[:,0])),yerr=np.std(data[:,1])/np.sqrt(len(data[:,1])))\n",
    "plt.scatter(np.mean(data[:,0]),np.mean(data[:,1]),color='r')\n",
    "\n",
    "ax = plt.gca()\n",
    "ax.set_xlim([1,182])\n",
    "ax.set_ylim([-1,101])\n",
    "sns.despine(offset=2)\n",
    "plt.xticks(ticks=np.arange(1,182,45),labels=np.arange(-90,91,45))\n",
    "plt.yticks(ticks=np.arange(0,101,25))\n",
    "plt.title('Distribution of best fitting parameters \\n Grid Model, right Parietal')\n",
    "plt.xlabel('Rotation (°)')\n",
    "plt.ylabel('Compression, irrel. Dim (%)')\n",
    "plt.tight_layout()"
   ]
  },
  {
   "cell_type": "code",
   "execution_count": 9,
   "metadata": {},
   "outputs": [],
   "source": [
    "data_dir = 'project/results_paper/GLM_7_RSA_SWITCHSTAY/GROUP/'\n",
    "# load data \n",
    "%matplotlib qt\n",
    "data = loadmat(data_dir + 'maxvalues_rightDLPFC_mod3_stay.mat')['xy']\n",
    "\n",
    "plt.figure(1,figsize=[5.11, 3.32])\n",
    "sns.set_style('ticks')\n",
    "\n",
    "# sns.kdeplot(data=data,x=data[:,0],y=data[:,1],fill=True,levels=10,thresh=.2,cmap='Blues') # Blues\n",
    "sns.scatterplot(data=data,x=data[:,0],y=data[:,1],color=(156/255, 255/255, 182/255))\n",
    "plt.errorbar(np.mean(data[:,0]),np.mean(data[:,1]),color='g',xerr=np.std(data[:,0])/np.sqrt(len(data[:,0])),yerr=np.std(data[:,1])/np.sqrt(len(data[:,1])))\n",
    "plt.scatter(np.mean(data[:,0]),np.mean(data[:,1]),color='g')\n",
    "\n",
    "data = loadmat(data_dir + 'maxvalues_rightDLPFC_mod3_switch.mat')['xy']\n",
    "\n",
    "plt.figure(1,figsize=[5.11, 3.32])\n",
    "sns.set_style('ticks')\n",
    "\n",
    "# sns.kdeplot(data=data,x=data[:,0],y=data[:,1],fill=True,levels=10,thresh=.2,cmap='Blues') # Blues\n",
    "sns.scatterplot(data=data,x=data[:,0],y=data[:,1],color=(255/255, 156/255, 156/255))\n",
    "plt.errorbar(np.mean(data[:,0]),np.mean(data[:,1]),color='r',xerr=np.std(data[:,0])/np.sqrt(len(data[:,0])),yerr=np.std(data[:,1])/np.sqrt(len(data[:,1])))\n",
    "plt.scatter(np.mean(data[:,0]),np.mean(data[:,1]),color='r')\n",
    "\n",
    "ax = plt.gca()\n",
    "ax.set_xlim([1,182])\n",
    "ax.set_ylim([-1,101])\n",
    "sns.despine(offset=2)\n",
    "plt.xticks(ticks=np.arange(1,182,45),labels=np.arange(-90,91,45))\n",
    "plt.yticks(ticks=np.arange(0,101,25))\n",
    "plt.title('Distribution of best fitting parameters \\n Grid Model, right DLPFC')\n",
    "plt.xlabel('Rotation (°)')\n",
    "plt.ylabel('Compression, irrel. Dim (%)')\n",
    "plt.tight_layout()"
   ]
  },
  {
   "cell_type": "code",
   "execution_count": null,
   "metadata": {},
   "outputs": [],
   "source": []
  }
 ]
}