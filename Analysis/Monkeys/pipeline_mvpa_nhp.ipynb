{
 "cells": [
  {
   "cell_type": "markdown",
   "metadata": {},
   "source": [
    "# MVPA NHP pipeline"
   ]
  },
  {
   "cell_type": "markdown",
   "metadata": {},
   "source": [
    "this pipeline perfroms decoding analysis on pseudotrials sampled from monkey A recordings"
   ]
  },
  {
   "cell_type": "code",
   "execution_count": 1,
   "metadata": {},
   "outputs": [],
   "source": [
    "%load_ext autoreload\n",
    "%autoreload 2\n",
    "import warnings\n",
    "import numpy as np\n",
    "from scipy.io import loadmat \n",
    "import matplotlib.pyplot as plt \n",
    "from sklearn.svm import SVC\n",
    "from sklearn.preprocessing import StandardScaler\n",
    "from sklearn.decomposition import PCA\n",
    "import pickle\n",
    "from IPython.core.debugger import set_trace\n",
    "from joblib import Parallel, delayed\n",
    "warnings.filterwarnings('ignore')"
   ]
  },
  {
   "cell_type": "code",
   "execution_count": 2,
   "metadata": {},
   "outputs": [],
   "source": [
    "# data folders. subdirectories & subject indices \n",
    "datadir = 'D:/DPHIL_01_TREES_FMRI/Paper/code/Data/Monkeys/'\n",
    "fn = 'monkey_a_mvpa_pseudotrials_early.mat'\n"
   ]
  },
  {
   "cell_type": "code",
   "execution_count": 5,
   "metadata": {},
   "outputs": [],
   "source": [
    "\n",
    "def partition_datasets(features,labels):\n",
    "    \"\"\"generates vector with targets\n",
    "       note: task A/1 : colour relevant. task B/2: motion relevant\n",
    "    \"\"\"\n",
    "    datasets = {}\n",
    "    # train task A relevant dim (colour):\n",
    "    datasets['taskA_reldim'] = {}    \n",
    "    X = features[labels[:,0]==1]\n",
    "    targets = labels[labels[:,0]==1,2]    \n",
    "    targets = targets>3 # low vs high value for col\n",
    "    \n",
    "    datasets['taskA_reldim']['X'] = X\n",
    "    datasets['taskA_reldim']['y'] = targets \n",
    "\n",
    "    \n",
    "    # train task B reldim (motion):\n",
    "    datasets['taskB_reldim'] = {}\n",
    "    X = features[labels[:,0]==2]\n",
    "    targets = labels[labels[:,0]==2,1]    \n",
    "    targets = targets>3 # low vs high val for motion       \n",
    "    \n",
    "    datasets['taskB_reldim']['X'] = X\n",
    "    datasets['taskB_reldim']['y'] = targets \n",
    "\n",
    "\n",
    "    # train task A irreldim (motion):\n",
    "    datasets['taskA_irreldim'] = {}    \n",
    "    X = features[labels[:,0]==1]\n",
    "    targets = labels[labels[:,0]==1,1]    \n",
    "    targets = targets>3 # low vs high val for motion\n",
    "    \n",
    "    datasets['taskA_irreldim']['X'] = X\n",
    "    datasets['taskA_irreldim']['y'] = targets \n",
    "    \n",
    "    # train task B irreldim (colour):\n",
    "    datasets['taskB_irreldim'] = {}\n",
    "    X = features[labels[:,0]==2]\n",
    "    targets = labels[labels[:,0]==2,2]    \n",
    "    targets = targets>3 # low vs high colour        \n",
    "    \n",
    "    datasets['taskB_irreldim']['X'] = X\n",
    "    datasets['taskB_irreldim']['y'] = targets     \n",
    "\n",
    "\n",
    "    # # task A vs task B\n",
    "    # datasets['AvsB'] = {}\n",
    "    # datasets['AvsB']['X'] = features\n",
    "    # datasets['AvsB']['y'] = labels[:,0]\n",
    "\n",
    "    return datasets\n",
    "\n",
    "\n",
    "def gen_traintestdata_runs(swapds=False):\n",
    "    \"\"\"loads and partitions the data into sets for training \n",
    "       and test. labels are given for the relevant and irrelevant \n",
    "       feature dimension of each task.\n",
    "\n",
    "    Args:\n",
    "        swapds (bool): whether or not to swap training and test set (for cross-val)\n",
    "    \"\"\"\n",
    "    data = loadmat(datadir+fn)\n",
    "    \n",
    "    if swapds:\n",
    "        datasets_train = partition_datasets(data['X_test'],data['y_test'])\n",
    "        datasets_test = partition_datasets(data['X_train'],data['y_train'])\n",
    "    else:\n",
    "        datasets_train = partition_datasets(data['X_train'],data['y_train'])\n",
    "        datasets_test = partition_datasets(data['X_test'],data['y_test'])\n",
    "\n",
    "    return datasets_train, datasets_test\n"
   ]
  },
  {
   "cell_type": "code",
   "execution_count": 7,
   "metadata": {},
   "outputs": [
    {
     "name": "stdout",
     "output_type": "stream",
     "text": [
      "processing taskA_reldim ...\n"
     ]
    },
    {
     "ename": "KeyboardInterrupt",
     "evalue": "",
     "output_type": "error",
     "traceback": [
      "\u001b[1;31m---------------------------------------------------------------------------\u001b[0m",
      "\u001b[1;31mKeyboardInterrupt\u001b[0m                         Traceback (most recent call last)",
      "\u001b[1;32m<ipython-input-7-043b91fc4026>\u001b[0m in \u001b[0;36m<module>\u001b[1;34m\u001b[0m\n\u001b[0;32m     74\u001b[0m \u001b[1;32mfor\u001b[0m \u001b[0mk\u001b[0m\u001b[1;33m,\u001b[0m \u001b[0md\u001b[0m \u001b[1;32min\u001b[0m \u001b[0menumerate\u001b[0m\u001b[1;33m(\u001b[0m\u001b[0mdims\u001b[0m\u001b[1;33m)\u001b[0m\u001b[1;33m:\u001b[0m\u001b[1;33m\u001b[0m\u001b[1;33m\u001b[0m\u001b[0m\n\u001b[0;32m     75\u001b[0m     \u001b[0mprint\u001b[0m\u001b[1;33m(\u001b[0m\u001b[1;34mf'processing {d} ...'\u001b[0m\u001b[1;33m)\u001b[0m\u001b[1;33m\u001b[0m\u001b[1;33m\u001b[0m\u001b[0m\n\u001b[1;32m---> 76\u001b[1;33m     \u001b[0mresults\u001b[0m \u001b[1;33m=\u001b[0m \u001b[0mfit_linear_svm\u001b[0m\u001b[1;33m(\u001b[0m\u001b[0mC\u001b[0m\u001b[1;33m=\u001b[0m\u001b[0mC\u001b[0m\u001b[1;33m,\u001b[0m\u001b[0mdo_pca\u001b[0m\u001b[1;33m=\u001b[0m\u001b[1;32mTrue\u001b[0m\u001b[1;33m,\u001b[0m\u001b[0mfeaturedim\u001b[0m\u001b[1;33m=\u001b[0m\u001b[0md\u001b[0m\u001b[1;33m)\u001b[0m\u001b[1;33m\u001b[0m\u001b[1;33m\u001b[0m\u001b[0m\n\u001b[0m\u001b[0;32m     77\u001b[0m     \u001b[0mall_train_accs\u001b[0m\u001b[1;33m[\u001b[0m\u001b[0mk\u001b[0m\u001b[1;33m,\u001b[0m \u001b[1;33m:\u001b[0m\u001b[1;33m]\u001b[0m \u001b[1;33m=\u001b[0m \u001b[0mresults\u001b[0m\u001b[1;33m[\u001b[0m\u001b[1;34m'train_accs'\u001b[0m\u001b[1;33m]\u001b[0m\u001b[1;33m\u001b[0m\u001b[1;33m\u001b[0m\u001b[0m\n\u001b[0;32m     78\u001b[0m     \u001b[0mall_test_accs\u001b[0m\u001b[1;33m[\u001b[0m\u001b[0mk\u001b[0m\u001b[1;33m,\u001b[0m \u001b[1;33m:\u001b[0m\u001b[1;33m]\u001b[0m \u001b[1;33m=\u001b[0m \u001b[0mresults\u001b[0m\u001b[1;33m[\u001b[0m\u001b[1;34m'test_accs'\u001b[0m\u001b[1;33m]\u001b[0m\u001b[1;33m\u001b[0m\u001b[1;33m\u001b[0m\u001b[0m\n",
      "\u001b[1;32m<ipython-input-7-043b91fc4026>\u001b[0m in \u001b[0;36mfit_linear_svm\u001b[1;34m(featuredim, C, do_pca)\u001b[0m\n\u001b[0;32m     34\u001b[0m         \u001b[0mX\u001b[0m \u001b[1;33m=\u001b[0m \u001b[0msc\u001b[0m\u001b[1;33m.\u001b[0m\u001b[0mfit_transform\u001b[0m\u001b[1;33m(\u001b[0m\u001b[0mX\u001b[0m\u001b[1;33m)\u001b[0m\u001b[1;33m\u001b[0m\u001b[1;33m\u001b[0m\u001b[0m\n\u001b[0;32m     35\u001b[0m         \u001b[0my\u001b[0m \u001b[1;33m=\u001b[0m \u001b[0mdatasets_train\u001b[0m\u001b[1;33m[\u001b[0m\u001b[0mfeaturedim\u001b[0m\u001b[1;33m]\u001b[0m\u001b[1;33m[\u001b[0m\u001b[1;34m'y'\u001b[0m\u001b[1;33m]\u001b[0m\u001b[1;33m\u001b[0m\u001b[1;33m\u001b[0m\u001b[0m\n\u001b[1;32m---> 36\u001b[1;33m         \u001b[0mclf\u001b[0m\u001b[1;33m.\u001b[0m\u001b[0mfit\u001b[0m\u001b[1;33m(\u001b[0m\u001b[0mX\u001b[0m\u001b[1;33m,\u001b[0m \u001b[0my\u001b[0m\u001b[1;33m)\u001b[0m\u001b[1;33m\u001b[0m\u001b[1;33m\u001b[0m\u001b[0m\n\u001b[0m\u001b[0;32m     37\u001b[0m         \u001b[0myt\u001b[0m \u001b[1;33m=\u001b[0m \u001b[0mclf\u001b[0m\u001b[1;33m.\u001b[0m\u001b[0mpredict\u001b[0m\u001b[1;33m(\u001b[0m\u001b[0mX\u001b[0m\u001b[1;33m)\u001b[0m\u001b[1;33m\u001b[0m\u001b[1;33m\u001b[0m\u001b[0m\n\u001b[0;32m     38\u001b[0m         \u001b[0mtrain_accs\u001b[0m\u001b[1;33m.\u001b[0m\u001b[0mappend\u001b[0m\u001b[1;33m(\u001b[0m\u001b[0mnp\u001b[0m\u001b[1;33m.\u001b[0m\u001b[0mmean\u001b[0m\u001b[1;33m(\u001b[0m\u001b[0myt\u001b[0m \u001b[1;33m==\u001b[0m \u001b[0my\u001b[0m\u001b[1;33m)\u001b[0m\u001b[1;33m)\u001b[0m\u001b[1;33m\u001b[0m\u001b[1;33m\u001b[0m\u001b[0m\n",
      "\u001b[1;32m~\\anaconda3\\envs\\pytorch\\lib\\site-packages\\sklearn\\svm\\_base.py\u001b[0m in \u001b[0;36mfit\u001b[1;34m(self, X, y, sample_weight)\u001b[0m\n\u001b[0;32m    224\u001b[0m \u001b[1;33m\u001b[0m\u001b[0m\n\u001b[0;32m    225\u001b[0m         \u001b[0mseed\u001b[0m \u001b[1;33m=\u001b[0m \u001b[0mrnd\u001b[0m\u001b[1;33m.\u001b[0m\u001b[0mrandint\u001b[0m\u001b[1;33m(\u001b[0m\u001b[0mnp\u001b[0m\u001b[1;33m.\u001b[0m\u001b[0miinfo\u001b[0m\u001b[1;33m(\u001b[0m\u001b[1;34m'i'\u001b[0m\u001b[1;33m)\u001b[0m\u001b[1;33m.\u001b[0m\u001b[0mmax\u001b[0m\u001b[1;33m)\u001b[0m\u001b[1;33m\u001b[0m\u001b[1;33m\u001b[0m\u001b[0m\n\u001b[1;32m--> 226\u001b[1;33m         \u001b[0mfit\u001b[0m\u001b[1;33m(\u001b[0m\u001b[0mX\u001b[0m\u001b[1;33m,\u001b[0m \u001b[0my\u001b[0m\u001b[1;33m,\u001b[0m \u001b[0msample_weight\u001b[0m\u001b[1;33m,\u001b[0m \u001b[0msolver_type\u001b[0m\u001b[1;33m,\u001b[0m \u001b[0mkernel\u001b[0m\u001b[1;33m,\u001b[0m \u001b[0mrandom_seed\u001b[0m\u001b[1;33m=\u001b[0m\u001b[0mseed\u001b[0m\u001b[1;33m)\u001b[0m\u001b[1;33m\u001b[0m\u001b[1;33m\u001b[0m\u001b[0m\n\u001b[0m\u001b[0;32m    227\u001b[0m         \u001b[1;31m# see comment on the other call to np.iinfo in this file\u001b[0m\u001b[1;33m\u001b[0m\u001b[1;33m\u001b[0m\u001b[1;33m\u001b[0m\u001b[0m\n\u001b[0;32m    228\u001b[0m \u001b[1;33m\u001b[0m\u001b[0m\n",
      "\u001b[1;32m~\\anaconda3\\envs\\pytorch\\lib\\site-packages\\sklearn\\svm\\_base.py\u001b[0m in \u001b[0;36m_dense_fit\u001b[1;34m(self, X, y, sample_weight, solver_type, kernel, random_seed)\u001b[0m\n\u001b[0;32m    275\u001b[0m         \u001b[0mself\u001b[0m\u001b[1;33m.\u001b[0m\u001b[0msupport_\u001b[0m\u001b[1;33m,\u001b[0m \u001b[0mself\u001b[0m\u001b[1;33m.\u001b[0m\u001b[0msupport_vectors_\u001b[0m\u001b[1;33m,\u001b[0m \u001b[0mself\u001b[0m\u001b[1;33m.\u001b[0m\u001b[0m_n_support\u001b[0m\u001b[1;33m,\u001b[0m\u001b[0;31m \u001b[0m\u001b[0;31m\\\u001b[0m\u001b[1;33m\u001b[0m\u001b[1;33m\u001b[0m\u001b[0m\n\u001b[0;32m    276\u001b[0m             \u001b[0mself\u001b[0m\u001b[1;33m.\u001b[0m\u001b[0mdual_coef_\u001b[0m\u001b[1;33m,\u001b[0m \u001b[0mself\u001b[0m\u001b[1;33m.\u001b[0m\u001b[0mintercept_\u001b[0m\u001b[1;33m,\u001b[0m \u001b[0mself\u001b[0m\u001b[1;33m.\u001b[0m\u001b[0m_probA\u001b[0m\u001b[1;33m,\u001b[0m\u001b[0;31m \u001b[0m\u001b[0;31m\\\u001b[0m\u001b[1;33m\u001b[0m\u001b[1;33m\u001b[0m\u001b[0m\n\u001b[1;32m--> 277\u001b[1;33m             self._probB, self.fit_status_ = libsvm.fit(\n\u001b[0m\u001b[0;32m    278\u001b[0m                 \u001b[0mX\u001b[0m\u001b[1;33m,\u001b[0m \u001b[0my\u001b[0m\u001b[1;33m,\u001b[0m\u001b[1;33m\u001b[0m\u001b[1;33m\u001b[0m\u001b[0m\n\u001b[0;32m    279\u001b[0m                 \u001b[0msvm_type\u001b[0m\u001b[1;33m=\u001b[0m\u001b[0msolver_type\u001b[0m\u001b[1;33m,\u001b[0m \u001b[0msample_weight\u001b[0m\u001b[1;33m=\u001b[0m\u001b[0msample_weight\u001b[0m\u001b[1;33m,\u001b[0m\u001b[1;33m\u001b[0m\u001b[1;33m\u001b[0m\u001b[0m\n",
      "\u001b[1;31mKeyboardInterrupt\u001b[0m: "
     ]
    }
   ],
   "source": [
    "def test_shuffle(X,y,clf):\n",
    "    y_shuff = y[np.random.permutation(len(y))]\n",
    "    yt = clf.predict(X)\n",
    "    return np.mean(y_shuff == yt)\n",
    "\n",
    "def fit_linear_svm(featuredim, C=1.0,do_pca=False):\n",
    "    \"\"\"trains and evaluates svm on fmri roi patterns \n",
    "       with split half cross-validation on 2880 pseudotrials (40 per condition)\n",
    "\n",
    "    Args:\n",
    "        \n",
    "        featuredim (str): dictionary key for feature to fit (for example taskA_reldim)\n",
    "        C (float): inverse regularisation strength (c in (0,1))\n",
    "        do_pca (bool): perform pca and retain data containing 95% of variance (yes/no)\n",
    "\n",
    "    Returns:\n",
    "        results: dictionary with training and test accuracies\n",
    "    \"\"\"\n",
    "    shuffle_accs = []\n",
    "    test_accs = []\n",
    "    train_accs = []\n",
    "    for run_id,doswap in enumerate([False,True]):\n",
    "        testaccs = []\n",
    "        shuffleaccs = []\n",
    "        datasets_train, datasets_test = gen_traintestdata_runs(swapds=doswap)\n",
    "        # training\n",
    "        sc = StandardScaler()\n",
    "        clf = SVC(C=C,kernel='linear')\n",
    "        X = datasets_train[featuredim]['X']\n",
    "        if do_pca:\n",
    "            pca = PCA(n_components=0.95,svd_solver='full')\n",
    "            X = pca.fit_transform(X)\n",
    "        \n",
    "        X = sc.fit_transform(X)\n",
    "        y = datasets_train[featuredim]['y']\n",
    "        clf.fit(X, y)\n",
    "        yt = clf.predict(X)\n",
    "        train_accs.append(np.mean(yt == y))\n",
    "\n",
    "        # test on all four test sets (A rel, B rel, A irrel, B irrel)\n",
    "        for _, testset in datasets_test.items():\n",
    "            X = testset['X']\n",
    "            if do_pca:\n",
    "                X = pca.transform(X)\n",
    "            X = sc.transform(X)\n",
    "            y = testset['y']\n",
    "            yt = clf.predict(X)\n",
    "            testaccs.append(np.mean(y == yt))\n",
    "            # compute shuffle distribution\n",
    "            sfs = Parallel(n_jobs=6,backend='loky',verbose=0)(delayed(test_shuffle)(X,y,clf) for _ in range(500))            \n",
    "            shuffleaccs.append(sfs)\n",
    "        shuffle_accs.append(shuffleaccs)    \n",
    "        test_accs.append(testaccs)\n",
    "    train_accs = np.asarray(train_accs)\n",
    "    test_accs = np.asarray(test_accs)\n",
    "    shuffle_accs = np.asarray(shuffle_accs)\n",
    "    \n",
    "    \n",
    "    # average over cross-val folds:\n",
    "    results = {'train_accs': np.mean(train_accs),\n",
    "               'test_accs': np.mean(test_accs, 0),\n",
    "               'shuff_accs':np.mean(shuffle_accs,0)\n",
    "               }\n",
    "\n",
    "    return results\n",
    "\n",
    "\n",
    "C=1.0\n",
    "dims = ['taskA_reldim', 'taskB_reldim','taskA_irreldim','taskB_irreldim']\n",
    "all_train_accs = np.empty((len(dims),1))\n",
    "all_test_accs = np.empty((len(dims), 4))\n",
    "all_shuffle_accs = np.empty((len(dims), 4, 500))\n",
    "\n",
    "for k, d in enumerate(dims):\n",
    "    print(f'processing {d} ...')\n",
    "    results = fit_linear_svm(C=C,do_pca=True,featuredim=d) \n",
    "    all_train_accs[k, :] = results['train_accs']\n",
    "    all_test_accs[k, :] = results['test_accs']\n",
    "    all_shuffle_accs[k, :, :] = results['shuff_accs']\n",
    "\n",
    "results = {'train_accs': all_train_accs,\n",
    "           'test_accs': all_test_accs,\n",
    "           'shuffle_accs':all_shuffle_accs,\n",
    "           'dims': dims,           \n",
    "           'regulariser': C\n",
    "           }\n",
    "\n",
    "with open('results_nhp_svm_pca_early.pkl', 'wb') as f:\n",
    "    pickle.dump(results,f)\n"
   ]
  },
  {
   "cell_type": "code",
   "execution_count": 85,
   "metadata": {},
   "outputs": [
    {
     "data": {
      "text/plain": [
       "(array([2.000e+00, 1.300e+01, 1.590e+02, 6.960e+02, 1.825e+03, 2.749e+03,\n",
       "        1.749e+03, 6.840e+02, 1.150e+02, 8.000e+00]),\n",
       " array([0.44166667, 0.45236111, 0.46305556, 0.47375   , 0.48444444,\n",
       "        0.49513889, 0.50583333, 0.51652778, 0.52722222, 0.53791667,\n",
       "        0.54861111]),\n",
       " <BarContainer object of 10 artists>)"
      ]
     },
     "execution_count": 85,
     "metadata": {},
     "output_type": "execute_result"
    },
    {
     "data": {
      "image/png": "[encoded data removed]",
      "text/plain": [
       "<Figure size 432x288 with 1 Axes>"
      ]
     },
     "metadata": {
      "needs_background": "light"
     },
     "output_type": "display_data"
    }
   ],
   "source": [
    "plt.hist(results['shuffle_accs'][:,:,:].ravel())"
   ]
  },
  {
   "cell_type": "code",
   "execution_count": 3,
   "metadata": {},
   "outputs": [
    {
     "name": "stdout",
     "output_type": "stream",
     "text": [
      "trained on taskA_reldim, tested on taskA_reldim, p= 0.764\n",
      "trained on taskA_reldim, tested on taskB_reldim, p= 1.0\n",
      "trained on taskA_reldim, tested on taskA_irreldim, p= 0.982\n",
      "trained on taskA_reldim, tested on taskB_irreldim, p= 0.776\n",
      "trained on taskB_reldim, tested on taskA_reldim, p= 0.854\n",
      "trained on taskB_reldim, tested on taskB_reldim, p= 0.0\n",
      "trained on taskB_reldim, tested on taskA_irreldim, p= 0.0\n",
      "trained on taskB_reldim, tested on taskB_irreldim, p= 0.98\n"
     ]
    },
    {
     "data": {
      "image/png": "[encoded data removed]",
      "text/plain": [
       "<Figure size 360x360 with 1 Axes>"
      ]
     },
     "metadata": {
      "needs_background": "light"
     },
     "output_type": "display_data"
    },
    {
     "data": {
      "image/png": "[encoded data removed]",
      "text/plain": [
       "<Figure size 360x360 with 1 Axes>"
      ]
     },
     "metadata": {
      "needs_background": "light"
     },
     "output_type": "display_data"
    }
   ],
   "source": [
    "%matplotlib inline\n",
    "\n",
    "def nonparam_test(t,t_shuff):\n",
    "    # return proportion of shuffled ts that exceed empirical t\n",
    "    # as approximation of p value\n",
    "    return np.mean(t_shuff>t)\n",
    "\n",
    "def plot_svm_results(results,shuffresults):\n",
    "    # loop over training dimensions\n",
    "    for i,dtr in enumerate(dims_train):\n",
    "        f,axs = plt.subplots(1,1,figsize=(5,5))        \n",
    "        axs.bar(np.arange(results.shape[1]),results[i,:]-shuffresults[i,:,:].mean(-1),color=(0.5,0.7,0.9),zorder=1)\n",
    "        for j,dte in enumerate(dims_test):\n",
    "            pval = nonparam_test(results[i,j],shuffresults[i,j,:])\n",
    "            axs.scatter(np.repeat(j,shuffresults.shape[-1])+np.random.randn(shuffresults.shape[-1])*0.01,shuffresults[i,j,:]-shuffresults[i,j,:].mean(),color=(.9,.9,.9),alpha=0.4,zorder=3,s=10,edgecolors='k',linewidth=0.2)\n",
    "            axs.errorbar(j,0,yerr=2*np.std(shuffresults[i,j,:]),color='k',zorder=4)\n",
    "            print(f'trained on {dtr}, tested on {dte}, p= {pval}')\n",
    "\n",
    "    \n",
    "        axs.set(xlabel='test dimension',ylabel='test accuracy minus chance (%)',title='trained on ' +dtr ,ylim=(-0.3,0.3))\n",
    "        axs.set_xticks(np.arange(4))\n",
    "        axs.set_xticklabels(dims_test,rotation=90)\n",
    "        ticks = axs.get_yticks()\n",
    "        axs.set_yticklabels(np.round(ticks*100,2))       \n",
    "        \n",
    "       \n",
    "        plt.tight_layout()\n",
    "\n",
    "with open('results_nhp_svm_pca.pkl', 'rb') as f:\n",
    "    results = pickle.load(f)\n",
    "from scipy.stats import ttest_1samp \n",
    "dims_train =  ['taskA_reldim', 'taskB_reldim']\n",
    "dims_test = ['taskA_reldim', 'taskB_reldim','taskA_irreldim', 'taskB_irreldim']\n",
    "\n",
    "plot_svm_results(results['test_accs'],results['shuffle_accs'])"
   ]
  },
  {
   "cell_type": "code",
   "execution_count": 4,
   "metadata": {},
   "outputs": [],
   "source": [
    "\n",
    "def plot_avg_svm_results(results,shuffresults):\n",
    "    # loop over training dimensions\n",
    "    mm = 1/25.4\n",
    "    f,axs = plt.subplots(1,1,figsize=(55*mm,40*mm),dpi=300)\n",
    "    \n",
    "   \n",
    "    dtes = ['same task rel','same task irrel', 'other task rel', 'other task irrel']\n",
    "    idces = [(0,0),(1,1)],[(0,2),(1,3)],[(0,1),(1,0)],[(0,3),(1,2)]\n",
    "    for k,idx in enumerate(idces):\n",
    "        avg_res = (results[idx[0][0],idx[0][1]]+results[idx[1][0],idx[1][1]])/2\n",
    "        avg_shuff = (shuffresults[idx[0][0],idx[0][1],:]+shuffresults[idx[1][0],idx[1][1],:])/2\n",
    "    \n",
    "        axs.bar(k,avg_res-avg_shuff.mean(),color=(0.5,0.7,0.6),edgecolor='k')\n",
    "    \n",
    "        axs.scatter(np.repeat(k,len(avg_shuff))+np.random.randn(len(avg_shuff))*0.01,avg_shuff-avg_shuff.mean(),color=(.9,.9,.9),alpha=0.4,zorder=3,s=10,edgecolor='k',linewidth=0.2)\n",
    "        axs.errorbar(k,0,yerr=2*np.std(avg_shuff),color='k',zorder=4)\n",
    "        axs.plot([-1,4],[0,0],'k--',linewidth=0.5)\n",
    "        p = nonparam_test(avg_res,avg_shuff)\n",
    "        print(f'tested on {dtes[k]}, \\t p= {p}, \\t mu={avg_res-avg_shuff.mean():.4f}')\n",
    "        \n",
    "        if p<0.05:\n",
    "            \n",
    "            if p <0.0001:\n",
    "                ts = '*'*4\n",
    "            elif p <0.001:\n",
    "                ts = '*'*3\n",
    "            elif p<0.01:\n",
    "                ts = '*'*2\n",
    "            elif p<0.05:\n",
    "                ts = '*'\n",
    "            axs.text(k,0.1,ts,{'fontsize':6,'ha':'center','fontweight':'normal'})\n",
    "\n",
    "\n",
    "    axs.set_xlabel('test dimension',fontsize=6)\n",
    "    axs.set_ylabel('test acc - chance (%)',fontsize=6)\n",
    "    axs.set_title('Monkey A',fontsize=6)\n",
    "    axs.set_yticks(np.arange(-0.2,0.21,0.1))\n",
    "    axs.set_ylim=(-0.1,0.2)\n",
    "    axs.set_xticks(np.arange(4))\n",
    "    axs.set_xticklabels(dtes,rotation=90,fontsize=6)\n",
    "    ticks = axs.get_yticks()\n",
    "    axs.set_yticklabels(np.round(ticks*100,2),fontsize=6)\n",
    "    axs.spines['top'].set_visible(False)\n",
    "    axs.spines['right'].set_visible(False)\n",
    "        \n",
    "\n",
    "    plt.tight_layout()"
   ]
  },
  {
   "cell_type": "code",
   "execution_count": 5,
   "metadata": {},
   "outputs": [
    {
     "name": "stdout",
     "output_type": "stream",
     "text": [
      "tested on same task rel, \t p= 0.0, \t mu=0.0668\n",
      "tested on same task irrel, \t p= 0.996, \t mu=-0.0235\n",
      "tested on other task rel, \t p= 1.0, \t mu=-0.0318\n",
      "tested on other task irrel, \t p= 0.064, \t mu=0.0116\n"
     ]
    }
   ],
   "source": [
    "\n",
    "with open('results_nhp_svm_pca.pkl', 'rb') as f:\n",
    "    results = pickle.load(f)\n",
    "%matplotlib qt\n",
    "dims_train =  ['taskA_reldim', 'taskB_reldim']\n",
    "dims_test = ['taskA_reldim', 'taskB_reldim','taskA_irreldim', 'taskB_irreldim']\n",
    "plot_avg_svm_results(results['test_accs'],results['shuffle_accs'])"
   ]
  },
  {
   "cell_type": "code",
   "execution_count": null,
   "metadata": {},
   "outputs": [],
   "source": []
  }
 ],
 "metadata": {
  "interpreter": {
   "hash": "9b7b770bd4df7f5d53ce25a065472836ccdb5063edf5f6149aa55dabe0a07e90"
  },
  "kernelspec": {
   "display_name": "Python 3.8.5 64-bit ('pytorch': conda)",
   "name": "python3"
  },
  "language_info": {
   "codemirror_mode": {
    "name": "ipython",
    "version": 3
   },
   "file_extension": ".py",
   "mimetype": "text/x-python",
   "name": "python",
   "nbconvert_exporter": "python",
   "pygments_lexer": "ipython3",
   "version": "3.8.5"
  },
  "orig_nbformat": 4
 },
 "nbformat": 4,
 "nbformat_minor": 2
}
