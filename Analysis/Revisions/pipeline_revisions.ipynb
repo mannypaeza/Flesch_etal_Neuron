{
 "cells": [
  {
   "cell_type": "code",
   "execution_count": 1,
   "metadata": {
    "tags": []
   },
   "outputs": [],
   "source": [
    "%load_ext autoreload\n",
    "# %load_ext autoreload\n",
    "%autoreload 2\n",
    "import pickle\n",
    "import numpy as np \n",
    "import matplotlib.pyplot as plt \n",
    "from scipy.linalg import expm \n",
    "from numpy.linalg import norm\n",
    "from datetime import datetime\n",
    "from scipy.io import loadmat\n",
    "from scipy.optimize import minimize\n",
    "from scipy.spatial.distance import squareform,pdist\n",
    "from scipy.stats import wilcoxon, norm \n",
    "\n",
    "from scipy.stats import ttest_1samp\n",
    "from sklearn.utils import shuffle\n",
    "from sklearn.manifold import MDS\n",
    "from sklearn import linear_model\n",
    "from mpl_toolkits.mplot3d import Axes3D \n",
    "from scipy.stats import multivariate_normal\n",
    "from scipy.stats import zscore\n",
    "from matplotlib import cm\n",
    "from utils import *\n",
    "from plotting import *\n",
    "# from plotting import *\n",
    "from matplotlib import cm \n",
    "import matplotlib as mpl \n",
    "from joblib import Parallel, delayed\n",
    "import time\n",
    "from IPython.core.debugger import set_trace\n",
    "plt.rcParams['svg.fonttype'] = 'none'\n",
    "plt.rcParams['pdf.use14corefonts'] = True"
   ]
  },
  {
   "cell_type": "markdown",
   "metadata": {},
   "source": [
    "# MLP revisions"
   ]
  },
  {
   "cell_type": "code",
   "execution_count": 2,
   "metadata": {},
   "outputs": [],
   "source": [
    "\n",
    "N_STIM = 25\n",
    "N_CTX = 2\n",
    "N_HIDDEN = 100\n",
    "N_OUT = 1\n",
    "N_RUNS = 30\n",
    "N_ITER = 10000\n",
    "LRATE = 5e-3\n",
    "SCALE_WHXS = np.asarray([1e-2,1e-1,2e-1,3e-1,4e-1,1,2,3])\n",
    "\n",
    "N_FACTORS = len(SCALE_WHXS)\n",
    "scale_labels = [str(ii) for ii in SCALE_WHXS]\n",
    "\n",
    "# # open results (was 'results_nnet_main_withacc_withmlp_stepscaled.pickle)\n",
    "\n",
    "with open('D:/DPHIL_01_TREES_FMRI/Paper/code/Data/Simulations/mlp/results_nnet_main_withacc_withmlp_stepscaled.pickle','rb') as f:\n",
    "        results = pickle.load(f)\n",
    "\n",
    "\n",
    "\n",
    "        "
   ]
  },
  {
   "cell_type": "markdown",
   "metadata": {},
   "source": [
    "## are weight changes larger in the output layer under lazy learning?"
   ]
  },
  {
   "cell_type": "code",
   "execution_count": 38,
   "metadata": {},
   "outputs": [
    {
     "data": {
      "image/png": "[encoded data removed]",
      "text/plain": [
       "<Figure size 432x288 with 1 Axes>"
      ]
     },
     "metadata": {
      "needs_background": "light"
     },
     "output_type": "display_data"
    }
   ],
   "source": [
    "%matplotlib inline\n",
    "SCALE_WHXS = np.asarray([1e-2,1e-1,2e-1,3e-1,4e-1,1,2,3])\n",
    "\n",
    "\n",
    "ws = results['w_relchange_hxs'][:,:,-1]\n",
    "\n",
    "N_RUNS = ws.shape[1]\n",
    "cols = cm.winter(np.linspace(.2,.85,8))\n",
    "\n",
    "plt.figure()\n",
    "for ii in range(ws.shape[0]):\n",
    "    plt.bar(ii,np.mean(np.log(np.abs(ws[ii,:])),0),yerr=np.std(np.log(np.abs(ws[ii,:])),0)/np.sqrt(N_RUNS),zorder=3,color=cols[ii,:])\n",
    "\n",
    "plt.xticks(ticks=np.arange(0,len(SCALE_WHXS)),labels=scale_labels)\n",
    "plt.title('Relative Weight Change, Hidden Layer',fontsize=14)\n",
    "plt.ylabel('log($\\Delta$ weight norm)',fontsize=12)\n",
    "plt.xlabel('init weight variance',fontsize=12)\n",
    "\n",
    "ax = plt.gca()\n",
    "ax.spines['right'].set_visible(False)\n",
    "ax.spines['top'].set_visible(False)\n",
    "\n",
    "\n"
   ]
  },
  {
   "cell_type": "code",
   "execution_count": 39,
   "metadata": {},
   "outputs": [
    {
     "data": {
      "image/png": "[encoded data removed]",
      "text/plain": [
       "<Figure size 432x288 with 1 Axes>"
      ]
     },
     "metadata": {
      "needs_background": "light"
     },
     "output_type": "display_data"
    }
   ],
   "source": [
    "\n",
    "SCALE_WHXS = np.asarray([1e-2,1e-1,2e-1,3e-1,4e-1,1,2,3])\n",
    "\n",
    "\n",
    "ws = results['w_relchange_hxs'][:,:,-1]\n",
    "wc = results['w_relchange_hxc'][:,:,-1]\n",
    "N_RUNS = ws.shape[1]\n",
    "cols = cm.winter(np.linspace(.2,.85,8))\n",
    "\n",
    "plt.figure()\n",
    "for ii in range(ws.shape[0]):\n",
    "    plt.bar(ii,np.mean(np.log(np.abs(np.concatenate((ws[ii,:],wc[ii,:]),axis=0))),0),yerr=np.std(np.log(np.abs(np.concatenate((ws[ii,:],wc[ii,:]),axis=0))),0)/np.sqrt(N_RUNS),zorder=3,color=cols[ii,:])\n",
    "\n",
    "plt.xticks(ticks=np.arange(0,len(SCALE_WHXS)),labels=scale_labels)\n",
    "plt.title('Relative Weight Change, Hidden and Ctx weights',fontsize=14)\n",
    "plt.ylabel('log($\\Delta$ weight norm)',fontsize=12)\n",
    "plt.xlabel('init weight variance',fontsize=12)\n",
    "\n",
    "ax = plt.gca()\n",
    "ax.spines['right'].set_visible(False)\n",
    "ax.spines['top'].set_visible(False)\n",
    "\n",
    "\n"
   ]
  },
  {
   "cell_type": "code",
   "execution_count": 49,
   "metadata": {},
   "outputs": [],
   "source": [
    "%matplotlib qt\n",
    "SCALE_WHXS = np.asarray([1e-2,1e-1,2e-1,3e-1,4e-1,1,2,3])\n",
    "\n",
    "\n",
    "ws = results['w_relchange_yh'][:,:,-1]\n",
    "\n",
    "N_RUNS = ws.shape[1]\n",
    "cols = cm.winter(np.linspace(.2,.85,8))\n",
    "\n",
    "plt.figure()\n",
    "for ii in range(ws.shape[0]):\n",
    "    plt.bar(ii,np.mean(np.log(np.abs(ws[ii,:])),0),yerr=np.std(np.log(np.abs(ws[ii,:])),0)/np.sqrt(N_RUNS),zorder=3,color=cols[ii,:])\n",
    "\n",
    "plt.xticks(ticks=np.arange(0,len(SCALE_WHXS)),labels=scale_labels)\n",
    "plt.title('Relative Weight Change, Output Layer',fontsize=14)\n",
    "plt.ylabel('log($\\Delta$ weight norm)',fontsize=12)\n",
    "plt.xlabel(r'init $\\sigma_w$',fontsize=12)\n",
    "\n",
    "ax = plt.gca()\n",
    "ax.spines['right'].set_visible(False)\n",
    "ax.spines['top'].set_visible(False)\n",
    "\n",
    "\n"
   ]
  },
  {
   "cell_type": "markdown",
   "metadata": {},
   "source": [
    "##  but overall, smaller weight norm under rich than lazy?"
   ]
  },
  {
   "cell_type": "code",
   "execution_count": 50,
   "metadata": {},
   "outputs": [],
   "source": [
    "def comp_norms(weights):\n",
    "    norms = np.empty((8,N_RUNS))\n",
    "    for ii in range(8):\n",
    "        for jj in range(N_RUNS):\n",
    "            norms[ii,jj] = np.linalg.norm(weights[ii,jj,:,:].flatten())\n",
    "    return norms\n",
    "\n",
    "def plot_norms(norms,titlestr,zorder=1,colors=np.repeat([1,0,0],8,axis=0)):\n",
    "    for ii in range(8):\n",
    "        plt.bar(ii,np.mean(norms[ii,:],0),yerr=np.std(norms[ii,:],0)/np.sqrt(len(norms[ii,:])),zorder=zorder,color=colors[ii,:])\n",
    "    plt.title(titlestr,fontsize=14)\n",
    "    plt.ylabel('norm')\n",
    "    plt.xticks(ticks=np.arange(0,8),labels=[str(i) for i in SCALE_WHXS])\n",
    "    plt.xlabel('scaling factor')\n",
    "\n",
    "\n",
    "f = plt.figure(figsize=(5.7,3.3))\n",
    "\n",
    "norms = np.empty((8,N_RUNS))\n",
    "cols = cm.winter(np.linspace(.2,.85,8))\n",
    "for ii in range(8):\n",
    "    for jj in range(N_RUNS):\n",
    "        # norms[ii,jj] = np.linalg.norm(np.concatenate((results['all_w_hxs'][ii,jj,:,:].flatten(),results['all_w_hxc'][ii,jj,:,:].flatten(),results['all_w_yh'][ii,jj,:,:].flatten()),axis=0))\n",
    "        norms[ii,jj] = np.linalg.norm(results['all_w_yh'][ii,jj,:,:].flatten())\n",
    "        \n",
    "plot_norms(norms,'Endpoint Norms, output weights',zorder=3,colors=cols)\n",
    "plt.xticks(ticks=np.arange(0,len(SCALE_WHXS)),labels=scale_labels)\n",
    "\n",
    "plt.ylabel('weight norm',fontsize=12)\n",
    "plt.xlabel(r'init $\\sigma_w$',fontsize=12)\n",
    "\n",
    "ax = plt.gca()\n",
    "ax.spines['right'].set_visible(False)\n",
    "ax.spines['top'].set_visible(False)\n",
    "lims = plt.xlim()\n",
    "\n",
    "plt.xlim(lims)\n",
    "\n",
    "plt.yticks(ticks=np.arange(0,10,2))\n",
    "plt.tight_layout()"
   ]
  },
  {
   "cell_type": "markdown",
   "metadata": {},
   "source": [
    "## show that lazy network would never converge to rich solution:\n",
    "- \"for comparison, networks were trained on the same number of epochs\" \n",
    "- plot delta W as time progresses, should be zero for lazy after a few iterations\n",
    "- show how adding L2 regulariser added to lazy network pushes it down to rich net"
   ]
  },
  {
   "cell_type": "code",
   "execution_count": 87,
   "metadata": {},
   "outputs": [
    {
     "data": {
      "text/plain": [
       "Text(0, 0.5, 'Training Regime')"
      ]
     },
     "execution_count": 87,
     "metadata": {},
     "output_type": "execute_result"
    }
   ],
   "source": [
    "%matplotlib qt\n",
    "with open('D:/DPHIL_01_TREES_FMRI/Paper/code/Experiments/Simulations/results_mlp_main.pkl','rb') as f:\n",
    "    results = pickle.load(f)\n",
    "w = np.concatenate((results['w_delta_hxs'],results['w_delta_hxc']),axis=1)\n",
    "cols = cm.winter(np.linspace(.2,.85,8))\n",
    "for ii,c in enumerate(cols):\n",
    "    plt.plot(np.abs((w[ii,:,:10000])).mean(0),color=c)\n",
    "plt.yscale('linear')\n",
    "cmap_new = mpl.colors.ListedColormap(cm.winter(np.linspace(.2,.85,50)))\n",
    "norm = mpl.colors.Normalize(vmin=0,vmax=1)\n",
    "sm = plt.cm.ScalarMappable(cmap=cmap_new,norm=norm)\n",
    "plt.title(r\"$|\\Delta W|$ on each training iteration, input weights\")\n",
    "cb = plt.colorbar(sm,ticks=[0,1])\n",
    "cb.ax.set_yticklabels(['rich','lazy'])\n",
    "cb.ax.set_ylabel('Training Regime',fontsize=12)\n",
    "\n",
    "\n",
    "w = results['w_delta_yh']\n",
    "plt.figure()\n",
    "for ii,c in enumerate(cols):\n",
    "    plt.plot(np.abs((w[ii,:,:10000])).mean(0),color=c)\n",
    "plt.yscale('linear')\n",
    "cmap_new = mpl.colors.ListedColormap(cm.winter(np.linspace(.2,.85,50)))\n",
    "norm = mpl.colors.Normalize(vmin=0,vmax=1)\n",
    "sm = plt.cm.ScalarMappable(cmap=cmap_new,norm=norm)\n",
    "plt.title(r\"$|\\Delta W|$ on each training iteration, output weights\")\n",
    "cb = plt.colorbar(sm,ticks=[0,1])\n",
    "cb.ax.set_yticklabels(['rich','lazy'])\n",
    "cb.ax.set_ylabel('Training Regime',fontsize=12)\n",
    "\n",
    "w = results['w_delta_hxs']\n",
    "plt.figure()\n",
    "for ii,c in enumerate(cols):\n",
    "    plt.plot(np.abs((w[ii,:,:5000])).mean(0),color=c)\n",
    "plt.yscale('linear')\n",
    "cmap_new = mpl.colors.ListedColormap(cm.winter(np.linspace(.2,.85,50)))\n",
    "norm = mpl.colors.Normalize(vmin=0,vmax=1)\n",
    "sm = plt.cm.ScalarMappable(cmap=cmap_new,norm=norm)\n",
    "plt.title(r\"$|\\Delta W|$ on each training iteration, stimulus weights\")\n",
    "cb = plt.colorbar(sm,ticks=[0,1])\n",
    "cb.ax.set_yticklabels(['rich','lazy'])\n",
    "cb.ax.set_ylabel('Training Regime',fontsize=12)\n",
    "\n",
    "\n",
    "w = results['w_delta_hxc']\n",
    "plt.figure()\n",
    "for ii,c in enumerate(cols):\n",
    "    plt.plot(np.abs((w[ii,:,:5000])).mean(0),color=c)\n",
    "plt.yscale('linear')\n",
    "cmap_new = mpl.colors.ListedColormap(cm.winter(np.linspace(.2,.85,50)))\n",
    "norm = mpl.colors.Normalize(vmin=0,vmax=1)\n",
    "sm = plt.cm.ScalarMappable(cmap=cmap_new,norm=norm)\n",
    "plt.title(r\"$|\\Delta W|$ on each training iteration, context weights\")\n",
    "cb = plt.colorbar(sm,ticks=[0,1])\n",
    "cb.ax.set_yticklabels(['rich','lazy'])\n",
    "cb.ax.set_ylabel('Training Regime',fontsize=12)\n"
   ]
  },
  {
   "cell_type": "code",
   "execution_count": 98,
   "metadata": {},
   "outputs": [],
   "source": [
    "def comp_norms(weights):\n",
    "    norms = np.empty((8,N_RUNS))\n",
    "    for ii in range(8):\n",
    "        for jj in range(N_RUNS):\n",
    "            norms[ii,jj] = np.linalg.norm(weights[ii,jj,:,:].flatten())\n",
    "    return norms\n",
    "\n",
    "def plot_norms(norms,titlestr,zorder=1,colors=np.repeat([1,0,0],8,axis=0)):\n",
    "    for ii in range(8):\n",
    "        plt.bar(ii,np.mean(norms[ii,:],0),yerr=np.std(norms[ii,:],0)/np.sqrt(len(norms[ii,:])),zorder=zorder,color=colors[ii,:])\n",
    "    plt.title(titlestr,fontsize=6)\n",
    "    plt.ylabel('norm')\n",
    "    plt.xticks(ticks=np.arange(0,8),labels=[str(i) for i in SCALE_WHXS])\n",
    "    plt.xlabel('scaling factor')\n",
    "\n",
    "\n",
    "with open('D:/DPHIL_01_TREES_FMRI/Paper/code/Data/Simulations/mlp/results_nnet_l2loss.pickle','rb') as f:\n",
    "    norm_res = pickle.load(f)\n",
    "\n",
    "N_RUNS = 20\n",
    "norms = np.empty((8,N_RUNS))\n",
    "for ii in range(8):\n",
    "    for jj in range(N_RUNS):\n",
    "        norms[ii,jj] = np.linalg.norm(np.concatenate((norm_res['all_w_hxs'][ii,jj,:,:].flatten(),norm_res['all_w_hxc'][ii,jj,:,:].flatten(),norm_res['all_w_yh'][ii,jj,:,:].flatten()),axis=0))\n",
    "\n",
    "norm_l2 = np.mean(norms,1)[0]\n",
    "\n",
    "mm = 1/25.4\n",
    "f = plt.figure(figsize=(55*mm,50*mm),dpi=300)\n",
    "\n",
    "norms = np.empty((8,N_RUNS))\n",
    "cols = cm.winter(np.linspace(.2,.85,8))\n",
    "for ii in range(8):\n",
    "    for jj in range(N_RUNS):\n",
    "        norms[ii,jj] = np.linalg.norm(np.concatenate((results['all_w_hxs'][ii,jj,:,:].flatten(),results['all_w_hxc'][ii,jj,:,:].flatten(),results['all_w_yh'][ii,jj,:,:].flatten()),axis=0))\n",
    "        \n",
    "plot_norms(norms,'Endpoint Norms, all weights',zorder=3,colors=cols)\n",
    "plt.xticks(ticks=np.arange(0,len(SCALE_WHXS)),labels=scale_labels)\n",
    "\n",
    "plt.ylabel('weight norm',fontsize=6)\n",
    "plt.xlabel(r'initial $\\sigma_w$',fontsize=6)\n",
    "\n",
    "ax = plt.gca()\n",
    "ax.spines['right'].set_visible(False)\n",
    "ax.spines['top'].set_visible(False)\n",
    "lims = plt.xlim()\n",
    "bs = plt.plot(lims,[norm_l2]*2,'r--',zorder=4,linewidth=1)\n",
    "plt.xlim(lims)\n",
    "plt.legend(bs,['L2 penalty on lazy init (var=3.0)'],fontsize=6,frameon=False)\n",
    "plt.yticks(ticks=np.arange(0,160,50))\n",
    "plt.tight_layout()"
   ]
  },
  {
   "cell_type": "code",
   "execution_count": 111,
   "metadata": {},
   "outputs": [
    {
     "name": "stdout",
     "output_type": "stream",
     "text": [
      "-0.059415560476289\n",
      "-0.061979035670125575\n",
      "-0.06855363682151953\n",
      "-0.08746451179613184\n",
      "-0.14123695185025095\n",
      "-0.28144225776638493\n",
      "-0.6748012514026157\n",
      "-8.812484620218603\n"
     ]
    }
   ],
   "source": [
    "N_RUNS = 30\n",
    "LAMBDA = np.flip(np.linspace(0,0.1,8))\n",
    "N_FACTORS = len(LAMBDA)\n",
    "scale_labels = [str(ii) for ii in np.round(LAMBDA,2)]\n",
    "\n",
    "with open('D:/DPHIL_01_TREES_FMRI/Paper/code/Data/Simulations/mlp/results_nnet_l2loss.pickle','rb') as f:\n",
    "    norm_res = pickle.load(f)\n",
    "norms = np.empty((8,N_RUNS))\n",
    "for ii in range(8):\n",
    "    for jj in range(N_RUNS):\n",
    "        norms[ii,jj] = np.linalg.norm(np.concatenate((norm_res['all_w_hxs'][ii,jj,:,:].flatten(),norm_res['all_w_hxc'][ii,jj,:,:].flatten()),axis=0))\n",
    "\n",
    "mm = 1/25.4\n",
    "f = plt.figure(figsize=(55*mm,50*mm),dpi=300)\n",
    "\n",
    "cols = cm.winter(np.linspace(.2,.85,8))\n",
    "        \n",
    "plot_norms(norms,'Endpoint Norms, all weights',zorder=3,colors=cols)\n",
    "plt.xticks(ticks=np.arange(0,len(LAMBDA)),labels=scale_labels)\n",
    "\n",
    "plt.ylabel('weight norm',fontsize=6)\n",
    "plt.xlabel(r'regularisation strength $\\lambda$',fontsize=6)\n",
    "\n",
    "ax = plt.gca()\n",
    "ax.spines['right'].set_visible(False)\n",
    "ax.spines['top'].set_visible(False)\n",
    "lims = plt.xlim()\n",
    "plt.xlim(lims)\n",
    "\n",
    "plt.yticks(ticks=np.arange(0,160,50))\n",
    "plt.tight_layout()\n",
    "\n",
    "\n",
    "mm = 1/25.4\n",
    "fig = plt.figure(figsize=(55*mm,55*mm),dpi=300)\n",
    "\n",
    "plt.subplot(2,1,1)\n",
    "plot_norms(norms,'Endpoint Norms, all weights',zorder=3,colors=cols)\n",
    "# plt.xticks(ticks=np.arange(0,len(LRATE)),labels=[],fontsize=6)\n",
    "plt.xticks(ticks=np.arange(0,len(LAMBDA)),labels=scale_labels,fontsize=6,rotation=90)\n",
    "plt.yticks(ticks=np.arange(0,150,50),fontsize=6)\n",
    "plt.ylabel(r'$\\| W_{hidden}\\|$',fontsize=6)\n",
    "ax = plt.gca()\n",
    "ax.spines['right'].set_visible(False)\n",
    "ax.spines['top'].set_visible(False)\n",
    "plt.ylim((0,170))\n",
    "plt.yticks(ticks=[0,50,100,150])\n",
    "lims = plt.xlim()\n",
    "# plt.ylabel('weight norm',fontsize=6)\n",
    "plt.xlabel(r'regularisation strength $\\lambda$',fontsize=6)\n",
    "plt.xlim(lims)\n",
    "plt.tight_layout()\n",
    "\n",
    "ws = norm_res['w_relchange_hxs'][:,:,-1]\n",
    "# print(ws.shape)\n",
    "plt.subplot(2,1,2)\n",
    "for ii in range(ws.shape[0]):\n",
    "    print(np.mean(np.log(np.abs(ws[ii,:])),0))\n",
    "    plt.bar(ii,np.mean(np.log(np.abs(ws[ii,:])),0),yerr=np.std(np.log(np.abs(ws[ii,:])),0)/np.sqrt(N_RUNS),zorder=3,color=cols[ii,:])\n",
    "plt.xticks(ticks=np.arange(0,len(LAMBDA)),labels=scale_labels,fontsize=6,rotation=90)\n",
    "# ax = plt.gca()\n",
    "# ax.set_xticklabels(rotation=90)\n",
    "plt.ylim((-10,5))\n",
    "plt.yticks([-10,-5,0,5])\n",
    "plt.yticks(fontsize=6)\n",
    "plt.ylabel(r'log $\\left(\\Delta\\|W_{hidden}\\|\\right)$',fontsize=6)\n",
    "\n",
    "plt.xlabel(r'regularisation strength $\\lambda$',fontsize=6)\n",
    "\n",
    "ax = plt.gca()\n",
    "ax.spines['right'].set_visible(False)\n",
    "ax.spines['top'].set_visible(False)\n",
    "plt.suptitle(r'Lazy-Init Net ($\\sigma_{init} = 0.3$ with L2 Regulariser)')\n",
    "plt.tight_layout()"
   ]
  },
  {
   "cell_type": "code",
   "execution_count": 103,
   "metadata": {},
   "outputs": [],
   "source": [
    "with open('D:/DPHIL_01_TREES_FMRI/Paper/code/Data/Simulations/mlp/results_nnet_l2loss.pickle','rb') as f:\n",
    "    results = pickle.load(f)\n",
    "\n",
    "LAMBDA = np.flip(np.linspace(0,0.1,8))\n",
    "N_FACTORS = len(LAMBDA)\n",
    "scale_labels = [str(ii) for ii in LAMBDA]\n",
    "\n",
    "_, dmat,xyz = gen_modelrdms(monitor=0)\n",
    "\n",
    "_,c_mu,c_err = stats_fit_rdms(dmat,results['all_y_hidden'])\n",
    "\n",
    "fig=plt.figure(figsize=(67*(1/25.4), 43*(1/25.4)), dpi=300, facecolor='w', edgecolor='k',linewidth=.5)\n",
    "\n",
    "  \n",
    "plot_rsa_fits(c_mu,c_err,runvalue=LAMBDA,runlabel=r'regularisation strength $\\lambda$',titlestr='Model Fits to Hidden Layer')\n",
    "plt.ylim((-.1,1))\n",
    "plt.xticks(ticks=LAMBDA,labels=np.round(LAMBDA,2))\n",
    "plt.xlim((0.11,-0.01))\n",
    "\n",
    "plt.tight_layout()\n"
   ]
  },
  {
   "cell_type": "markdown",
   "metadata": {},
   "source": [
    "## are patterns in rich regime (near-) orthogonal?"
   ]
  },
  {
   "cell_type": "code",
   "execution_count": 51,
   "metadata": {},
   "outputs": [
    {
     "data": {
      "text/plain": [
       "[Text(0.5, 0, 'init weight scale $\\\\sigma$'),\n",
       " Text(0, 0.5, '$x_a^Tx_b$'),\n",
       " Text(0.5, 1.0, 'Dot product between task A and task B patterns')]"
      ]
     },
     "execution_count": 51,
     "metadata": {},
     "output_type": "execute_result"
    }
   ],
   "source": [
    "# # open results (was 'results_nnet_main_withacc_withmlp_stepscaled.pickle)\n",
    "# with open('/media/timo/data/DPHIL_01_TREES_FMRI/Paper/code/Data/Simulations/mlp/results_nnet_main_withacc_withmlp_stepscaled.pickle','rb') as f:\n",
    "#         results = pickle.load(f)\n",
    "SCALE_WHXS = np.asarray([1e-2,1e-1,2e-1,3e-1,4e-1,1,2,3])\n",
    "\n",
    "N_FACTORS = len(SCALE_WHXS)\n",
    "scale_labels = [str(ii) for ii in SCALE_WHXS]\n",
    "plt.figure()\n",
    "plt.plot(SCALE_WHXS,results['hidden_dotprod'].mean(1)[:,1],'ko-')\n",
    "plt.yscale('linear')\n",
    "_ = plt.xticks(ticks=np.arange(0,3.5,.5),labels=np.arange(0,3.5,.5))\n",
    "ax = plt.gca()\n",
    "ax.spines['top'].set_visible(False)\n",
    "ax.spines['right'].set_visible(False)\n",
    "ax.set(xlabel=r'init weight scale $\\sigma$',ylabel=r'$x_a^Tx_b$',title='Dot product between task A and task B patterns')\n"
   ]
  },
  {
   "cell_type": "code",
   "execution_count": 53,
   "metadata": {},
   "outputs": [
    {
     "data": {
      "image/png": "[encoded data removed]",
      "text/plain": [
       "<Figure size 432x288 with 1 Axes>"
      ]
     },
     "metadata": {
      "needs_background": "light"
     },
     "output_type": "display_data"
    }
   ],
   "source": [
    "%matplotlib inline\n",
    "plt.figure()\n",
    "angles = []\n",
    "for i in range(len(results['all_y_hidden'])):\n",
    "    angs = []\n",
    "    for ir in range(30):\n",
    "        vec = results['all_y_hidden'][i,ir,:,:]\n",
    "        vec1 = np.mean(vec[:,:25],1)\n",
    "        vec2 = np.mean(vec[:,25:],1)\n",
    "        angs.append(np.rad2deg(np.arccos((vec1.T@vec2)/(np.sqrt(sum([v**2 for v in vec1]))*np.sqrt(sum([v**2 for v in vec2]))))))\n",
    "    angles.append(angs)\n",
    "angles = np.asarray(angles)\n",
    "_ = plt.errorbar(SCALE_WHXS,angles.mean(1),yerr=np.std(angles,1)/np.sqrt(30),color='k')\n",
    "_ = plt.xticks(ticks=np.arange(0,3.5,.5),labels=np.arange(0,3.5,.5))\n",
    "ax = plt.gca()\n",
    "ax.set(xlabel=r'init weight scale $\\sigma_w$',ylabel=r'angle between tasks $\\theta$',title='Angle between TaskA and Task B Patterns in Hidden Layer')\n",
    "ax.spines['top'] .set_visible(False)   \n",
    "ax.spines['right'].set_visible(False)"
   ]
  },
  {
   "cell_type": "code",
   "execution_count": null,
   "metadata": {},
   "outputs": [],
   "source": [
    "# within task RSA\n",
    "# 1. model rdms: only branchiness and only leafiness\n",
    "# 2. mask out task A or task B (rest to nan) in model and brain rdms \n",
    "# 3. regress\n"
   ]
  },
  {
   "cell_type": "markdown",
   "metadata": {},
   "source": [
    "## Visualise Hidden layer weights"
   ]
  },
  {
   "cell_type": "code",
   "execution_count": 122,
   "metadata": {},
   "outputs": [],
   "source": [
    "# visualise hidden layer weights, sort them by output unit type (mixed selective, task a or task b selective )\n",
    "\n",
    "def plot_hidden_weights(results,regime='rich'):\n",
    "    reg_id = int(regime!='rich') * -1\n",
    "    unit_cols = [[250/255, 147/255, 30/255],[0/255, 6/255, 189/255],[4/255, 162/255, 201/255]]\n",
    "    # get unit ids:\n",
    "    yout = results['all_y_hidden'][reg_id,0,:,:]\n",
    "    x = np.vstack((np.nanmean(yout[:,0:25],1).T,np.nanmean(yout[:,25:],1).T))\n",
    "    # local units\n",
    "    mask_local = ~(np.all(x,axis=0)) & np.any(x,axis=0)\n",
    "    mask_a = np.all(np.vstack((x[0,:]>0,x[1,:]==0)),axis=0)\n",
    "    mask_b = np.all(np.vstack((x[0,:]==0,x[1,:]>0)),axis=0)\n",
    "    mask_mixed = ~mask_local\n",
    "\n",
    "    ws = results['all_w_hxs'][reg_id,0,:,:]\n",
    "    ws = [ws[mask_a,:],ws[mask_b,:],ws[mask_mixed,:]]    \n",
    "    unit_cols = [c for c,w in zip(unit_cols,ws) for i in range(len(w))]\n",
    "    ws = np.concatenate(ws,axis=0)\n",
    "    \n",
    "    mm = 1/25.4\n",
    "    f,axs= plt.subplots(10,10,figsize=(50*mm,80*mm),dpi=300)\n",
    "    axs = axs.ravel()\n",
    "    for ax,c,w in zip(axs,unit_cols,ws):\n",
    "        ax.imshow(w.reshape(5,5))\n",
    "        [i.set_linewidth(1) for i in ax.spines.values()]\n",
    "        [i.set_color(c) for i in ax.spines.values()]\n",
    "        ax.set_xticks([])\n",
    "        ax.set_yticks([])\n",
    "        \n",
    "    plt.suptitle(f'Hidden Layer Weights, {regime} Learning'.title(),fontsize=6)\n",
    "    f.patch.set_facecolor('white')\n",
    "\n",
    "\n",
    "\n",
    "plot_hidden_weights(results,regime='lazy')\n",
    "plot_hidden_weights(results,regime='rich')\n"
   ]
  },
  {
   "cell_type": "markdown",
   "metadata": {},
   "source": [
    "## Magnitude of readout weights\n",
    "are readout weights larger for task-selective units?"
   ]
  },
  {
   "cell_type": "code",
   "execution_count": 135,
   "metadata": {},
   "outputs": [],
   "source": [
    "# visualise hidden layer weights, sort them by output unit type (mixed selective, task a or task b selective )\n",
    "N_RUNS = results['all_y_hidden'].shape[1]\n",
    "\n",
    "def plot_output_weights(results,regime='rich'):\n",
    "    reg_id = int(regime!='rich') * -1\n",
    "    unit_cols = [[250/255, 147/255, 30/255],[0/255, 6/255, 189/255],[4/255, 162/255, 201/255]]\n",
    "    ws = []\n",
    "    for run_id in range(N_RUNS):\n",
    "        # get unit ids:\n",
    "        yout = results['all_y_hidden'][reg_id,run_id,:,:]\n",
    "        x = np.vstack((np.nanmean(yout[:,0:25],1).T,np.nanmean(yout[:,25:],1).T))\n",
    "        # local units\n",
    "        mask_local = ~(np.all(x,axis=0)) & np.any(x,axis=0)\n",
    "        mask_a = np.all(np.vstack((x[0,:]>0,x[1,:]==0)),axis=0)\n",
    "        mask_b = np.all(np.vstack((x[0,:]==0,x[1,:]>0)),axis=0)\n",
    "        mask_mixed = ~mask_local\n",
    "\n",
    "        wr = results['all_w_yh'][reg_id,run_id,:].flatten()\n",
    "        wr = [np.abs(u).mean(0) for u in [wr[mask_a],wr[mask_b],wr[mask_mixed]]]\n",
    "        ws.append(wr)\n",
    "        \n",
    "    ws = np.asarray(ws)\n",
    "    mm = 1/25.4\n",
    "    f,ax= plt.subplots(1,1,figsize=(60*mm,50*mm),dpi=300)\n",
    "    for i in range(3):\n",
    "        ax.bar(i,ws[:,i].mean(0),yerr=np.std(ws[:,i],ddof=1)/np.sqrt(N_RUNS),color=unit_cols[i])\n",
    "    ax.set_xticks(np.arange(3))\n",
    "    ax.set_xticklabels(['task a','task b', 'agnostic'],fontsize=6)\n",
    "    ax.set_xlabel('unit type',fontsize=6)\n",
    "    ax.set_ylabel('output weight magnitude',fontsize=6)\n",
    "    ax.set_yticks(np.arange(0,0.81,0.2))\n",
    "    ax.set_ylim(0,0.8)\n",
    "    ticks = ax.get_yticks()\n",
    "    ax.set_yticklabels(np.round(np.array(ticks),2),fontsize=6)\n",
    "    ax.spines['top'].set_visible(False)\n",
    "    ax.spines['right'].set_visible(False)\n",
    "    \n",
    "        \n",
    "    plt.title(f'{regime} Learning'.title(),fontsize=6)\n",
    "    f.patch.set_facecolor('white')\n",
    "\n",
    "\n",
    "plot_output_weights(results,regime='lazy')\n",
    "plt.tight_layout()\n",
    "plot_output_weights(results,regime='rich')\n",
    "plt.tight_layout()\n"
   ]
  },
  {
   "cell_type": "markdown",
   "metadata": {},
   "source": [
    "## ablation: can you remove task-selective units from lazy net without affecting performance?\n",
    "\n",
    "note: even the task-selective units aren't axis aligned under lazy, so this is probably nothing to worry about"
   ]
  },
  {
   "cell_type": "code",
   "execution_count": 137,
   "metadata": {},
   "outputs": [
    {
     "data": {
      "text/plain": [
       "[[<matplotlib.axis.XTick at 0x152c4365af0>,\n",
       "  <matplotlib.axis.XTick at 0x152c4365ac0>,\n",
       "  <matplotlib.axis.XTick at 0x152c4365280>],\n",
       " [Text(0, 0, 'all'),\n",
       "  Text(1, 0, 'task-specific removed'),\n",
       "  Text(2, 0, 'task-agnostic removed')],\n",
       " Text(0.5, 1.0, 'lazy learning'),\n",
       " (0.5, 1.0)]"
      ]
     },
     "execution_count": 137,
     "metadata": {},
     "output_type": "execute_result"
    }
   ],
   "source": [
    "with open('D:/DPHIL_01_TREES_FMRI/Paper/code/Experiments/Simulations/results_mlp_main.pkl','rb') as f:\n",
    "    results = pickle.load(f)\n",
    "# with open('/media/timo/data/DPHIL_01_TREES_FMRI/Paper/code/Data/Simulations/mlp/results_nnet_main_withacc_withmlp_stepscaled.pickle','rb') as f:\n",
    "#         results = pickle.load(f)\n",
    "\n",
    "f,axs = plt.subplots(1,2,figsize=(10,6))\n",
    "axs = axs.flatten()\n",
    "axs[0].bar(np.arange(3),[results['acc_y_ref'][0,:,:].mean(),results['acc_ablate_task'][0,:,:].mean(),results['acc_ablate_mixed'][0,:,:].mean()],yerr=np.squeeze(np.array([[results['acc_y_ref'][0,:].std(0,ddof=1),results['acc_ablate_task'][0,:].std(0,ddof=1),results['acc_ablate_mixed'][0,:].std(0,ddof=1)]])/np.sqrt(N_RUNS)))\n",
    "axs[0].set(xticks=[0,1,2],xticklabels=['all','task-specific removed','task-agnostic removed'],title='rich learning',ylim=(.5,1))\n",
    "axs[1].bar(np.arange(3),[results['acc_y_ref'][-1,:,:].mean(),results['acc_ablate_task'][-1,:,:].mean(),results['acc_ablate_mixed'][-1,:,:].mean()],yerr=np.squeeze(np.array([[results['acc_y_ref'][-1,:].std(0,ddof=1),results['acc_ablate_task'][-1,:].std(0,ddof=1),results['acc_ablate_mixed'][-1,:].std(0,ddof=1)]])/np.sqrt(N_RUNS)))\n",
    "axs[1].set(xticks=[0,1,2],xticklabels=['all','task-specific removed','task-agnostic removed'],title='lazy learning',ylim=(.5,1))"
   ]
  },
  {
   "cell_type": "markdown",
   "metadata": {},
   "source": [
    "## selectivity: regression-based selectivity analysis \n",
    "just like for the NHPs"
   ]
  },
  {
   "cell_type": "code",
   "execution_count": 121,
   "metadata": {},
   "outputs": [
    {
     "ename": "ModuleNotFoundError",
     "evalue": "No module named 'statsmodels'",
     "output_type": "error",
     "traceback": [
      "\u001b[0;31m---------------------------------------------------------------------------\u001b[0m",
      "\u001b[0;31mModuleNotFoundError\u001b[0m                       Traceback (most recent call last)",
      "\u001b[0;32m/tmp/ipykernel_243768/3506072959.py\u001b[0m in \u001b[0;36m<module>\u001b[0;34m\u001b[0m\n\u001b[0;32m----> 1\u001b[0;31m \u001b[0;32mimport\u001b[0m \u001b[0mstatsmodels\u001b[0m\u001b[0;34m.\u001b[0m\u001b[0mapi\u001b[0m \u001b[0;32mas\u001b[0m \u001b[0msm\u001b[0m\u001b[0;34m\u001b[0m\u001b[0;34m\u001b[0m\u001b[0m\n\u001b[0m\u001b[1;32m      2\u001b[0m \u001b[0;32mfrom\u001b[0m \u001b[0mstatsmodels\u001b[0m\u001b[0;34m.\u001b[0m\u001b[0mstats\u001b[0m\u001b[0;34m.\u001b[0m\u001b[0mmultitest\u001b[0m \u001b[0;32mimport\u001b[0m \u001b[0mfdrcorrection\u001b[0m\u001b[0;34m\u001b[0m\u001b[0;34m\u001b[0m\u001b[0m\n\u001b[1;32m      3\u001b[0m \u001b[0;32mfrom\u001b[0m \u001b[0mutils\u001b[0m \u001b[0;32mimport\u001b[0m \u001b[0mmk_experiment\u001b[0m\u001b[0;34m\u001b[0m\u001b[0;34m\u001b[0m\u001b[0m\n\u001b[1;32m      4\u001b[0m \u001b[0;32mfrom\u001b[0m \u001b[0mIPython\u001b[0m\u001b[0;34m.\u001b[0m\u001b[0mcore\u001b[0m\u001b[0;34m.\u001b[0m\u001b[0mdebugger\u001b[0m \u001b[0;32mimport\u001b[0m \u001b[0mset_trace\u001b[0m\u001b[0;34m\u001b[0m\u001b[0;34m\u001b[0m\u001b[0m\n\u001b[1;32m      5\u001b[0m \u001b[0;32mfrom\u001b[0m \u001b[0mcopy\u001b[0m \u001b[0;32mimport\u001b[0m \u001b[0mdeepcopy\u001b[0m\u001b[0;34m\u001b[0m\u001b[0;34m\u001b[0m\u001b[0m\n",
      "\u001b[0;31mModuleNotFoundError\u001b[0m: No module named 'statsmodels'"
     ]
    }
   ],
   "source": [
    "import statsmodels.api as sm\n",
    "from statsmodels.stats.multitest import fdrcorrection\n",
    "from utils import mk_experiment\n",
    "from IPython.core.debugger import set_trace\n",
    "from copy import deepcopy\n",
    "\n",
    "\n",
    "# with open('/media/timo/data/DPHIL_01_TREES_FMRI/Paper/code/Experiments/Simulations/results_mlp_main.pkl','rb') as f:\n",
    "#     results = pickle.load(f)\n",
    "# with open('/media/timo/data/DPHIL_01_TREES_FMRI/Paper/code/Data/Simulations/mlp/results_nnet_main_withacc_withmlp_stepscaled.pickle','rb') as f:\n",
    "#         results = pickle.load(f)\n",
    "\n",
    "_, c, y,f = mk_experiment('both')\n",
    "# regressors: l_a,b_a,l_b,b_b \n",
    "c = (np.array(c)>0).astype(int)\n",
    "dmat = zscore(np.tile(np.array(f),(1,2))*np.repeat(c,2,axis=0).T,axis=0)\n",
    "betas = np.empty((8,N_RUNS,100,4))\n",
    "pvals = np.empty((8,N_RUNS,100,4))\n",
    "fdr_sig = np.empty((8,N_RUNS,100,4))\n",
    "\n",
    "# loop over runs, regimes and units\n",
    "\n",
    "for r in range(N_RUNS):\n",
    "    for s in range(8):\n",
    "        for u in range(100):\n",
    "            y = results['all_y_hidden'][s,r,u,:]            \n",
    "            y = y[:,np.newaxis]            \n",
    "            # catch dead units:\n",
    "            if np.any(np.isnan(y)):\n",
    "                betas[s,r,u,:] = [np.nan]*4                \n",
    "            else:\n",
    "                modelfits = sm.OLS(y,dmat).fit()\n",
    "                betas[s,r,u,:] = modelfits.params.flatten()\n",
    "                pvals[s,r,u,:] = modelfits.pvalues.flatten()\n",
    "        for i in range(4):\n",
    "            fdr_sig[s,r,:,i],_ = fdrcorrection(pvals[s,r,:,i])\n",
    "\n",
    "            \n",
    "\n",
    "proportions = []\n",
    "for s in range(8):\n",
    "    proportions_r = []\n",
    "    for r in range(N_RUNS):\n",
    "        p = fdr_sig[s,r,:,:].astype('int')\n",
    "        n_sig = np.any(p,axis=1).sum()\n",
    "        idx_ta = ((p[:,0]==0) & (p[:,1]==1)) & ((p[:,2]==0) & (p[:,3]==0))\n",
    "        idx_tb = ((p[:,0]==0) & (p[:,1]==0)) & ((p[:,2]==1) & (p[:,3]==0))\n",
    "        idx_mix = ((p[:,0]==1) & (p[:,1]==1)) | ((p[:,2]==1) & (p[:,3]==1))\n",
    "        idx_branch = ((p[:,0]==0) & (p[:,1]==1)) & ((p[:,2]==0) & (p[:,3]==1))\n",
    "        idx_leaf = ((p[:,0]==1) & (p[:,1]==0)) & ((p[:,2]==1) & (p[:,3]==0))\n",
    "        task_fract = [sum(idx_ta)/n_sig,sum(idx_tb)/n_sig,sum(idx_mix)/n_sig,sum(idx_branch)/n_sig,sum(idx_leaf)/n_sig]\n",
    "        task_fract.append(1-sum(task_fract))\n",
    "        proportions_r.append(task_fract)\n",
    "    proportions.append(deepcopy(proportions_r))\n",
    "proportions = np.array(proportions)\n",
    "f,axs = plt.subplots(2,4,figsize=(10,10))\n",
    "axs = axs.ravel()\n",
    "for i,ax in enumerate(axs):\n",
    "    ax.bar(np.arange(6),proportions[i,:,:].mean(0),yerr=np.std(proportions[i,:,:],ddof=1,axis=0)/np.sqrt(N_RUNS))\n",
    "    ax.set(ylim=(0,1))\n",
    "\n"
   ]
  },
  {
   "cell_type": "markdown",
   "metadata": {},
   "source": [
    "## Ablation: does removing only task A units affect task A performance (and vice versa?)"
   ]
  },
  {
   "cell_type": "code",
   "execution_count": 148,
   "metadata": {},
   "outputs": [
    {
     "name": "stdout",
     "output_type": "stream",
     "text": [
      "[[1.         1.        ]\n",
      " [0.99833333 1.        ]\n",
      " [0.72333333 1.        ]\n",
      " [1.         0.69833333]]\n",
      "[[1.         1.        ]\n",
      " [0.94166667 0.91666667]\n",
      " [0.96833333 0.96166667]\n",
      " [0.96166667 0.94666667]]\n"
     ]
    }
   ],
   "source": [
    "# bars: a/b: all, removed a, removed b, removed mixed \n",
    "# one fig rich, one for lazy\n",
    "mm = 1/25.4\n",
    "f,axs = plt.subplots(1,2,figsize=(50*mm,50*mm),dpi=300)\n",
    "axs = axs.flatten()\n",
    "# rich \n",
    "mu = np.array([results['acc_ablate_none_both'][0,:,:].mean(0),results['acc_ablate_mixed_both'][0,:,:].mean(0),results['acc_ablate_a_both'][0,:,:].mean(0),results['acc_ablate_b_both'][0,:,:].mean(0)])\n",
    "err = np.array([results['acc_ablate_none_both'][0,:,:].std(0,ddof=1)/np.sqrt(N_RUNS),results['acc_ablate_mixed_both'][0,:,:].std(0,ddof=1)/np.sqrt(N_RUNS),results['acc_ablate_a_both'][0,:,:].std(0,ddof=1)/np.sqrt(N_RUNS),results['acc_ablate_b_both'][0,:,:].std(0,ddof=1)/np.sqrt(N_RUNS)])\n",
    "print(mu)\n",
    "b1 = axs[0].bar(np.arange(4)-.2,mu[:,0],yerr=err[:,0],color='darkblue',width=.4)\n",
    "b2 = axs[0].bar(np.arange(4)+.2,mu[:,1],yerr=err[:,1],color='orange',width=.4)\n",
    "axs[0].set(xticks=[0,1,2,3])\n",
    "axs[0].set_xticklabels(['none','task agnostic','task a sel.','task b sel.'],fontsize=6)\n",
    "axs[0].set_title('Rich Learning',fontsize=6)\n",
    "axs[0].set_xlabel('ablated units',fontsize=6)\n",
    "axs[0].set_ylabel('accuracy (%)',fontsize=6)\n",
    "axs[0].set_yticks(np.arange(0,1.05,0.25))\n",
    "axs[0].set_yticklabels(np.arange(0,105,25),fontsize=6)\n",
    "axs[0].set_ylim(.5,1)\n",
    "for label in axs[0].get_xticklabels():\n",
    "    \n",
    "    label.set_rotation(90)\n",
    "axs[0].spines['top'].set_visible(False)\n",
    "axs[0].spines['right'].set_visible(False)\n",
    "\n",
    "# lazy\n",
    "mu = np.array([results['acc_ablate_none_both'][-1,:,:].mean(0),results['acc_ablate_mixed_both'][-1,:,:].mean(0),results['acc_ablate_a_both'][-1,:,:].mean(0),results['acc_ablate_b_both'][-1,:,:].mean(0),])\n",
    "err = np.array([results['acc_ablate_none_both'][-1,:,:].std(0,ddof=1)/np.sqrt(N_RUNS),results['acc_ablate_mixed_both'][-1,:,:].std(0,ddof=1)/np.sqrt(N_RUNS),results['acc_ablate_a_both'][-1,:,:].std(0,ddof=1)/np.sqrt(N_RUNS),results['acc_ablate_b_both'][-1,:,:].std(0,ddof=1)/np.sqrt(N_RUNS)])\n",
    "print(mu)\n",
    "b1 = axs[1].bar(np.arange(4)-.2,mu[:,0],yerr=err[:,0],color='darkblue',width=.4)\n",
    "b2 = axs[1].bar(np.arange(4)+.2,mu[:,1],yerr=err[:,1],color='orange',width=.4)\n",
    "axs[1].set(xticks=[0,1,2,3])\n",
    "axs[1].set_xticklabels(['none','task agnostic','task a sel.','task b sel.'],fontsize=6)\n",
    "axs[1].set_title('Lazy Learning',fontsize=6)\n",
    "axs[1].set_xlabel('ablated units',fontsize=6)\n",
    "axs[1].set_ylabel('accuracy (%)',fontsize=6)\n",
    "axs[1].set_yticks(np.arange(0,1.05,0.25))\n",
    "axs[1].set_yticklabels(np.arange(0,105,25),fontsize=6)\n",
    "axs[1].set_ylim(.5,1)\n",
    "for label in axs[1].get_xticklabels():\n",
    "    \n",
    "    label.set_rotation(90)\n",
    "axs[1].spines['top'].set_visible(False)\n",
    "axs[1].spines['right'].set_visible(False)"
   ]
  },
  {
   "cell_type": "markdown",
   "metadata": {},
   "source": [
    "## Ablation: does ablating linear units impact performance on congruent trials?"
   ]
  },
  {
   "cell_type": "code",
   "execution_count": 153,
   "metadata": {},
   "outputs": [
    {
     "name": "stdout",
     "output_type": "stream",
     "text": [
      "[[1.         1.        ]\n",
      " [0.8625     0.56875   ]\n",
      " [0.99791667 1.        ]]\n",
      "[[1.         1.        ]\n",
      " [0.8625     0.825     ]\n",
      " [0.925      0.92708333]]\n"
     ]
    }
   ],
   "source": [
    "mm = 1/25.4\n",
    "f,axs = plt.subplots(1,2,figsize=(50*mm,50*mm),dpi=300)\n",
    "\n",
    "axs = axs.flatten()\n",
    "# rich \n",
    "mu = np.array([results['acc_ablate_none_congr'][0,:,:].mean(0),results['acc_ablate_task_congr'][0,:,:].mean(0),results['acc_ablate_mixed_congr'][0,:,:].mean(0)])\n",
    "err = np.array([results['acc_ablate_none_congr'][0,:,:].std(0,ddof=1)/np.sqrt(N_RUNS),results['acc_ablate_task_congr'][0,:,:].std(0,ddof=1)/np.sqrt(N_RUNS),results['acc_ablate_mixed_congr'][0,:,:].std(0,ddof=1)/np.sqrt(N_RUNS)])\n",
    "print(mu)\n",
    "b1 = axs[0].bar(np.arange(3)-.2,mu[:,0],yerr=err[:,0],color='green',width=.4)\n",
    "b2 = axs[0].bar(np.arange(3)+.2,mu[:,1],yerr=err[:,1],color='red',width=.4)\n",
    "axs[0].set(xticks=[0,1,2])\n",
    "axs[0].set_xticklabels(['none','task sel.','task agn.'],fontsize=6,rotation=90)\n",
    "axs[0].set_title('Rich Learning',fontsize=6)\n",
    "axs[0].set_xlabel('ablated units',fontsize=6)\n",
    "axs[0].set_ylabel('accuracy (%)',fontsize=6)\n",
    "axs[0].set_yticks(np.arange(0,1.05,0.25))\n",
    "axs[0].set_yticklabels(np.arange(0,105,25),fontsize=6)\n",
    "axs[0].set_ylim(.5,1)\n",
    "axs[0].legend(['congruent','incongruent'],fontsize=6,loc=1,frameon=False)\n",
    "axs[0].spines['top'].set_visible(False)\n",
    "axs[0].spines['right'].set_visible(False)\n",
    "\n",
    " \n",
    "# lazy\n",
    "mu = np.array([results['acc_ablate_none_congr'][-1,:,:].mean(0),results['acc_ablate_task_congr'][-1,:,:].mean(0),results['acc_ablate_mixed_congr'][-1,:,:].mean(0)])\n",
    "err = np.array([results['acc_ablate_none_congr'][-1,:,:].std(0,ddof=1)/np.sqrt(N_RUNS),results['acc_ablate_task_congr'][-1,:,:].std(0,ddof=1)/np.sqrt(N_RUNS),results['acc_ablate_mixed_congr'][-1,:,:].std(0,ddof=1)/np.sqrt(N_RUNS)])\n",
    "print(mu)\n",
    "b1 = axs[1].bar(np.arange(3)-.2,mu[:,0],yerr=err[:,0],color='green',width=.4)\n",
    "b2 = axs[1].bar(np.arange(3)+.2,mu[:,1],yerr=err[:,1],color='red',width=.4)\n",
    "axs[1].set(xticks=[0,1,2])\n",
    "axs[1].set_xticklabels(['none','task sel.','task agn.'],fontsize=6,rotation=90)\n",
    "axs[1].set_title('Lazy Learning',fontsize=6)\n",
    "axs[1].set_xlabel('ablated units',fontsize=6)\n",
    "axs[1].set_ylabel('accuracy (%)',fontsize=6)\n",
    "axs[1].set_yticks(np.arange(0,1.05,0.25))\n",
    "axs[1].set_yticklabels(np.arange(0,105,25),fontsize=6)\n",
    "axs[1].set_ylim(.5,1)\n",
    "axs[1].legend(['congruent','incongruent'],fontsize=6,loc=1,frameon=False)\n",
    "axs[1].spines['top'].set_visible(False)\n",
    "axs[1].spines['right'].set_visible(False)\n",
    "plt.tight_layout()"
   ]
  },
  {
   "cell_type": "markdown",
   "metadata": {},
   "source": [
    "## Congruency analysis\n",
    "does performance differ between congruent and incongruent trials?"
   ]
  },
  {
   "cell_type": "code",
   "execution_count": 154,
   "metadata": {},
   "outputs": [],
   "source": [
    "def compute_congruency_acc(cmat,cmat_true):    \n",
    "    \"\"\"computes accuracy on congruent and incongruent trials\n",
    "\n",
    "    Args:\n",
    "        cmat (np array): choices\n",
    "        cmat_true (np array): ground truth category labels\n",
    "\n",
    "    Returns:\n",
    "        int: accuracies on congruent and incongruent trials\n",
    "    \"\"\"\n",
    "    c = (cmat>0) == (cmat_true>0)\n",
    "    acc_congruent = (np.mean(c[:2,:2])+np.mean(c[3:,3:]))/2\n",
    "    acc_incongruent = (np.mean(c[:2,3:])+np.mean(c[3:,:2]))/2\n",
    "    return acc_congruent, acc_incongruent\n",
    "\n",
    "\n",
    "_, c, y,f = mk_experiment('both')\n",
    "y = np.squeeze(y)\n",
    "ya = y[:25].reshape(5,5)\n",
    "yb = y[25:].reshape(5,5)\n",
    "\n",
    "accs = np.empty((8,N_RUNS,2))\n",
    "for s in range(8):\n",
    "    ta = results['all_y_out'][s,:,:,:][:,:,:25].reshape(30,5,5)\n",
    "    tb = results['all_y_out'][s,:,:,:][:,:,25:].reshape(30,5,5)\n",
    "    for r in range(N_RUNS):\n",
    "        aca1,aca2 = compute_congruency_acc(ta[1,:,:],ya)        \n",
    "        acb1,acb2 = compute_congruency_acc(tb[1,:,:],yb)\n",
    "        accs[s,r,0] = (aca1+acb1)/2\n",
    "        accs[s,r,1] = (aca2+acb2)/2\n"
   ]
  },
  {
   "cell_type": "code",
   "execution_count": 155,
   "metadata": {},
   "outputs": [
    {
     "data": {
      "text/plain": [
       "Text(0.5, 1.0, 'congruency effect in nnet')"
      ]
     },
     "execution_count": 155,
     "metadata": {},
     "output_type": "execute_result"
    }
   ],
   "source": [
    "plt.bar(np.arange(2),accs[0,:].mean(0),yerr=accs[0,:].std(0)/np.sqrt(N_RUNS))\n",
    "plt.xticks(ticks=[0,1],labels=('congruent','incongruent'))\n",
    "plt.title('congruency effect in nnet')\n",
    "# no difference between congruent and incongruent stimuli"
   ]
  },
  {
   "cell_type": "markdown",
   "metadata": {},
   "source": [
    "## fit parameterised model to hidden layer patterns\n",
    "can we show that the compression, orthogonality etc scores are task diagnostic?"
   ]
  },
  {
   "cell_type": "code",
   "execution_count": 3,
   "metadata": {},
   "outputs": [],
   "source": []
  },
  {
   "cell_type": "code",
   "execution_count": 6,
   "metadata": {},
   "outputs": [],
   "source": [
    "from scipy.stats import kruskal, mannwhitneyu, wilcoxon\n",
    "\n"
   ]
  },
  {
   "cell_type": "code",
   "execution_count": 14,
   "metadata": {},
   "outputs": [],
   "source": [
    "from scipy.stats import norm"
   ]
  },
  {
   "cell_type": "code",
   "execution_count": 12,
   "metadata": {},
   "outputs": [
    {
     "name": "stdout",
     "output_type": "stream",
     "text": [
      "ShapiroResult(statistic=0.9547593593597412, pvalue=0.22630925476551056)\n"
     ]
    }
   ],
   "source": [
    "from scipy.stats import shapiro\n",
    "print(shapiro(compression_rates[-1]))"
   ]
  },
  {
   "cell_type": "code",
   "execution_count": 15,
   "metadata": {},
   "outputs": [
    {
     "name": "stdout",
     "output_type": "stream",
     "text": [
      "are compression rates different? kruskal wallis: z=14.0005, p=0.0000\n",
      "is compression larger in rich than lazy: t=-49.7760, p=0.0000\n",
      "is compression significant in rich: z=4.7821, p=0.0000\n",
      "is compression significant in lazy: z=0.0720, p=0.9426\n"
     ]
    }
   ],
   "source": [
    "from scipy.stats import ttest_ind\n"
   ]
  },
  {
   "cell_type": "code",
   "execution_count": 31,
   "metadata": {},
   "outputs": [
    {
     "name": "stdout",
     "output_type": "stream",
     "text": [
      "are angles different? kruskal wallis: z=1.9976, p=0.0458\n",
      "is angles larger in rich than lazy: z=2.8312, p=0.0046\n",
      "is rotation significantly different from 90 in rich: z=4.7821, p=0.0000\n",
      "is rotation significantly different from 90 in lazy: z=4.7821, p=0.0000\n"
     ]
    }
   ],
   "source": []
  },
  {
   "cell_type": "code",
   "execution_count": 30,
   "metadata": {},
   "outputs": [
    {
     "name": "stdout",
     "output_type": "stream",
     "text": [
      "are offsets different? kruskal wallis: z=8.4022, p=0.0000\n",
      "is offset larger in rich than lazy: z=2.5651, p=0.0103\n",
      "is offset significant in rich: z=4.7821, p=0.0000\n",
      "is offset significant in lazy: z=4.7821, p=0.0000\n"
     ]
    }
   ],
   "source": []
  },
  {
   "cell_type": "code",
   "execution_count": 11,
   "metadata": {},
   "outputs": [],
   "source": [
    "%matplotlib qt\n",
    "def spiceUp_figure(fh,xlabels):\n",
    "    plt.figure(fh.number)\n",
    "    ax = plt.gca()\n",
    "    ax.spines['top'].set_visible(False)\n",
    "    ax.spines['right'].set_visible(False)    \n",
    "    plt.xticks(ticks=np.arange(len(xlabels)),labels=xlabels)\n",
    "\n",
    "\n",
    "with open('parammod_results.pkl','rb') as f:\n",
    "    data = pickle.load(f)\n",
    "\n"
   ]
  },
  {
   "cell_type": "markdown",
   "metadata": {},
   "source": [
    "## Impact of  Learning Rate"
   ]
  },
  {
   "cell_type": "code",
   "execution_count": 76,
   "metadata": {},
   "outputs": [
    {
     "name": "stdout",
     "output_type": "stream",
     "text": [
      "iter at which ceiling is hit: [4035, 2360, 1370, 1002, 832, 821, 3116, 1939, 10000, 10000]\n",
      "faster than lazy learning (times): [0.4  0.24 0.14 0.1  0.08 0.08 0.31 0.19 1.   1.  ]\n"
     ]
    }
   ],
   "source": [
    "with open('D:/DPHIL_01_TREES_FMRI/Paper/code/Experiments/Simulations/results_mlp_lr.pkl','rb') as f:\n",
    "    results = pickle.load(f)\n",
    "\n",
    "%matplotlib qt\n",
    "# compute how much slower nnet converge compared to lazy learning:\n",
    "LRATE = np.asarray([1e-3,2e-3,3e-3,4e-3,5e-3,6e-3,7e-3,8e-3,9e-3,1e-2])\n",
    "\n",
    "cols = cm.winter(np.linspace(.2,.85,len(LRATE)))\n",
    "cols = np.array([cols[0]]*10)\n",
    "is_ceil = []\n",
    "mm = 1/25.4\n",
    "fig = plt.figure(figsize=(55*mm,40*mm),dpi=300)\n",
    "for ii in range(len(LRATE)):\n",
    "    try:\n",
    "        this_conv = np.where(np.mean(results['all_accuracies'][ii,:,:],0)==1)[0][0]\n",
    "    except IndexError:\n",
    "        this_conv = 10000\n",
    "    is_ceil.append(this_conv)\n",
    "    # plt.barh(ii,this_conv,color=cols[ii,:])    \n",
    "    plt.bar(ii,this_conv,color=cols[ii,:])    \n",
    "\n",
    "\n",
    "plt.xlabel('learning rate $\\eta$',fontsize=6)\n",
    "plt.ylabel('Episodes until convergence',fontsize=6)\n",
    "plt.xticks(ticks=np.arange(0,len(LRATE)),labels=LRATE,fontsize=6,rotation=90)\n",
    "ticks = plt.yticks()[0]\n",
    "plt.yticks(ticks=ticks,fontsize=6)\n",
    "ax = plt.gca()\n",
    "ax.set_ylim((0,10000))\n",
    "ticks = np.arange(0,10001,2500)\n",
    "ax.set_yticks(ticks)\n",
    "ax.spines['right'].set_visible(False)\n",
    "ax.spines['top'].set_visible(False)\n",
    "plt.title(r'Rich-Initialised Net ($\\sigma_{init} = 0.01$)')\n",
    "plt.show()\n",
    "plt.tight_layout()\n",
    "print('iter at which ceiling is hit: ' + str(is_ceil))\n",
    "xty = np.round(np.asarray([ii/is_ceil[-1] for ii in is_ceil]),2)\n",
    "print('faster than lazy learning (times): ' + str(xty))\n"
   ]
  },
  {
   "cell_type": "code",
   "execution_count": 77,
   "metadata": {},
   "outputs": [
    {
     "name": "stdout",
     "output_type": "stream",
     "text": [
      "iter at which ceiling is hit: [254, 115, 120, 56, 44, 82, 164, 103, 234, 384]\n",
      "faster than lazy learning (times): [0.66 0.3  0.31 0.15 0.11 0.21 0.43 0.27 0.61 1.  ]\n"
     ]
    }
   ],
   "source": [
    "with open('D:/DPHIL_01_TREES_FMRI/Paper/code/Experiments/Simulations/results_mlp_lr_lazy.pkl','rb') as f:\n",
    "    results = pickle.load(f)\n",
    "\n",
    "%matplotlib qt\n",
    "# compute how much slower nnet converge compared to lazy learning:\n",
    "LRATE = np.asarray([1e-3,2e-3,3e-3,4e-3,5e-3,6e-3,7e-3,8e-3,9e-3,1e-2])\n",
    "\n",
    "cols = cm.winter(np.linspace(.2,.85,len(LRATE)))\n",
    "cols = np.array([cols[-1]]*10)\n",
    "is_ceil = []\n",
    "mm = 1/25.4\n",
    "fig = plt.figure(figsize=(55*mm,40*mm),dpi=300)\n",
    "for ii in range(len(LRATE)):\n",
    "    try:\n",
    "        this_conv = np.where(np.mean(results['all_accuracies'][ii,:,:],0)==1)[0][0]\n",
    "    except IndexError:\n",
    "        this_conv = 10000\n",
    "    is_ceil.append(this_conv)\n",
    "    # plt.barh(ii,this_conv,color=cols[ii,:])    \n",
    "    plt.bar(ii,this_conv,color=cols[ii,:])    \n",
    "\n",
    "\n",
    "plt.xlabel('learning rate $\\eta$',fontsize=6)\n",
    "plt.ylabel('Episodes until convergence',fontsize=6)\n",
    "plt.xticks(ticks=np.arange(0,len(LRATE)),labels=LRATE,fontsize=6,rotation=90)\n",
    "ticks = plt.yticks()[0]\n",
    "plt.yticks(ticks=ticks,fontsize=6)\n",
    "ax = plt.gca()\n",
    "ax.set_ylim((0,10000))\n",
    "ticks = np.arange(0,10001,2500)\n",
    "ax.set_yticks(ticks)\n",
    "ax.spines['right'].set_visible(False)\n",
    "ax.spines['top'].set_visible(False)\n",
    "plt.title(r'Lazy-Initialised Net ($\\sigma_{init} = 0.3$)')\n",
    "plt.show()\n",
    "plt.tight_layout()\n",
    "print('iter at which ceiling is hit: ' + str(is_ceil))\n",
    "xty = np.round(np.asarray([ii/is_ceil[-1] for ii in is_ceil]),2)\n",
    "print('faster than lazy learning (times): ' + str(xty))\n"
   ]
  },
  {
   "cell_type": "code",
   "execution_count": 78,
   "metadata": {},
   "outputs": [],
   "source": [
    "def plot_norms(norms,titlestr,zorder=1,colors=np.repeat([1,0,0],len(LRATE),axis=0)):\n",
    "    for ii in range(len(LRATE)):\n",
    "        plt.bar(ii,np.mean(norms[ii,:],0),yerr=np.std(norms[ii,:],0)/np.sqrt(len(norms[ii,:])),zorder=zorder,color=colors[ii,:])\n",
    "    # plt.title(titlestr,fontsize=14)\n",
    "    plt.ylabel('norm')\n",
    "    plt.xticks(ticks=np.arange(0,len(LRATE)),labels=[str(i) for i in LRATE])\n",
    "    # plt.xlabel('scaling factor')\n",
    "\n",
    "with open('D:/DPHIL_01_TREES_FMRI/Paper/code/Experiments/Simulations/results_mlp_lr.pkl','rb') as f:\n",
    "    results = pickle.load(f)\n",
    "\n",
    "ws = results['w_relchange_hxs'][:,:,-1]\n",
    "N_RUNS = ws.shape[1]\n",
    "\n",
    "\n",
    "\n",
    "mm = 1/25.4\n",
    "fig = plt.figure(figsize=(55*mm,55*mm),dpi=300)\n",
    "\n",
    "plt.subplot(2,1,1)\n",
    "\n",
    "norms = np.empty((len(LRATE),N_RUNS))\n",
    "cols = cm.winter(np.linspace(.2,.85,len(LRATE)))\n",
    "cols = np.array([cols[0]]*10)\n",
    "for ii in range(len(LRATE)):\n",
    "    for jj in range(N_RUNS):\n",
    "        norms[ii,jj] = np.linalg.norm(np.concatenate((results['all_w_hxs'][ii,jj,:,:].flatten(),results['all_w_hxc'][ii,jj,:,:].flatten()),axis=0))\n",
    "\n",
    "plot_norms(norms,'Endpoint Norms, all weights',zorder=3,colors=cols)\n",
    "# plt.xticks(ticks=np.arange(0,len(LRATE)),labels=[],fontsize=6)\n",
    "plt.xticks(ticks=np.arange(0,len(LRATE)),labels=LRATE,fontsize=6,rotation=90)\n",
    "plt.yticks(ticks=np.arange(0,150,50),fontsize=6)\n",
    "plt.ylabel(r'$\\| W_{hidden}\\|$',fontsize=6)\n",
    "ax = plt.gca()\n",
    "ax.spines['right'].set_visible(False)\n",
    "ax.spines['top'].set_visible(False)\n",
    "plt.ylim((0,170))\n",
    "plt.yticks(ticks=[0,50,100,150])\n",
    "lims = plt.xlim()\n",
    "plt.xlim(lims)\n",
    "plt.tight_layout()\n",
    "\n",
    "\n",
    "plt.subplot(2,1,2)\n",
    "for ii in range(ws.shape[0]):\n",
    "    plt.bar(ii,np.mean(np.log(np.abs(ws[ii,:])),0),yerr=np.std(np.log(np.abs(ws[ii,:])),0)/np.sqrt(N_RUNS),zorder=3,color=cols[ii,:])\n",
    "plt.xticks(ticks=np.arange(0,len(LRATE)),labels=LRATE,fontsize=6,rotation=90)\n",
    "# ax = plt.gca()\n",
    "# ax.set_xticklabels(rotation=90)\n",
    "plt.ylim((-10,5))\n",
    "plt.yticks([-10,-5,0,5])\n",
    "plt.yticks(fontsize=6)\n",
    "plt.ylabel(r'log $\\left(\\Delta\\|W_{hidden}\\|\\right)$',fontsize=6)\n",
    "plt.xlabel(r'learning rate $\\eta$',fontsize=6)\n",
    "\n",
    "ax = plt.gca()\n",
    "ax.spines['right'].set_visible(False)\n",
    "ax.spines['top'].set_visible(False)\n",
    "plt.suptitle(r'Rich-Initialised Net ($\\sigma_{init} = 0.01$)')\n",
    "plt.tight_layout()"
   ]
  },
  {
   "cell_type": "code",
   "execution_count": 79,
   "metadata": {},
   "outputs": [],
   "source": [
    "def plot_norms(norms,titlestr,zorder=1,colors=np.repeat([1,0,0],len(LRATE),axis=0)):\n",
    "    for ii in range(len(LRATE)):\n",
    "        plt.bar(ii,np.mean(norms[ii,:],0),yerr=np.std(norms[ii,:],0)/np.sqrt(len(norms[ii,:])),zorder=zorder,color=colors[ii,:])\n",
    "    # plt.title(titlestr,fontsize=14)\n",
    "    plt.ylabel('norm')\n",
    "    plt.xticks(ticks=np.arange(0,len(LRATE)),labels=[str(i) for i in LRATE])\n",
    "    # plt.xlabel('scaling factor')\n",
    "\n",
    "with open('D:/DPHIL_01_TREES_FMRI/Paper/code/Experiments/Simulations/results_mlp_lr_lazy.pkl','rb') as f:\n",
    "    results = pickle.load(f)\n",
    "\n",
    "ws = results['w_relchange_hxs'][:,:,-1]\n",
    "N_RUNS = ws.shape[1]\n",
    "\n",
    "\n",
    "\n",
    "mm = 1/25.4\n",
    "fig = plt.figure(figsize=(55*mm,55*mm),dpi=300)\n",
    "\n",
    "plt.subplot(2,1,1)\n",
    "\n",
    "norms = np.empty((len(LRATE),N_RUNS))\n",
    "cols = cm.winter(np.linspace(.2,.85,len(LRATE)))\n",
    "cols = np.array([cols[-1]]*10)\n",
    "for ii in range(len(LRATE)):\n",
    "    for jj in range(N_RUNS):\n",
    "        norms[ii,jj] = np.linalg.norm(np.concatenate((results['all_w_hxs'][ii,jj,:,:].flatten(),results['all_w_hxc'][ii,jj,:,:].flatten()),axis=0))\n",
    "\n",
    "plot_norms(norms,'Endpoint Norms, all weights',zorder=3,colors=cols)\n",
    "# plt.xticks(ticks=np.arange(0,len(LRATE)),labels=[],fontsize=6)\n",
    "plt.xticks(ticks=np.arange(0,len(LRATE)),labels=LRATE,fontsize=6,rotation=90)\n",
    "plt.yticks(ticks=np.arange(0,150,50),fontsize=6)\n",
    "plt.ylabel(r'$\\| W_{hidden}\\|$',fontsize=6)\n",
    "ax = plt.gca()\n",
    "ax.spines['right'].set_visible(False)\n",
    "ax.spines['top'].set_visible(False)\n",
    "plt.ylim((0,170))\n",
    "plt.yticks(ticks=[0,50,100,150])\n",
    "lims = plt.xlim()\n",
    "plt.xlim(lims)\n",
    "plt.tight_layout()\n",
    "\n",
    "\n",
    "plt.subplot(2,1,2)\n",
    "for ii in range(ws.shape[0]):\n",
    "    plt.bar(ii,np.mean(np.log(np.abs(ws[ii,:])),0),yerr=np.std(np.log(np.abs(ws[ii,:])),0)/np.sqrt(N_RUNS),zorder=3,color=cols[ii,:])\n",
    "plt.xticks(ticks=np.arange(0,len(LRATE)),labels=LRATE,fontsize=6,rotation=90)\n",
    "plt.ylim((-10,5))\n",
    "plt.yticks([-10,-5,0,5])\n",
    "plt.yticks(fontsize=6)\n",
    "plt.ylabel(r'log $\\left(\\Delta\\|W_{hidden}\\|\\right)$',fontsize=6)\n",
    "plt.xlabel(r'learning rate $\\eta$',fontsize=6)\n",
    "\n",
    "ax = plt.gca()\n",
    "ax.spines['right'].set_visible(False)\n",
    "ax.spines['top'].set_visible(False)\n",
    "plt.suptitle(r'Lazy-Initialised Net ($\\sigma_{init} = 0.3$)')\n",
    "plt.tight_layout()"
   ]
  },
  {
   "cell_type": "code",
   "execution_count": 80,
   "metadata": {},
   "outputs": [],
   "source": [
    "with open('D:/DPHIL_01_TREES_FMRI/Paper/code/Experiments/Simulations/results_mlp_lr.pkl','rb') as f:\n",
    "    results = pickle.load(f)\n",
    "\n",
    "ws = results['w_relchange_hxs'][:,:,-1]\n",
    "N_RUNS = ws.shape[1]\n",
    "_, dmat,xyz = gen_modelrdms(monitor=0)\n",
    "\n",
    "_,c_mu,c_err = stats_fit_rdms(dmat,results['all_y_hidden'])\n",
    "\n",
    "fig=plt.figure(figsize=(67*(1/25.4), 43*(1/25.4)), dpi=300, facecolor='w', edgecolor='k',linewidth=.5)\n",
    "# ax = plt.gca()\n",
    "# for axis in ['top','bottom','left','right']:\n",
    "#   ax.spines[axis].set_linewidth(.5)\n",
    "  \n",
    "\n",
    "plot_rsa_fits(c_mu,c_err,runvalue=LRATE,runlabel=r'learning rate $\\eta$',titlestr=r'Rich-initialised net ($\\sigma_{init} = 0.01$)')\n",
    "plt.xticks(ticks=LRATE,labels=LRATE,rotation=90)\n",
    "plt.xlim((LRATE[0],LRATE[-1]))\n",
    "plt.ylim((-.1,1))\n",
    "\n",
    "\n",
    "plt.tight_layout()"
   ]
  },
  {
   "cell_type": "code",
   "execution_count": 81,
   "metadata": {},
   "outputs": [],
   "source": [
    "with open('D:/DPHIL_01_TREES_FMRI/Paper/code/Experiments/Simulations/results_mlp_lr_lazy.pkl','rb') as f:\n",
    "    results = pickle.load(f)\n",
    "\n",
    "ws = results['w_relchange_hxs'][:,:,-1]\n",
    "N_RUNS = ws.shape[1]\n",
    "_, dmat,xyz = gen_modelrdms(monitor=0)\n",
    "\n",
    "_,c_mu,c_err = stats_fit_rdms(dmat,results['all_y_hidden'])\n",
    "\n",
    "fig=plt.figure(figsize=(67*(1/25.4), 43*(1/25.4)), dpi=300, facecolor='w', edgecolor='k',linewidth=.5)\n",
    "# ax = plt.gca()\n",
    "# for axis in ['top','bottom','left','right']:\n",
    "#   ax.spines[axis].set_linewidth(.5)\n",
    "  \n",
    "\n",
    "plot_rsa_fits(c_mu,c_err,runvalue=LRATE,runlabel=r'learning rate $\\eta$',titlestr=r'Lazy-initialised net ($\\sigma_{init} = 0.3$)')\n",
    "plt.xticks(ticks=LRATE,labels=LRATE,rotation=90)\n",
    "plt.xlim((LRATE[0],LRATE[-1]))\n",
    "plt.ylim((-.1,1))\n",
    "\n",
    "\n",
    "plt.tight_layout()"
   ]
  },
  {
   "cell_type": "markdown",
   "metadata": {},
   "source": [
    "## PCA on hidden layer:\n",
    "\"do the first few principal components capture the dimensions of the inputs?\""
   ]
  },
  {
   "cell_type": "code",
   "execution_count": 26,
   "metadata": {},
   "outputs": [
    {
     "data": {
      "text/plain": [
       "(150, 4)"
      ]
     },
     "execution_count": 26,
     "metadata": {},
     "output_type": "execute_result"
    }
   ],
   "source": [
    "from sklearn import datasets\n",
    "\n",
    "iris = datasets.load_iris()\n",
    "X = iris.data\n",
    "X.shape"
   ]
  },
  {
   "cell_type": "code",
   "execution_count": 55,
   "metadata": {},
   "outputs": [
    {
     "name": "stdout",
     "output_type": "stream",
     "text": [
      "(50, 3000)\n"
     ]
    },
    {
     "data": {
      "image/png": "[encoded data removed]",
      "text/plain": [
       "<Figure size 1500x1500 with 2 Axes>"
      ]
     },
     "metadata": {},
     "output_type": "display_data"
    }
   ],
   "source": [
    "y = np.squeeze(results['all_y_hidden'][0,:,:,:])\n",
    "y = np.reshape(y,(100*30,50))\n",
    "from sklearn.decomposition import PCA\n",
    "from sklearn.preprocessing import StandardScaler \n",
    "sc = StandardScaler()\n",
    "y = sc.fit_transform(y.T)\n",
    "print(y.shape)\n",
    "pca = PCA(n_components=3)\n",
    "yz = pca.fit_transform(y)\n",
    "yz /= np.max(yz)\n",
    "\n",
    "fig = plt.figure(1,facecolor='w',figsize=(5,5),dpi=300)\n",
    "plot_MDS_embeddings_2D(yz,fig,fig_id=1,axlims=1)"
   ]
  },
  {
   "cell_type": "markdown",
   "metadata": {},
   "source": [
    "## mds"
   ]
  },
  {
   "cell_type": "code",
   "execution_count": 2,
   "metadata": {},
   "outputs": [],
   "source": [
    "import math\n",
    "# helper functions\n",
    "def rotate_axes(x,y,theta):\n",
    "    # theta is in degrees\n",
    "    theta_rad = theta * (math.pi/180)  # convert to radians\n",
    "    x_new = x * math.cos(theta_rad) + y * math.sin(theta_rad)\n",
    "    y_new =  -x * math.sin(theta_rad) + y * math.cos(theta_rad)\n",
    "    return x_new, y_new\n",
    "\n",
    "def rotate(X, theta, axis='x'):\n",
    "    '''Rotate multidimensional array `X` `theta` degrees around axis `axis`'''\n",
    "    theta = theta * (math.pi/180)  # convert to radians\n",
    "    c, s = np.cos(theta), np.sin(theta)\n",
    "    if axis == 'x': return np.dot(X, np.array([\n",
    "        [1.,  0,  0],\n",
    "        [0 ,  c, -s],\n",
    "        [0 ,  s,  c]\n",
    "        ]))\n",
    "    elif axis == 'y': return np.dot(X, np.array([\n",
    "        [c,  0,  -s],\n",
    "        [0,  1,   0],\n",
    "        [s,  0,   c]\n",
    "        ]))\n",
    "    elif axis == 'z': return np.dot(X, np.array([\n",
    "        [c, -s,  0 ],\n",
    "        [s,  c,  0 ],\n",
    "        [0,  0,  1.],\n",
    "        ]))\n"
   ]
  },
  {
   "cell_type": "code",
   "execution_count": null,
   "metadata": {},
   "outputs": [],
   "source": []
  },
  {
   "cell_type": "code",
   "execution_count": 3,
   "metadata": {},
   "outputs": [
    {
     "ename": "NameError",
     "evalue": "name 'results' is not defined",
     "output_type": "error",
     "traceback": [
      "\u001b[1;31m---------------------------------------------------------------------------\u001b[0m",
      "\u001b[1;31mNameError\u001b[0m                                 Traceback (most recent call last)",
      "\u001b[1;32m<ipython-input-3-3a00460710b5>\u001b[0m in \u001b[0;36m<module>\u001b[1;34m\u001b[0m\n\u001b[0;32m      3\u001b[0m \u001b[0mdimensionality\u001b[0m \u001b[1;33m=\u001b[0m \u001b[1;36m2\u001b[0m\u001b[1;33m\u001b[0m\u001b[1;33m\u001b[0m\u001b[0m\n\u001b[0;32m      4\u001b[0m \u001b[1;33m\u001b[0m\u001b[0m\n\u001b[1;32m----> 5\u001b[1;33m \u001b[0my\u001b[0m \u001b[1;33m=\u001b[0m \u001b[0mresults\u001b[0m\u001b[1;33m[\u001b[0m\u001b[1;34m'all_y_hidden'\u001b[0m\u001b[1;33m]\u001b[0m\u001b[1;33m\u001b[0m\u001b[1;33m\u001b[0m\u001b[0m\n\u001b[0m\u001b[0;32m      6\u001b[0m \u001b[0mprint\u001b[0m\u001b[1;33m(\u001b[0m\u001b[0my\u001b[0m\u001b[1;33m.\u001b[0m\u001b[0mshape\u001b[0m\u001b[1;33m)\u001b[0m\u001b[1;33m\u001b[0m\u001b[1;33m\u001b[0m\u001b[0m\n\u001b[0;32m      7\u001b[0m \u001b[0mrdms\u001b[0m \u001b[1;33m=\u001b[0m \u001b[0mnp\u001b[0m\u001b[1;33m.\u001b[0m\u001b[0mempty\u001b[0m\u001b[1;33m(\u001b[0m\u001b[1;33m(\u001b[0m\u001b[1;36m2\u001b[0m\u001b[1;33m,\u001b[0m\u001b[0mN_RUNS\u001b[0m\u001b[1;33m,\u001b[0m\u001b[1;36m50\u001b[0m\u001b[1;33m,\u001b[0m\u001b[1;36m50\u001b[0m\u001b[1;33m)\u001b[0m\u001b[1;33m)\u001b[0m\u001b[1;33m\u001b[0m\u001b[1;33m\u001b[0m\u001b[0m\n",
      "\u001b[1;31mNameError\u001b[0m: name 'results' is not defined"
     ]
    }
   ],
   "source": [
    "# perform mds \n",
    "# hidden layer mds of endpoints\n",
    "dimensionality = 2\n",
    "\n",
    "y = results['all_y_hidden']\n",
    "print(y.shape)\n",
    "rdms = np.empty((2,N_RUNS,50,50))\n",
    "for ii in range(N_RUNS):\n",
    "    rdms[0,ii,:,:] = squareform(pdist(y[0,ii,:,:].T,metric='euclidean'))\n",
    "for ii in range(N_RUNS):\n",
    "    rdms[1,ii,:,:] = squareform(pdist(y[-1,ii,:,:].T,metric='euclidean'))\n",
    "\n",
    "labels = ['feature learning regime', 'lazy learning regime']\n",
    "fig=plt.figure(1,figsize=(10, 4), dpi= 80, facecolor='w', edgecolor='k')\n",
    "for ii in range(2):\n",
    "    plt.subplot(1,2,ii+1)\n",
    "    plt.imshow(np.mean(rdms[ii,:,:,:],0))\n",
    "    plt.title(labels[ii])\n",
    "\n",
    "\n",
    "embedding = MDS(n_components=3,n_init=10,max_iter=10000,metric=True)\n",
    "\n",
    "xyz_rich = embedding.fit_transform(np.mean(rdms[0,:,:,:],0))\n",
    "xyz_lazy = embedding.fit_transform(np.mean(rdms[1,:,:,:],0))\n",
    "embeddings = {'rich':xyz_rich, 'lazy':xyz_lazy}\n",
    "\n",
    "\n"
   ]
  },
  {
   "cell_type": "code",
   "execution_count": 27,
   "metadata": {},
   "outputs": [
    {
     "data": {
      "image/png": "[encoded data removed]",
      "text/plain": [
       "<Figure size 814.961x389.764 with 2 Axes>"
      ]
     },
     "metadata": {},
     "output_type": "display_data"
    }
   ],
   "source": [
    "theta_x = 180\n",
    "theta_y = 280\n",
    "theta_z = 10+90\n",
    "\n",
    "xyz_rot = rotate(embeddings['rich'],theta_x,axis='x')\n",
    "xyz_rot = rotate(xyz_rot,theta_y,axis='y')\n",
    "xyz_rot = rotate(xyz_rot,theta_z,axis='z')\n",
    "# xyz_rot[:,2] = -xyz_rot[:,2]\n",
    "plt.close()\n",
    "mm = 1/25.4\n",
    "fig = plt.figure(2,figsize=(69*mm, 33*mm), dpi= 300, facecolor='w', edgecolor='k')\n",
    "\n",
    "plot_MDS_embeddings_2D(xyz_rot,fig,fig_id=2,axlims=3.5)\n"
   ]
  },
  {
   "cell_type": "markdown",
   "metadata": {},
   "source": [
    "## display model rdms + mds"
   ]
  },
  {
   "cell_type": "code",
   "execution_count": 4,
   "metadata": {},
   "outputs": [],
   "source": [
    "\n",
    "def gen_modelrdms_all(ctx_offset=1):\n",
    "    models = []\n",
    "    xyzs = []\n",
    "    ctx = np.concatenate((ctx_offset*np.ones((25,1)),np.zeros((25,1))),axis=0).reshape(50,1)\n",
    "    ## model rdms:\n",
    "    a,b = np.meshgrid(np.linspace(-2,2,5),np.linspace(-2,2,5))\n",
    "    # grid model\n",
    "    gridm = np.concatenate((a.flatten()[np.newaxis,:],b.flatten()[np.newaxis,:]),axis=0).T\n",
    "    gridm = np.concatenate((np.tile(gridm,(2,1)),ctx),axis=1)\n",
    "    models.append(squareform(pdist(gridm,metric='euclidean')))\n",
    "    xyzs.append(gridm)\n",
    "\n",
    "    # rotated grid model \n",
    "    gridm = np.concatenate((a.flatten()[np.newaxis,:],b.flatten()[np.newaxis,:]),axis=0).T\n",
    "    gridm = np.tile(gridm,(2,1))\n",
    "    gridm[25:, :] = gridm[25:, :] @ np.array([[np.cos(np.deg2rad(270)), -np.sin(np.deg2rad(270))], [np.sin(np.deg2rad(270)), np.cos(np.deg2rad(270))]])\n",
    "    gridm = np.concatenate((gridm,ctx),axis=1)\n",
    "    models.append(squareform(pdist(gridm,metric='euclidean')))\n",
    "    xyzs.append(gridm)\n",
    "\n",
    "    # orthogonal model\n",
    "    orthm = np.concatenate((np.concatenate((a.flatten()[np.newaxis,:],np.zeros((1,25))),axis=0).T,\n",
    "                            np.concatenate((np.zeros((1,25)),b.flatten()[np.newaxis,:]),axis=0).T),axis=0)\n",
    "    orthm = np.concatenate((orthm,ctx),axis=1)\n",
    "    models.append(squareform(pdist(orthm,metric='euclidean')))\n",
    "    xyzs.append(orthm)\n",
    "\n",
    "\n",
    "    # parallel model \n",
    "    a = a.flatten()\n",
    "    b = b.flatten()\n",
    "\n",
    "    ta = np.stack((a,np.zeros((25))),axis=1)\n",
    "    tb = np.stack((np.zeros(25),b),axis=1)\n",
    "    theta = np.radians(-90)\n",
    "    c, s = np.cos(theta), np.sin(theta)\n",
    "    R = np.array(((c, -s), (s, c)))\n",
    "\n",
    "    parm = np.concatenate((ta.dot(R),tb),axis=0)\n",
    "    parm = np.concatenate((parm,ctx),axis=1)\n",
    "    models.append(squareform(pdist(parm,metric='euclidean')))\n",
    "    xyzs.append(parm)\n",
    "\n",
    "    # only branchiness model\n",
    "    obm = np.concatenate((a[:,np.newaxis],a[:,np.newaxis]),axis=0)\n",
    "\n",
    "    models.append(squareform(pdist(obm,metric='euclidean')))\n",
    "    obm = np.concatenate((obm,np.zeros((50,2))),axis=1)\n",
    "    xyzs.append(obm)\n",
    "\n",
    "    # only leafiness model\n",
    "    olm = np.concatenate((b[:,np.newaxis],b[:,np.newaxis]),axis=0)\n",
    "    models.append(squareform(pdist(olm,metric='euclidean')))\n",
    "    olm = np.concatenate((olm,np.zeros((50,2))),axis=1)\n",
    "\n",
    "    xyzs.append(olm)\n",
    "    \n",
    "\n",
    "    # diagonal model\n",
    "    ta = np.stack((a,b),axis=1)\n",
    "    tb = np.stack((a,b),axis=1)\n",
    "    theta = np.radians(45)\n",
    "    c, s = np.cos(theta), np.sin(theta)\n",
    "    R = np.array((c, s))\n",
    "\n",
    "    diagm = np.concatenate((ta.dot(R),tb.dot(R)),axis=0)[:,np.newaxis]\n",
    "    \n",
    "    diagm = np.concatenate((diagm,ctx),axis=1)\n",
    "    models.append(squareform(pdist(diagm,metric='euclidean')))\n",
    "    diagm = np.concatenate((diagm,np.zeros((50,1))),axis=1)\n",
    "    xyzs.append(diagm)\n",
    "\n",
    "\n",
    "\n",
    " \n",
    "    # construct design matrix\n",
    "    print([x.shape for x in xyzs])\n",
    "    xyzs = np.asarray(xyzs)\n",
    "    \n",
    "    rdms = np.asarray(models)  \n",
    "\n",
    "    return rdms,xyzs\n",
    "\n",
    "\n",
    "\n"
   ]
  },
  {
   "cell_type": "code",
   "execution_count": 5,
   "metadata": {},
   "outputs": [
    {
     "name": "stdout",
     "output_type": "stream",
     "text": [
      "[(50, 3), (50, 3), (50, 3), (50, 3), (50, 3), (50, 3), (50, 3)]\n"
     ]
    }
   ],
   "source": [
    "%matplotlib qt\n",
    "rdms,xyzs = gen_modelrdms_all()\n",
    "mds = MDS(n_components=3,dissimilarity='precomputed',max_iter=1000)\n",
    "for ii,rdm,xyz in zip(np.arange(len(rdms)),rdms,xyzs):\n",
    "    plt.figure(ii+1)\n",
    "    plt.imshow(rdm)\n",
    "    # xyz = mds.fit_transform(r/dm)\n",
    "    fig = plt.figure((ii+1)*10,dpi=300)\n",
    "    plot_MDS_embeddings_2D(xyz,fig,fig_id=(ii+1)*10)"
   ]
  },
  {
   "cell_type": "code",
   "execution_count": 21,
   "metadata": {},
   "outputs": [],
   "source": [
    "fig = plt.figure((ii+1)*10,dpi=300)\n",
    "plot_MDS_embeddings_2D(xyzs[-1,:,:],fig,fig_id=(ii+1)*10,axlims=3.5)"
   ]
  },
  {
   "cell_type": "code",
   "execution_count": 16,
   "metadata": {},
   "outputs": [
    {
     "name": "stdout",
     "output_type": "stream",
     "text": [
      "(3, 50, 3)\n"
     ]
    }
   ],
   "source": [
    "# display model rdms\n",
    "%matplotlib qt\n",
    "_,_,xyz = gen_modelrdms(monitor=0)\n",
    "xyz /= np.max(xyz)\n",
    "print(xyz.shape)\n",
    "plt.close()\n",
    "mm = 1/25.4\n",
    "fig = plt.figure(2,figsize=(210*mm, 210*mm), dpi= 300, facecolor='w', edgecolor='k')\n",
    "plt.figure(2)\n",
    "# grid model    \n",
    "plt.subplot(2,3,1)\n",
    "plot_grid2(xyz[0,0:25,[0,1]].T,line_colour=(255/255,102/255,0),fig_id=2,line_width=1)\n",
    "plot_grid2(xyz[0,25:,[0,1]].T,line_colour=(0, 0, .5),fig_id=2,line_width=1)\n",
    "scatter_mds_2(xyz[0,:,[0,1]].T,fig_id=2,task_id='both',marker_scale=2)\n",
    "ax = plt.gca()\n",
    "ax.set_xlim([-1.5,1.5])\n",
    "ax.set_ylim([-1.5,1.5])    \n",
    "xls = plt.xticks()[0]\n",
    "plt.xticks(ticks=[xls[0],xls[-1]],fontsize=14)\n",
    "yls = plt.yticks()[0]\n",
    "plt.yticks(ticks=[yls[0],yls[-1]],fontsize=14)\n",
    "plt.xlabel('Dimension 1',fontsize=14)\n",
    "plt.ylabel('Dimension 2',fontsize=14)\n",
    "ax = plt.gca()\n",
    "ax.spines['right'].set_visible(False)\n",
    "ax.spines['top'].set_visible(False)\n",
    "plt.tight_layout()\n",
    "ax.set_aspect('equal', 'box')\n",
    "\n",
    "plt.title('Grid Model')\n",
    "plt.subplot(2,3,4)\n",
    "plot_grid2(xyz[0,0:25,[1,2]].T,line_colour=(255/255,102/255,0),fig_id=2,line_width=1)\n",
    "plot_grid2(xyz[0,25:,[1,2]].T,line_colour=(0, 0, .5),fig_id=2,line_width=1)\n",
    "scatter_mds_2(xyz[0,:,[1,2]].T,fig_id=2,task_id='both',marker_scale=2)\n",
    "ax = plt.gca()\n",
    "ax.set_xlim([-1.5,1.5])\n",
    "ax.set_ylim([-1.5,1.5])\n",
    "xls = plt.xticks()[0]\n",
    "plt.xticks(ticks=[xls[0],xls[-1]],fontsize=14)\n",
    "yls = plt.yticks()[0]\n",
    "plt.yticks(ticks=[yls[0],yls[-1]],fontsize=14)\n",
    "plt.xlabel('Dimension 2',fontsize=14)\n",
    "plt.ylabel('Dimension 3',fontsize=14)\n",
    "ax = plt.gca()\n",
    "ax.spines['right'].set_visible(False)\n",
    "ax.spines['top'].set_visible(False)\n",
    "plt.tight_layout()\n",
    "ax.set_aspect('equal', 'box')\n",
    "\n",
    "\n",
    "# orthogonal model    \n",
    "plt.subplot(2,3,2)\n",
    "plot_grid2(xyz[1,0:25,[1,0]].T,line_colour=(255/255,102/255,0),fig_id=2,line_width=1)\n",
    "plot_grid2(xyz[1,25:,[1,0]].T,line_colour=(0, 0, .5),fig_id=2,line_width=1)\n",
    "scatter_mds_2(xyz[1,0:25,[1,0]].T,fig_id=2,task_id='a',marker_scale=2)\n",
    "scatter_mds_2(xyz[1,25:,[1,0]].T,fig_id=2,task_id='b',marker_scale=2)\n",
    "ax = plt.gca()\n",
    "ax.set_xlim([-1.5,1.5])\n",
    "ax.set_ylim([-1.5,1.5])    \n",
    "xls = plt.xticks()[0]\n",
    "plt.xticks(ticks=[xls[0],xls[-1]],fontsize=14)\n",
    "yls = plt.yticks()[0]\n",
    "plt.yticks(ticks=[yls[0],yls[-1]],fontsize=14)\n",
    "plt.xlabel('Dimension 1',fontsize=14)\n",
    "plt.ylabel('Dimension 2',fontsize=14)\n",
    "ax = plt.gca()\n",
    "ax.spines['right'].set_visible(False)\n",
    "ax.spines['top'].set_visible(False)\n",
    "plt.tight_layout()\n",
    "ax.set_aspect('equal', 'box')\n",
    "\n",
    "plt.title('Orthogonal Model')\n",
    "plt.subplot(2,3,5)\n",
    "plot_grid2(xyz[1,0:25,[0,2]].T,line_colour=(255/255,102/255,0),fig_id=2,line_width=1)\n",
    "plot_grid2(xyz[1,25:,[0,2]].T,line_colour=(0, 0, .5),fig_id=2,line_width=1)\n",
    "scatter_mds_2(xyz[1,:,[0,2]].T,fig_id=2,task_id='both',marker_scale=2)\n",
    "ax = plt.gca()\n",
    "ax.set_xlim([-1.5,1.5])\n",
    "ax.set_ylim([-1.5,1.5])\n",
    "xls = plt.xticks()[0]\n",
    "plt.xticks(ticks=[xls[0],xls[-1]],fontsize=14)\n",
    "yls = plt.yticks()[0]\n",
    "plt.yticks(ticks=[yls[0],yls[-1]],fontsize=14)\n",
    "plt.xlabel('Dimension 2',fontsize=14)\n",
    "plt.ylabel('Dimension 3',fontsize=14)\n",
    "ax = plt.gca()\n",
    "ax.spines['right'].set_visible(False)\n",
    "ax.spines['top'].set_visible(False)\n",
    "plt.tight_layout()\n",
    "ax.set_aspect('equal', 'box')\n",
    "\n",
    "\n",
    "# parallel model    \n",
    "plt.subplot(2,3,3)\n",
    "plot_grid2(xyz[2,0:25,[0,1]].T,line_colour=(255/255,102/255,0),fig_id=2,line_width=1)\n",
    "plot_grid2(xyz[2,25:,[0,1]].T,line_colour=(0, 0, .5),fig_id=2,line_width=1)\n",
    "scatter_mds_2(xyz[2,:,[0,1]].T,fig_id=2,task_id='both',marker_scale=2)\n",
    "ax = plt.gca()\n",
    "ax.set_xlim([-1.5,1.5])\n",
    "ax.set_ylim([-1.5,1.5])    \n",
    "xls = plt.xticks()[0]\n",
    "plt.xticks(ticks=[xls[0],xls[-1]],fontsize=14)\n",
    "yls = plt.yticks()[0]\n",
    "plt.yticks(ticks=[yls[0],yls[-1]],fontsize=14)\n",
    "plt.xlabel('Dimension 1',fontsize=14)\n",
    "plt.ylabel('Dimension 2',fontsize=14)\n",
    "ax = plt.gca()\n",
    "ax.spines['right'].set_visible(False)\n",
    "ax.spines['top'].set_visible(False)\n",
    "plt.tight_layout()\n",
    "ax.set_aspect('equal', 'box')\n",
    "\n",
    "plt.title('Parallel Model')\n",
    "plt.subplot(2,3,6)\n",
    "plot_grid2(xyz[2,0:25,[1,2]].T,line_colour=(255/255,102/255,0),fig_id=2,line_width=1)\n",
    "plot_grid2(xyz[2,25:,[1,2]].T,line_colour=(0, 0, .5),fig_id=2,line_width=1)\n",
    "scatter_mds_2(xyz[2,:,[1,2]].T,fig_id=2,task_id='both',marker_scale=2)\n",
    "ax = plt.gca()\n",
    "ax.set_xlim([-1.5,1.5])\n",
    "ax.set_ylim([-1.5,1.5])\n",
    "xls = plt.xticks()[0]\n",
    "plt.xticks(ticks=[xls[0],xls[-1]],fontsize=14)\n",
    "yls = plt.yticks()[0]\n",
    "plt.yticks(ticks=[yls[0],yls[-1]],fontsize=14)\n",
    "plt.xlabel('Dimension 2',fontsize=14)\n",
    "plt.ylabel('Dimension 3',fontsize=14)\n",
    "ax = plt.gca()\n",
    "ax.spines['right'].set_visible(False)\n",
    "ax.spines['top'].set_visible(False)\n",
    "plt.tight_layout()\n",
    "ax.set_aspect('equal', 'box')\n"
   ]
  },
  {
   "cell_type": "markdown",
   "metadata": {},
   "source": [
    "# Revisions: CNN"
   ]
  },
  {
   "cell_type": "markdown",
   "metadata": {},
   "source": [
    "see pipeline_analyse_cnn.ipynb for details"
   ]
  },
  {
   "cell_type": "markdown",
   "metadata": {},
   "source": [
    "# Revisions: Human Behaviour & fMRI"
   ]
  },
  {
   "cell_type": "markdown",
   "metadata": {},
   "source": [
    "## behav: congruency "
   ]
  },
  {
   "cell_type": "code",
   "execution_count": 157,
   "metadata": {},
   "outputs": [],
   "source": [
    "datadir = 'D:/DPHIL_01_TREES_FMRI/Paper/code/Data/Humans/part3_fmri/behav/scan/'\n",
    "data = loadmat(datadir+'congruency_analysis_data.mat')\n",
    "badsubs = np.array([28])-1\n",
    "data.keys()\n",
    "\n",
    "congruent_trials = ((1,1),(1,2),(2,1),(2,2),(4,4),(4,5),(5,4),(5,5))\n",
    "incongruent_trials = ((1,4),(1,5),(2,4),(2,5),(4,1),(4,2),(5,1),(5,2))\n",
    "# get rid of annoying empty dims (due to conversion from MATLAB to np)\n",
    "for k,v in data.items():\n",
    "    if isinstance(data[k],np.ndarray):\n",
    "        data[k] = v.squeeze()\n",
    "accs_congruent = []\n",
    "accs_incongruent = []\n",
    "rts_congruent = []\n",
    "rts_incongruent = []\n",
    "for sid,rid in enumerate(data['rule_id']):\n",
    "    if sid not in badsubs:\n",
    "        b = data['branchiness'][sid,:]\n",
    "        l = data['leafiness'][sid,:]\n",
    "        acc = data['resp_correct'][sid,:]\n",
    "        rt = data['resp_rt'][sid,:]\n",
    "        if rid<3:\n",
    "            accs_congruent.append(np.mean([np.mean(acc[(b==i) & (l==j)]) for i,j in congruent_trials]))\n",
    "            accs_incongruent.append(np.mean([np.mean(acc[(b==i) & (l==j)]) for i,j in incongruent_trials]))\n",
    "            rts_congruent.append(np.nanmean([np.nanmean(rt[(b==i) & (l==j)]) for i,j in congruent_trials]))\n",
    "            rts_incongruent.append(np.nanmean([np.nanmean(rt[(b==i) & (l==j)]) for i,j in incongruent_trials]))\n",
    "        else:\n",
    "            accs_congruent.append(np.mean([np.mean(acc[(b==i) & (l==j)]) for i,j in incongruent_trials]))\n",
    "            accs_incongruent.append(np.mean([np.mean(acc[(b==i) & (l==j)]) for i,j in congruent_trials]))\n",
    "            rts_congruent.append(np.nanmean([np.nanmean(rt[(b==i) & (l==j)]) for i,j in incongruent_trials]))\n",
    "            rts_incongruent.append(np.nanmean([np.nanmean(rt[(b==i) & (l==j)]) for i,j in congruent_trials]))\n",
    "\n",
    "rts_congruent = np.asarray(rts_congruent)\n",
    "rts_incongruent = np.asarray(rts_incongruent)\n",
    "accs_congruent = np.asarray(accs_congruent)\n",
    "accs_incongruent = np.asarray(accs_incongruent)\n",
    "rts_congruent *=1000\n",
    "rts_incongruent *=1000"
   ]
  },
  {
   "cell_type": "code",
   "execution_count": 158,
   "metadata": {},
   "outputs": [
    {
     "name": "stdout",
     "output_type": "stream",
     "text": [
      "congruency effect in RT: \tt(31)=-5.11, p=0.0\n"
     ]
    }
   ],
   "source": [
    "\n",
    "t,p = ttest_1samp(rts_congruent-rts_incongruent,0)\n",
    "print(f'congruency effect in RT: \\tt(31)={t.round(2)}, p={p.round(3)}')"
   ]
  },
  {
   "cell_type": "code",
   "execution_count": 162,
   "metadata": {},
   "outputs": [
    {
     "name": "stdout",
     "output_type": "stream",
     "text": [
      "congruency effect in accuracy:\t t(31)=2.68, p=0.012\n",
      "congruency effect in RT: \tt(31)=-5.11, p=0.0\n"
     ]
    }
   ],
   "source": [
    "f, axs = plt.subplots(1,2,figsize=(2,3),dpi=300)\n",
    "axs = axs.ravel()\n",
    "axs[0].bar(np.arange(2),[np.nanmean(accs_congruent),np.nanmean(accs_incongruent)],yerr=[np.std(accs_congruent)/np.sqrt(31),np.std(accs_incongruent)/np.sqrt(31)],width=0.6,color=['green','red'])\n",
    "_ = axs[0].set(xticks=(0,1),xlabel='Trials',ylabel='accuracy (%)',yticks=np.arange(0,1.1,0.25),yticklabels=np.arange(0,101,25),xticklabels=('congruent','incongruent'),ylim=(.5,1),title='Accuracy')\n",
    "axs[0].spines['top'].set_visible(False)\n",
    "axs[0].spines['right'].set_visible(False)\n",
    "axs[0].plot((0,1),(0.95,0.95),'k-',linewidth=0.5)\n",
    "t,p = ttest_1samp(accs_congruent-accs_incongruent,0)\n",
    "print(f'congruency effect in accuracy:\\t t(31)={t.round(2)}, p={p.round(3)}')\n",
    "if t > 1.96:\n",
    "    if p <0.0001:\n",
    "        ts = '*'*4\n",
    "    elif p <0.001:\n",
    "        ts = '*'*3\n",
    "    elif p<0.01:\n",
    "        ts = '*'*2\n",
    "    elif p<0.05:\n",
    "        ts = '*'\n",
    "    axs[0].text(.5,0.95,ts,{'fontsize':6,'ha':'center','fontweight':'bold'})\n",
    "\n",
    "axs[1].bar(np.arange(2),[np.nanmean(rts_congruent),np.nanmean(rts_incongruent)],yerr=[np.std(rts_congruent)/np.sqrt(31),np.std(rts_incongruent)/np.sqrt(31)],width=0.6,color=['green','red'])\n",
    "_ = axs[1].set(xticks=(0,1),xlabel='Trials',ylabel='reaction time (ms)',xticklabels=('congruent','incongruent'),title='Reaction Time')\n",
    "axs[1].spines['top'].set_visible(False)\n",
    "axs[1].spines['right'].set_visible(False)\n",
    "axs[1].plot((0,1),(990,990),'k-',linewidth=0.5)\n",
    "\n",
    "t,p = ttest_1samp(rts_congruent-rts_incongruent,0)\n",
    "print(f'congruency effect in RT: \\tt(31)={t.round(2)}, p={p.round(3)}')\n",
    "if np.abs(t) > 1.96:\n",
    "    if p <0.0001:\n",
    "        ts = '*'*4\n",
    "    elif p <0.001:\n",
    "        ts = '*'*3\n",
    "    elif p<0.01:\n",
    "        ts = '*'*2\n",
    "    elif p<0.05:\n",
    "        ts = '*'\n",
    "    axs[1].text(.5,995,ts,{'fontsize':6,'ha':'center','fontweight':'bold'})\n",
    "    \n"
   ]
  },
  {
   "cell_type": "code",
   "execution_count": 71,
   "metadata": {},
   "outputs": [
    {
     "name": "stdout",
     "output_type": "stream",
     "text": [
      "acc congruent: 0.892 acc incongruent: 0.851\n",
      "rt congruent: 899 ms,  rt incongruent: 930 ms.\n"
     ]
    }
   ],
   "source": [
    "print(f'acc congruent: {np.round(np.mean(accs_congruent),3)} acc incongruent: {np.round(np.mean(accs_incongruent),3)}')\n",
    "print(f'rt congruent: {(1000*np.nanmean(rts_congruent)).astype(np.int32)} ms,  rt incongruent: {(1000*np.nanmean(rts_incongruent)).astype(np.int32)} ms.')"
   ]
  },
  {
   "cell_type": "markdown",
   "metadata": {},
   "source": [
    "## fMRI: beta weights within cross-validated ROIs"
   ]
  },
  {
   "cell_type": "code",
   "execution_count": 2,
   "metadata": {},
   "outputs": [],
   "source": []
  },
  {
   "cell_type": "code",
   "execution_count": 23,
   "metadata": {},
   "outputs": [],
   "source": [
    "from statsmodels.stats.multitest import multipletests\n",
    "\n",
    "_,p,_,alp = multipletests([0.04,0.001],alpha=0.05, method='bonferroni')"
   ]
  },
  {
   "cell_type": "code",
   "execution_count": 64,
   "metadata": {},
   "outputs": [
    {
     "name": "stdout",
     "output_type": "stream",
     "text": [
      "leftEVC [0.302 0.489 0.209]\n",
      "DLPFC [0. 0. 1.]\n",
      "MCC [0.003 0.002 0.995]\n",
      "PPC [0. 0. 1.]\n"
     ]
    }
   ],
   "source": [
    "for roi in ROIs:\n",
    "    results = loadmat(datadir + 'bmsresults_branchortho_branch_ortho_'+roi+'.mat')\n",
    "    print(roi+' ' + str(results['pep'].squeeze().round(3)))"
   ]
  },
  {
   "cell_type": "markdown",
   "metadata": {},
   "source": [
    "## fMRI: nested model comparison"
   ]
  },
  {
   "cell_type": "code",
   "execution_count": 115,
   "metadata": {},
   "outputs": [
    {
     "name": "stdout",
     "output_type": "stream",
     "text": [
      "leftEVC,\t model 1: mu=0.38+-0.08 \t z=0.80, \t p=0.211\n",
      "leftEVC,\t model 2: mu=0.50+-0.08 \t z=2.29, \t p=0.011\n",
      "leftEVC,\t model 3: mu=0.12+-0.05 \t z=-3.08, \t p=0.999\n",
      "DLPFC,\t model 1: mu=0.15+-0.06 \t z=-2.86, \t p=0.998\n",
      "DLPFC,\t model 2: mu=0.03+-0.02 \t z=-4.28, \t p=1.000\n",
      "DLPFC,\t model 3: mu=0.82+-0.06 \t z=4.51, \t p=0.000\n",
      "MCC,\t model 1: mu=0.20+-0.06 \t z=-2.00, \t p=0.977\n",
      "MCC,\t model 2: mu=0.07+-0.04 \t z=-3.69, \t p=1.000\n",
      "MCC,\t model 3: mu=0.73+-0.07 \t z=4.19, \t p=0.000\n",
      "PPC,\t model 1: mu=0.12+-0.05 \t z=-3.08, \t p=0.999\n",
      "PPC,\t model 2: mu=0.04+-0.03 \t z=-4.24, \t p=1.000\n",
      "PPC,\t model 3: mu=0.84+-0.06 \t z=4.57, \t p=0.000\n"
     ]
    }
   ],
   "source": [
    "from scipy.stats import norm\n",
    "%matplotlib qt\n",
    "\n",
    "SMALL_SIZE = 6\n",
    "MEDIUM_SIZE = 6\n",
    "BIGGER_SIZE = 6\n",
    "\n",
    "plt.rc('font', size=SMALL_SIZE)          # controls default text sizes\n",
    "plt.rc('axes', titlesize=SMALL_SIZE)     # fontsize of the axes title\n",
    "plt.rc('axes', labelsize=MEDIUM_SIZE)    # fontsize of the x and y labels\n",
    "plt.rc('xtick', labelsize=SMALL_SIZE)    # fontsize of the tick labels\n",
    "plt.rc('ytick', labelsize=SMALL_SIZE)    # fontsize of the tick labels\n",
    "plt.rc('legend', fontsize=SMALL_SIZE)    # legend fontsize\n",
    "plt.rc('figure', titlesize=BIGGER_SIZE)  # fontsize of the figure title\n",
    "\n",
    "\n",
    "# plot peps and emfs for each ROI\n",
    "datadir = 'D:/DPHIL_01_TREES_FMRI/Paper/code/Results/Humans/RSA/ROIs/'\n",
    "ROIs = ['leftEVC','DLPFC','MCC','PPC']\n",
    "\n",
    "for roi in ROIs:\n",
    "    results = loadmat(datadir + 'bmsresults_branchortho_branch_ortho_'+roi+'.mat')\n",
    "    mm = 1/25.4\n",
    "    \n",
    "    f,axs = plt.subplots(1,2,figsize=(100*mm,60*mm),dpi=300)\n",
    "    axs = axs.ravel()    \n",
    "    axs[0].bar(np.arange(0,3),results['pep'].squeeze())\n",
    "    axs[0].set(xticks=(0,1,2),xlabel='Model',ylabel=('PEP'),ylim=(0,1))\n",
    "    axs[0].set_xticklabels(labels=('branch&ortho','branch','ortho'),rotation=90)\n",
    "    axs[0].plot(np.arange(-1,4),[0.33]*5,'r--')\n",
    "    axs[0].set_xlim(-0.6,2.6)\n",
    "    axs[0].spines['top'].set_visible(False)\n",
    "    axs[0].spines['right'].set_visible(False)\n",
    "    for mod in range(3):\n",
    "        mu = np.mean(results['emf'][mod,:])\n",
    "        err = np.std(results['emf'][mod,:])/np.sqrt(31)\n",
    "        axs[1].bar(mod,mu,yerr=err,color=[0,.4,.4])\n",
    "        s,p = wilcoxon(results['emf'][mod,:]-0.33,alternative='greater')\n",
    "        z = norm.isf(p)\n",
    "        print(f'{roi},\\t model {mod+1}: mu={mu:.2f}+-{err:.2f} \\t z={z:.2f}, \\t p={p:.3f}')\n",
    "        if z>1.96:\n",
    "            if p <0.0001:\n",
    "                ts = '*'*4\n",
    "            elif p <0.001:\n",
    "                ts = '*'*3\n",
    "            elif p<0.01:\n",
    "                ts = '*'*2\n",
    "            elif p<0.05:\n",
    "                ts = '*'\n",
    "            plt.text(mod,0.9,ts,{'fontsize':6,'ha':'center','fontweight':'bold'})\n",
    "    axs[1].set(xticks=(0,1,2),xlabel='Model',ylabel=('EMF'),ylim=(0,1))\n",
    "    axs[1].set_xticklabels(labels=('branch&ortho','branch','ortho'),rotation=90)\n",
    "    plt.xticks(fontsize=6)\n",
    "    plt.yticks(fontsize=6)\n",
    "    axs[1].plot(np.arange(-1,4),[0.33]*5,'r--')\n",
    "    axs[1].set_xlim(-0.6,2.6)\n",
    "    axs[1].spines['top'].set_visible(False)\n",
    "    axs[1].spines['right'].set_visible(False)\n",
    "    plt.suptitle('RFX-BMS ROI: '+roi)\n",
    "    plt.tight_layout()\n",
    "# perform signed rank tests on emfs within each ROI"
   ]
  },
  {
   "cell_type": "markdown",
   "metadata": {},
   "source": [
    "## fmri: dimensionality of patterns (scree plot)"
   ]
  },
  {
   "cell_type": "code",
   "execution_count": 3,
   "metadata": {},
   "outputs": [
    {
     "name": "stdout",
     "output_type": "stream",
     "text": [
      "9\n",
      "15\n",
      "19\n",
      "19\n"
     ]
    },
    {
     "data": {
      "text/plain": [
       "<matplotlib.legend.Legend at 0x1f42e862af0>"
      ]
     },
     "execution_count": 3,
     "metadata": {},
     "output_type": "execute_result"
    }
   ],
   "source": [
    "datadir = 'D:/DPHIL_01_TREES_FMRI/Paper/code/Results/Humans/RSA/ROIs/'\n",
    "ROIs = ['leftEVC','DLPFC','MCC','PPC']\n",
    "rois = ['EVC','DLPFC','MCC','PPC']\n",
    "mm = 1/25.4\n",
    "%matplotlib qt\n",
    "plt.figure(figsize=(5,5))\n",
    "for roi in ROIs:\n",
    "    results = loadmat(datadir + 'groupAvg_singular_values_'+roi+'.mat')\n",
    "    evs = results['all_svs']**2\n",
    "    evs = evs/ np.sum(evs,1)[:,np.newaxis]\n",
    "    print(np.where(np.mean(np.cumsum(evs,1),0)>=0.95)[0][0])\n",
    "    plt.errorbar(np.arange(1,50+1),np.mean(np.cumsum(evs,1),0),marker='.',yerr=np.std(np.cumsum(evs,1),0)/np.sqrt(evs.shape[0]),linewidth=1,markersize=2)\n",
    "    ax = plt.gca()\n",
    "    ax.set(xlabel='principal component',ylabel='cumulative explained variance (%)',yticks=np.arange(0.4,1.1,.1),yticklabels=np.round(np.arange(0.4,1.1,.1)*100),title='Dimensionality of voxel patterns')\n",
    "plt.legend(rois,frameon=False)\n",
    "\n",
    "\n",
    "\n"
   ]
  },
  {
   "cell_type": "markdown",
   "metadata": {},
   "source": [
    "## fmri: cross-condition decoding"
   ]
  },
  {
   "cell_type": "code",
   "execution_count": null,
   "metadata": {},
   "outputs": [],
   "source": [
    "#TODO"
   ]
  },
  {
   "cell_type": "markdown",
   "metadata": {},
   "source": [
    "# Revisions: NHP data"
   ]
  },
  {
   "cell_type": "markdown",
   "metadata": {},
   "source": [
    "## units: heatmaps with all task selective units. and add inferential statistics"
   ]
  },
  {
   "cell_type": "code",
   "execution_count": 2,
   "metadata": {},
   "outputs": [],
   "source": [
    "# see matlab figures"
   ]
  },
  {
   "cell_type": "code",
   "execution_count": null,
   "metadata": {},
   "outputs": [],
   "source": []
  }
 ],
 "metadata": {
  "interpreter": {
   "hash": "2d63b394658a9078018e7e05cb9933720ab9e0d07593ee5d2cb6a0fb76fad407"
  },
  "kernelspec": {
   "display_name": "Python 3.8.11 64-bit ('pytorch19': conda)",
   "name": "python3"
  },
  "language_info": {
   "codemirror_mode": {
    "name": "ipython",
    "version": 3
   },
   "file_extension": ".py",
   "mimetype": "text/x-python",
   "name": "python",
   "nbconvert_exporter": "python",
   "pygments_lexer": "ipython3",
   "version": "3.8.5"
  },
  "orig_nbformat": 2
 },
 "nbformat": 4,
 "nbformat_minor": 2
}
